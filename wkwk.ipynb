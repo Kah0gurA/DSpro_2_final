{
 "cells": [
  {
   "cell_type": "markdown",
   "metadata": {},
   "source": [
    "# DSプログラミング最終課題"
   ]
  },
  {
   "cell_type": "markdown",
   "metadata": {},
   "source": [
    "##  データの取得・保存"
   ]
  },
  {
   "cell_type": "markdown",
   "metadata": {},
   "source": [
    "### Webスクレイピング"
   ]
  },
  {
   "cell_type": "markdown",
   "metadata": {},
   "source": [
    "#### 2023/12/19"
   ]
  },
  {
   "cell_type": "code",
   "execution_count": 125,
   "metadata": {},
   "outputs": [],
   "source": [
    "# まずはwebスクレイピングを行う\n",
    "# 必要なライブラリのインポート\n",
    "from bs4 import BeautifulSoup\n",
    "import requests"
   ]
  },
  {
   "cell_type": "code",
   "execution_count": 126,
   "metadata": {},
   "outputs": [],
   "source": [
    "# タイムスリーパーをインストールする\n",
    "import time\n",
    "\n",
    "# アクセスしたいサイトのURLを変数に格納\n",
    "url_a = 'https://tenki.jp/past/2023/12/19/amedas/3/17/46091.html'\n",
    "\n",
    "# HTMLを取得し表示\n",
    "time.sleep(1)\n",
    "a = requests.get (url_a)\n",
    "a.encording = a.apparent_encoding"
   ]
  },
  {
   "cell_type": "code",
   "execution_count": 127,
   "metadata": {},
   "outputs": [
    {
     "name": "stdout",
     "output_type": "stream",
     "text": [
      "<class 'bs4.BeautifulSoup'>\n"
     ]
    }
   ],
   "source": [
    "# HTMLソースをBeautifulSoupオブジェクトに変換する\n",
    "a_bs = BeautifulSoup(a.content, 'html.parser') \n",
    "\n",
    "# オブジェクトの表示\n",
    "print(type(a_bs))"
   ]
  },
  {
   "cell_type": "code",
   "execution_count": 128,
   "metadata": {},
   "outputs": [
    {
     "data": {
      "text/plain": [
       "<!-- past/2023/12/19/amedas/3/17/46091.html map_area_id:3 map_area_name:関東・甲信地方 map_pref_id:17 map_pref_name:神奈川県 amedas_code:46091 amedas_name:海老名 public_date:2023-12-19 ## generate at 2023-12-22 21:29:28 -->\n",
       "<!DOCTYPE html>\n",
       "\n",
       "<html lang=\"ja\" prefix=\"og: http://ogp.me/ns#\">\n",
       "<head>\n",
       "<title>海老名(神奈川県)の過去のアメダス(2023年12月19日) - 日本気象協会 tenki.jp</title>\n",
       "<meta charset=\"utf-8\"/>\n",
       "<meta content=\"天気,天気予報,台風,地震,豪雨,tenki.jp\" name=\"keywords\"/>\n",
       "<meta content=\"海老名(神奈川県)のアメダスによる2023年12月19日の気温、降水量、風向・風速、日照時間、積雪深の観測情報を閲覧できます。\" name=\"description\"/>\n",
       "<meta content=\"telephone=no\" name=\"format-detection\"/>\n",
       "<meta content=\"IE=edge\" http-equiv=\"X-UA-Compatible\"/>\n",
       "<meta content=\"only screen and (min-width: 640px)\" name=\"supported-media\"/>\n",
       "<!-- prefetch dns --><link href=\"yjtag.yahoo.co.jp\" rel=\"dns-prefetch\"/><link href=\"yj-a.p.adnxs.com\" rel=\"dns-prefetch\"/><link href=\"yads.yjtag.yahoo.co.jp\" rel=\"dns-prefetch\"/><link href=\"yads.c.yimg.jp\" rel=\"dns-prefetch\"/><link href=\"y.one.impact-ad.jp\" rel=\"dns-prefetch\"/><link href=\"y.nakanohito.jp\" rel=\"dns-prefetch\"/><link href=\"x.bidswitch.net\" rel=\"dns-prefetch\"/><link href=\"securepubads.g.doubleclick.net\" rel=\"dns-prefetch\"/><link href=\"www.googletagmanager.com\" rel=\"dns-prefetch\"/><link href=\"www.google-analytics.com\" rel=\"dns-prefetch\"/><link href=\"www.google.com\" rel=\"dns-prefetch\"/><link href=\"www.facebook.com\" rel=\"dns-prefetch\"/><link href=\"widgets.outbrain.com\" rel=\"dns-prefetch\"/><link href=\"vcdn.adnxs.com\" rel=\"dns-prefetch\"/><link href=\"ums.adtechjp.com\" rel=\"dns-prefetch\"/><link href=\"tpc.googlesyndication.com\" rel=\"dns-prefetch\"/><link href=\"tg.socdm.com\" rel=\"dns-prefetch\"/><link href=\"tenki.jp\" rel=\"dns-prefetch\"/><link href=\"taxel.jp\" rel=\"dns-prefetch\"/><link href=\"tap2-cdn.rubiconproject.com\" rel=\"dns-prefetch\"/><link href=\"t.wayfair.com\" rel=\"dns-prefetch\"/><link href=\"syndication.twitter.com\" rel=\"dns-prefetch\"/><link href=\"sync.mathtag.com\" rel=\"dns-prefetch\"/><link href=\"sync.im-apps.net\" rel=\"dns-prefetch\"/><link href=\"sync.fout.jp\" rel=\"dns-prefetch\"/><link href=\"sync.ad-stir.com\" rel=\"dns-prefetch\"/><link href=\"stats.g.doubleclick.net\" rel=\"dns-prefetch\"/><link href=\"stats.aws.rubiconproject.com\" rel=\"dns-prefetch\"/><link href=\"staticxx.facebook.com\" rel=\"dns-prefetch\"/><link href=\"static.tenki.jp\" rel=\"dns-prefetch\"/><link href=\"ssp-sync.i-mobile.co.jp\" rel=\"dns-prefetch\"/><link href=\"ssp.send.microad.jp\" rel=\"dns-prefetch\"/><link href=\"ssl.socdm.com\" rel=\"dns-prefetch\"/><link href=\"s-rtb.send.microad.jp\" rel=\"dns-prefetch\"/><link href=\"speee-ad.akamaized.net\" rel=\"dns-prefetch\"/><link href=\"sp.gmossp-sp.jp\" rel=\"dns-prefetch\"/><link href=\"smrtpxl.advertising.com\" rel=\"dns-prefetch\"/><link href=\"sin1-ib.adnxs.com\" rel=\"dns-prefetch\"/><link href=\"simage2.pubmatic.com\" rel=\"dns-prefetch\"/><link href=\"sgs-api.interactive-it4m.jp\" rel=\"dns-prefetch\"/><link href=\"secure.leadback.advertising.com\" rel=\"dns-prefetch\"/><link href=\"secure.adnxs.com\" rel=\"dns-prefetch\"/><link href=\"s-cs.send.microad.jp\" rel=\"dns-prefetch\"/><link href=\"sb.scorecardresearch.com\" rel=\"dns-prefetch\"/><link href=\"s.yjtag.jp\" rel=\"dns-prefetch\"/><link href=\"s.yimg.jp\" rel=\"dns-prefetch\"/><link href=\"s.update.rubiconproject.com\" rel=\"dns-prefetch\"/><link href=\"s.sh.adingo.jp\" rel=\"dns-prefetch\"/><link href=\"s.adroll.com\" rel=\"dns-prefetch\"/><link href=\"rt.gsspat.jp\" rel=\"dns-prefetch\"/><link href=\"q.adrta.com\" rel=\"dns-prefetch\"/><link href=\"platform.twitter.com\" rel=\"dns-prefetch\"/><link href=\"pixel.rubiconproject.com\" rel=\"dns-prefetch\"/><link href=\"pixel.adsafeprotected.com\" rel=\"dns-prefetch\"/><link href=\"pagead2.googlesyndication.com\" rel=\"dns-prefetch\"/><link href=\"p.rfihub.com\" rel=\"dns-prefetch\"/><link href=\"p.adsymptotic.com\" rel=\"dns-prefetch\"/><link href=\"optimized-by.rubiconproject.com\" rel=\"dns-prefetch\"/><link href=\"odr.mookie1.com\" rel=\"dns-prefetch\"/><link href=\"odb.outbrain.com\" rel=\"dns-prefetch\"/><link href=\"metric.gstatic.com\" rel=\"dns-prefetch\"/><link href=\"match.adsrvr.org\" rel=\"dns-prefetch\"/><link href=\"m.adnxs.com\" rel=\"dns-prefetch\"/><link href=\"log.outbrain.com\" rel=\"dns-prefetch\"/><link href=\"l.betrad.com\" rel=\"dns-prefetch\"/><link href=\"jwa-d.openx.net\" rel=\"dns-prefetch\"/><link href=\"js.orca-pass.net\" rel=\"dns-prefetch\"/><link href=\"js.monetize-ssp.com\" rel=\"dns-prefetch\"/><link href=\"js.fout.jp\" rel=\"dns-prefetch\"/><link href=\"js.app-cm.co.jp\" rel=\"dns-prefetch\"/><link href=\"jp-u.openx.net\" rel=\"dns-prefetch\"/><link href=\"jpmarket-d.openx.net\" rel=\"dns-prefetch\"/><link href=\"j.microad.net\" rel=\"dns-prefetch\"/><link href=\"ipv6.adrta.com\" rel=\"dns-prefetch\"/><link href=\"in.ybi.idcfcloud.net\" rel=\"dns-prefetch\"/><link href=\"in.treasuredata.com\" rel=\"dns-prefetch\"/><link href=\"img.macromill.com\" rel=\"dns-prefetch\"/><link href=\"img.ak.impact-ad.jp\" rel=\"dns-prefetch\"/><link href=\"images.taxel.jp\" rel=\"dns-prefetch\"/><link href=\"images.outbrain.com\" rel=\"dns-prefetch\"/><link href=\"im.ov.yahoo.co.jp\" rel=\"dns-prefetch\"/><link href=\"im.c.yimg.jp\" rel=\"dns-prefetch\"/><link href=\"ib.adnxs.com\" rel=\"dns-prefetch\"/><link href=\"i.socdm.com\" rel=\"dns-prefetch\"/><link href=\"i.adingo.jp\" rel=\"dns-prefetch\"/><link href=\"gum.criteo.com\" rel=\"dns-prefetch\"/><link href=\"googleads.g.doubleclick.net\" rel=\"dns-prefetch\"/><link href=\"global.ib-ibi.com\" rel=\"dns-prefetch\"/><link href=\"fonts.gstatic.com\" rel=\"dns-prefetch\"/><link href=\"fonts.googleapis.com\" rel=\"dns-prefetch\"/><link href=\"fastlane.rubiconproject.com\" rel=\"dns-prefetch\"/><link href=\"dsp.fout.jp\" rel=\"dns-prefetch\"/><link href=\"dpm.demdex.net\" rel=\"dns-prefetch\"/><link href=\"dnd.d2cdm.jp\" rel=\"dns-prefetch\"/><link href=\"dmp.im-apps.net\" rel=\"dns-prefetch\"/><link href=\"dis.criteo.com\" rel=\"dns-prefetch\"/><link href=\"d.adroll.com\" rel=\"dns-prefetch\"/><link href=\"csi.gstatic.com\" rel=\"dns-prefetch\"/><link href=\"count.orca-pass.net\" rel=\"dns-prefetch\"/><link href=\"connect.facebook.net\" rel=\"dns-prefetch\"/><link href=\"cnt.fout.jp\" rel=\"dns-prefetch\"/><link href=\"cms.quantserve.com\" rel=\"dns-prefetch\"/><link href=\"cm.g.doubleclick.net\" rel=\"dns-prefetch\"/><link href=\"click.speee-ad.jp\" rel=\"dns-prefetch\"/><link href=\"cf.im-apps.net\" rel=\"dns-prefetch\"/><link href=\"cdn-fluct.sh.adingo.jp\" rel=\"dns-prefetch\"/><link href=\"cdn.treasuredata.com\" rel=\"dns-prefetch\"/><link href=\"cdn.syndication.twimg.com\" rel=\"dns-prefetch\"/><link href=\"cdn.audiencedata.net\" rel=\"dns-prefetch\"/><link href=\"cdn.app-cm.co.jp\" rel=\"dns-prefetch\"/><link href=\"cdn.adrta.com\" rel=\"dns-prefetch\"/><link href=\"cdn.adnxs.com\" rel=\"dns-prefetch\"/><link href=\"cache.send.microad.jp\" rel=\"dns-prefetch\"/><link href=\"c1.adform.net\" rel=\"dns-prefetch\"/><link href=\"c.bing.com\" rel=\"dns-prefetch\"/><link href=\"c.betrad.com\" rel=\"dns-prefetch\"/><link href=\"bypass.ad-stir.com\" rel=\"dns-prefetch\"/><link href=\"bs.nakanohito.jp\" rel=\"dns-prefetch\"/><link href=\"beacon-apac-hkg1.rubiconproject.com\" rel=\"dns-prefetch\"/><link href=\"bannerfarm.aolp.jp\" rel=\"dns-prefetch\"/><link href=\"banner.dspcdn.com\" rel=\"dns-prefetch\"/><link href=\"atpixelas.alephd.com\" rel=\"dns-prefetch\"/><link href=\"api.primecaster.net\" rel=\"dns-prefetch\"/><link href=\"api.app-cm.co.jp\" rel=\"dns-prefetch\"/><link href=\"aka-uae-dl.uliza.jp\" rel=\"dns-prefetch\"/><link href=\"ajax.googleapis.com\" rel=\"dns-prefetch\"/><link href=\"adx-winners-ap-southeast-1-rtb.adroll.com\" rel=\"dns-prefetch\"/><link href=\"adservice.google.com\" rel=\"dns-prefetch\"/><link href=\"adservice.google.co.jp\" rel=\"dns-prefetch\"/><link href=\"adserver.adtechjp.com\" rel=\"dns-prefetch\"/><link href=\"ads.rubiconproject.com\" rel=\"dns-prefetch\"/><link href=\"adrta.com\" rel=\"dns-prefetch\"/><link href=\"adroll.com\" rel=\"dns-prefetch\"/><link href=\"adn-i.sp.gmossp-sp.jp\" rel=\"dns-prefetch\"/><link href=\"adn-d.sp.gmossp-sp.jp\" rel=\"dns-prefetch\"/><link href=\"ad-dsp-v01.uliza.jp\" rel=\"dns-prefetch\"/><link href=\"ad-beacon-v01.uliza.jp\" rel=\"dns-prefetch\"/><link href=\"ad-api-v01.uliza.jp\" rel=\"dns-prefetch\"/><link href=\"ad.caprofitx.adtdp.com\" rel=\"dns-prefetch\"/><link href=\"acdn.adnxs.com\" rel=\"dns-prefetch\"/><!-- /prefetch dns -->\n",
       "<link as=\"image\" href=\"https://static.tenki.jp/images/banner/tenkijp_ft_external_img.png\" rel=\"preload\"/>\n",
       "<meta content=\"website\" property=\"og:type\"/>\n",
       "<meta content=\"tenki.jp\" property=\"og:site_name\"/>\n",
       "<meta content=\"海老名(神奈川県)の過去のアメダス(2023年12月19日) - tenki.jp\" property=\"og:title\"/>\n",
       "<meta content=\"海老名(神奈川県)のアメダスによる2023年12月19日の気温、降水量、風向・風速、日照時間、積雪深の観測情報を閲覧できます。\" property=\"og:description\"/>\n",
       "<meta content=\"https://tenki.jp/past/2023/12/19/amedas/3/17/46091.html\" property=\"og:url\"/>\n",
       "<meta content=\"https://storage.tenki.jp/archive/amedas/2023/12/19/15/00/00/temp/pref-17-large.jpg\" property=\"og:image\"/>\n",
       "<meta content=\"692\" property=\"og:image:width\"/><meta content=\"520\" property=\"og:image:height\"/><meta content=\"ja_JP\" property=\"og:locale\"/>\n",
       "<meta content=\"summary_large_image\" name=\"twitter:card\"/>\n",
       "<meta content=\"@tenkijp\" name=\"twitter:site\"/>\n",
       "<meta content=\"海老名(神奈川県)の過去のアメダス(2023年12月19日) - tenki.jp\" name=\"twitter:title\"/>\n",
       "<meta content=\"https://tenki.jp/past/2023/12/19/amedas/3/17/46091.html\" name=\"twitter:url\"/>\n",
       "<meta content=\"海老名(神奈川県)のアメダスによる2023年12月19日の気温、降水量、風向・風速、日照時間、積雪深の観測情報を閲覧できます。\" name=\"twitter:description\"/>\n",
       "<meta content=\"https://storage.tenki.jp/archive/amedas/2023/12/19/15/00/00/temp/pref-17-large.jpg\" name=\"twitter:image:src\"/>\n",
       "<link href=\"/favicon.ico\" rel=\"shortcut icon\"/>\n",
       "<link href=\"https://static.tenki.jp/images/icon/bookmark/tenkijp_bookmark_icon_114_114.png\" rel=\"apple-touch-icon-precomposed\"/>\n",
       "<link href=\"https://tenki.jp/amp/past/2023/12/19/amedas/3/17/46091.html\" media=\"only screen and (max-width: 640px)\" rel=\"alternate\"/><link href=\"https://tenki.jp/amp/past/2023/12/19/amedas/3/17/46091.html\" rel=\"amphtml\"/><link href=\"https://static.tenki.jp/css/common.css?20240112123213\" rel=\"stylesheet\"/>\n",
       "<link href=\"https://static.tenki.jp/css/past.css\" rel=\"stylesheet\"/>\n",
       "<!-- tenki.jp dfp common JS 2017/01/12 -->\n",
       "<script async=\"\" src=\"//c.amazon-adsystem.com/aax2/apstag.js\"></script>\n",
       "<script async=\"\" src=\"https://static.tenki.jp/js/prebid.js\"></script>\n",
       "<!-- js common -->\n",
       "<script src=\"https://ajax.googleapis.com/ajax/libs/jquery/3.2.1/jquery.min.js\"></script>\n",
       "<link href=\"https://ajax.googleapis.com/ajax/libs/jqueryui/1.12.1/themes/smoothness/jquery-ui.css\" rel=\"stylesheet\"/>\n",
       "<script src=\"https://ajax.googleapis.com/ajax/libs/jqueryui/1.12.1/jquery-ui.min.js\"></script>\n",
       "<script>\n",
       "<!--\n",
       "/*!\n",
       " * jQuery UI Touch Punch 0.2.3\n",
       " *\n",
       " * Copyright 2011?2014, Dave Furfero\n",
       " * Dual licensed under the MIT or GPL Version 2 licenses.\n",
       " *\n",
       " * Depends:\n",
       " *  jquery.ui.widget.js\n",
       " *  jquery.ui.mouse.js\n",
       " */\n",
       "!function(a){function f(a,b){if(!(a.originalEvent.touches.length>1)){a.preventDefault();var c=a.originalEvent.changedTouches[0],d=document.createEvent(\"MouseEvents\");d.initMouseEvent(b,!0,!0,window,1,c.screenX,c.screenY,c.clientX,c.clientY,!1,!1,!1,!1,0,null),a.target.dispatchEvent(d)}}if(a.support.touch=\"ontouchend\"in document,a.support.touch){var e,b=a.ui.mouse.prototype,c=b._mouseInit,d=b._mouseDestroy;b._touchStart=function(a){var b=this;!e&&b._mouseCapture(a.originalEvent.changedTouches[0])&&(e=!0,b._touchMoved=!1,f(a,\"mouseover\"),f(a,\"mousemove\"),f(a,\"mousedown\"))},b._touchMove=function(a){e&&(this._touchMoved=!0,f(a,\"mousemove\"))},b._touchEnd=function(a){e&&(f(a,\"mouseup\"),f(a,\"mouseout\"),this._touchMoved||f(a,\"click\"),e=!1)},b._mouseInit=function(){var b=this;b.element.bind({touchstart:a.proxy(b,\"_touchStart\"),touchmove:a.proxy(b,\"_touchMove\"),touchend:a.proxy(b,\"_touchEnd\")}),c.call(b)},b._mouseDestroy=function(){var b=this;b.element.unbind({touchstart:a.proxy(b,\"_touchStart\"),touchmove:a.proxy(b,\"_touchMove\"),touchend:a.proxy(b,\"_touchEnd\")}),d.call(b)}}}(jQuery);\n",
       "// -->\n",
       "</script>\n",
       "<script type=\"text/javascript\">\n",
       "<!--\n",
       "/*!\n",
       " * JavaScript Cookie v2.1.3\n",
       " * https://github.com/js-cookie/js-cookie\n",
       " *\n",
       " * Copyright 2006, 2015 Klaus Hartl & Fagner Brack\n",
       " * Released under the MIT license\n",
       " */\n",
       "!function(a){var b=!1;if(\"function\"==typeof define&&define.amd&&(define(a),b=!0),\"object\"==typeof exports&&(module.exports=a(),b=!0),!b){var c=window.Cookies,d=window.Cookies=a();d.noConflict=function(){return window.Cookies=c,d}}}(function(){function a(){for(var a=0,b={};a<arguments.length;a++){var c=arguments[a];for(var d in c)b[d]=c[d]}return b}function b(c){function d(b,e,f){var g;if(\"undefined\"!=typeof document){if(arguments.length>1){if(f=a({path:\"/\"},d.defaults,f),\"number\"==typeof f.expires){var h=new Date;h.setMilliseconds(h.getMilliseconds()+864e5*f.expires),f.expires=h}try{g=JSON.stringify(e),/^[\\{\\[]/.test(g)&&(e=g)}catch(a){}return e=c.write?c.write(e,b):encodeURIComponent(String(e)).replace(/%(23|24|26|2B|3A|3C|3E|3D|2F|3F|40|5B|5D|5E|60|7B|7D|7C)/g,decodeURIComponent),b=encodeURIComponent(String(b)),b=b.replace(/%(23|24|26|2B|5E|60|7C)/g,decodeURIComponent),b=b.replace(/[\\(\\)]/g,escape),document.cookie=[b,\"=\",e,f.expires?\"; expires=\"+f.expires.toUTCString():\"\",f.path?\"; path=\"+f.path:\"\",f.domain?\"; domain=\"+f.domain:\"\",f.secure?\"; secure\":\"\"].join(\"\")}b||(g={});for(var i=document.cookie?document.cookie.split(\"; \"):[],j=/(%[0-9A-Z]{2})+/g,k=0;k<i.length;k++){var l=i[k].split(\"=\"),m=l.slice(1).join(\"=\");'\"'===m.charAt(0)&&(m=m.slice(1,-1));try{var n=l[0].replace(j,decodeURIComponent);if(m=c.read?c.read(m,n):c(m,n)||m.replace(j,decodeURIComponent),this.json)try{m=JSON.parse(m)}catch(a){}if(b===n){g=m;break}b||(g[n]=m)}catch(a){}}return g}}return d.set=d,d.get=function(a){return d.call(d,a)},d.getJSON=function(){return d.apply({json:!0},[].slice.call(arguments))},d.defaults={},d.remove=function(b,c){d(b,\"\",a(c,{expires:-1}))},d.withConverter=b,d}return b(function(){})});\n",
       "// -->\n",
       "</script>\n",
       "<!-- /js common -->\n",
       "<script>\n",
       "var _ga_asset_number = Math.floor(Math.random()*(11-1)+1);\n",
       "</script>\n",
       "<!-- tenki.jp/map/ dfp JS 2020/06/29 -->\n",
       "<script async=\"\" src=\"https://securepubads.g.doubleclick.net/tag/js/gpt.js\"></script>\n",
       "<script>\n",
       "  var googletag = googletag || {};\n",
       "  googletag.cmd = googletag.cmd || [];\n",
       "</script>\n",
       "<script type=\"text/javascript\">\n",
       "<!--\n",
       "  var __kv_url = (document && document.location && document.location.href && document.location.href.indexOf('@') == -1) ? document.location.href.replace(/\\?.*$/,\"\") : '';\n",
       "  var __kv_referrer = (document && document.referrer && document.referrer.indexOf('@') == -1) ? document.referrer.replace(/\\?.*$/,\"\") : '';\n",
       "  var __kv_referrer_domain = '';\n",
       "  if(__kv_referrer) {\n",
       "    var __parsed_kv_referrer = __kv_referrer.match(/^(.*?:\\/\\/)(.*?)([a-z0-9][a-z0-9\\-]{1,63}\\.[a-z\\.]{2,6})[\\:[0-9]*]?([\\/].*?)?$/i);\n",
       "    if(__parsed_kv_referrer && __parsed_kv_referrer[3] && __parsed_kv_referrer[3].indexOf('@') == -1) {\n",
       "        __kv_referrer_domain = __parsed_kv_referrer[3];\n",
       "    }\n",
       "  }\n",
       "  var setSite = function(uri) {\n",
       "    var site, parser;\n",
       "    if (typeof(uri) === 'undefined' || uri === '' || uri.indexOf('http') < 0) {\n",
       "        uri = window.document.location.href;\n",
       "    }\n",
       "    parser = window.document.createElement('a');\n",
       "    parser.href = uri;\n",
       "    site = parser.hostname;\n",
       "    return site;\n",
       "  };\n",
       "\n",
       "  var wipeSlot;\n",
       "\n",
       "  googletag.cmd.push(function() {\n",
       "        googletag.defineSlot('/11384922/1st_PD', [[300, 250], [336,280], [300, 600], [336, 600], [160, 600]],  'tenki-ad-1st_PD').addService(googletag.pubads()).setTargeting(\"adslot\", \"1st_PD\").setTargeting(\"ad_wx_dice\",(Math.floor( Math.random() * 100 ) + 1 ).toString());\n",
       "            googletag.defineSlot('/11384922/2nd_PD', [[300, 250], [336,280], [300, 600], [336, 600], [160, 600]],  'tenki-ad-2nd_PD').addService(googletag.pubads()).setTargeting(\"adslot\", \"2nd_PD\").setTargeting(\"ad_wx_dice\",(Math.floor( Math.random() * 100 ) + 1 ).toString());\n",
       "            googletag.defineSlot('/11384922/3rd_PD', [[300, 250], [1,1], [336,280], [300, 600], [336, 600], [160, 600]],  'tenki-ad-3rd_PD').addService(googletag.pubads()).setTargeting(\"adslot\", \"3rd_PD\").setTargeting(\"ad_wx_dice\",(Math.floor( Math.random() * 100 ) + 1 ).toString());\n",
       "                googletag.defineSlot('/11384922/PC_CT', [[640, 320], [920, 70], [920, 25], [920, 130], [1048, 80], [728, 90]],   'tenki-ad-PC_CT').addService(googletag.pubads()).setTargeting(\"adslot\", \"PC_CT\").setTargeting(\"ad_wx_dice\",(Math.floor( Math.random() * 100 ) + 1 ).toString());\n",
       "            googletag.defineSlot('/11384922/footer_left', [[1, 1], [336, 280], [300, 250], [600, 250], [690, 250], [600, 200]], 'tenki-ad-footer_left').addService(googletag.pubads()).setTargeting(\"adslot\", \"footer_left\").setTargeting(\"ad_wx_dice\",(Math.floor( Math.random() * 100 ) + 1 ).toString());\n",
       "            googletag.defineSlot('/11384922/footer_right', [[1, 1], [300, 250], [336, 280]],'tenki-ad-footer_right').addService(googletag.pubads()).setTargeting(\"adslot\", \"footer_right\").setTargeting(\"ad_wx_dice\",(Math.floor( Math.random() * 100 ) + 1 ).toString());\n",
       "                                                    googletag.pubads().setTargeting(\"category\",\"past\").setTargeting(\"top\",\"0\").setTargeting(\"area\",\"3\").setTargeting(\"pref\",\"17\").setTargeting(\"jiscode\",\"0\").setTargeting(\"site\",\"tenki.jp\").setTargeting(\"domain\",\"tenki.jp\").setTargeting(\"url\",__kv_url).setTargeting(\"ref\",__kv_referrer).setTargeting(\"ref_domain\",__kv_referrer_domain);\n",
       "                        googletag.pubads().setTargeting(\"ad_wx_hour\",(new Date).getHours().toString()).setTargeting(\"isForYT\", \"0\").setTargeting(\"forecaster_category\", \"\");\n",
       "    googletag.pubads().disableInitialLoad();\n",
       "    googletag.pubads().enableSingleRequest();\n",
       "    googletag.enableServices();\n",
       "  });\n",
       "// -->\n",
       "\n",
       "(function(){\n",
       "  const key = 'ppid-20230704';\n",
       "  const id = Cookies.get(key)\n",
       "  if (!id) {\n",
       "    return;\n",
       "  }\n",
       "  function generateHash(message) {\n",
       "    return new Promise(function(resolve) {\n",
       "      const msgUint8 = new TextEncoder('utf-8').encode(message);\n",
       "      crypto.subtle.digest('SHA-256', msgUint8).then(\n",
       "        function(hashBuffer) {\n",
       "          const hashArray = Array.from(new Uint8Array(hashBuffer));\n",
       "          const hashHex = hashArray.map(function(b) {\n",
       "            return b.toString(16).padStart(2, '0')\n",
       "          }).join('');\n",
       "          return resolve(hashHex);\n",
       "        }\n",
       "      )\n",
       "    })\n",
       "  }\n",
       "  if ('Promise' in window && 'crypto' in window) {\n",
       "    generateHash(id).then(function(shatxt) {\n",
       "      googletag.cmd.push(function() {\n",
       "        googletag.pubads().setPublisherProvidedId(shatxt)\n",
       "      })\n",
       "    }).catch(function(e) {\n",
       "      console.error(e.message);\n",
       "    })\n",
       "  }\n",
       "})();\n",
       "</script>\n",
       "<script>\n",
       "window.TNKLib=window.TNKLib||{};window.TNKLib.requestManager = {adserverRequestSent: false};\n",
       "(function(a,c,b){c=a.document;b=c.createElement(\"script\");b.async=true;b.src=\"https://static.tenki.jp/js/tenki_hb.js\";c.getElementsByTagName(\"head\")[0].appendChild(b);b.onload=function(){googletag.cmd.push(function(){if(window.TNKLib&&window.TNKLib.pbxReady){window.TNKLib.startHeaderBids()}})}}(top));\n",
       "setTimeout(function(){if(!window.TNKLib.requestManager.adserverRequestSent){googletag.cmd.push(function(){googletag.pubads().refresh();window.TNKLib.requestManager.adserverRequestSent=true;console.log(\"no headerbids\")})}},4000);\n",
       "</script>\n",
       "<!-- /tenki.jp dfp common JS 2017/01/12 -->\n",
       "<script type=\"text/javascript\">\n",
       "<!--\n",
       "var adBgStatus = Cookies.get('goldenkamuy0119_invisible');\n",
       "let _ad_background;\n",
       "if(adBgStatus) {\n",
       "    _ad_background = 0;\n",
       "} else {\n",
       "    _ad_background = 1;\n",
       "}\n",
       "// -->\n",
       "</script>\n",
       "<script>\n",
       "<!--\n",
       "var dataLayer = dataLayer || [];\n",
       "dataLayer.push({'_ga_asset_number':_ga_asset_number,\n",
       "'query_string':'','breadcrumbList1':'過去天気(アメダス実況・気温)2023年12月','breadcrumbList2':'19日','breadcrumbList3':'関東・甲信地方','breadcrumbList4':'神奈川県','breadcrumbList5':'海老名','pagePathLevel1':'past','pagePathLevel2':'2023','pagePathLevel3':'12','pagePathLevel4':'19','pagePathLevel5':'amedas','pagePathLevel6':'3','pagePathLevel7':'17','pagePathLevel8':'46091.html','page_category':'point','ad_background':_ad_background\n",
       "});\n",
       "// -->\n",
       "</script>\n",
       "<!-- Anti-flicker snippet (recommended) 2020/05/13 -->\n",
       "<script src=\"https://www.googleoptimize.com/optimize.js?id=OPT-K8SGTQK\"></script>\n",
       "<!-- /Anti-flicker snippet (recommended) 2020/05/13 -->\n",
       "<!-- Google Tag Manager 2019/08/07-->\n",
       "<script>(function(w,d,s,l,i){w[l]=w[l]||[];w[l].push({'gtm.start':\n",
       "new Date().getTime(),event:'gtm.js'});var f=d.getElementsByTagName(s)[0],\n",
       "j=d.createElement(s),dl=l!='dataLayer'?'&l='+l:'';j.async=true;j.src=\n",
       "'https://www.googletagmanager.com/gtm.js?id='+i+dl;f.parentNode.insertBefore(j,f);\n",
       "})(window,document,'script','dataLayer','GTM-KSB3TF');</script>\n",
       "<!-- End Google Tag Manager 2019/08/07-->\n",
       "<script type=\"text/javascript\">\n",
       "  window._taboola = window._taboola || [];\n",
       "  _taboola.push({article:'auto'});\n",
       "  !function (e, f, u, i) {\n",
       "    if (!document.getElementById(i)){\n",
       "      e.async = 1;\n",
       "      e.src = u;\n",
       "      e.id = i;\n",
       "      f.parentNode.insertBefore(e, f);\n",
       "    }\n",
       "  }(document.createElement('script'),\n",
       "  document.getElementsByTagName('script')[0],\n",
       "  '//cdn.taboola.com/libtrc/tenkijp/loader.js',\n",
       "  'tb_loader_script');\n",
       "  if(window.performance && typeof window.performance.mark == 'function')\n",
       "    {window.performance.mark('tbl_ic');}\n",
       "</script>\n",
       "</head>\n",
       "<body class=\"\">\n",
       "<script type=\"text/javascript\">\n",
       "<!--\n",
       "var adBgStatus = Cookies.get('goldenkamuy0119_invisible');\n",
       "if(adBgStatus) {\n",
       "    $('body').removeClass('pr-goldenkamuy0119');\n",
       "}\n",
       "// -->\n",
       "</script>\n",
       "<!-- Google Tag Manager (noscript) 2019/08/07-->\n",
       "<noscript><iframe height=\"0\" src=\"https://www.googletagmanager.com/ns.html?id=GTM-KSB3TF\" style=\"display:none;visibility:hidden\" width=\"0\"></iframe></noscript>\n",
       "<!-- End Google Tag Manager (noscript) 2019/08/07-->\n",
       "<header class=\"header clearfix\">\n",
       "<!-- suppl/suppl-top-entry.html ## generate at 2024-01-16 00:51:03 -->\n",
       "<!-- suppl-top-entry -->\n",
       "<div class=\"hd-suppl-link\" id=\"hd-suppl-link\" style=\"display: block;\"></div>\n",
       "<!-- /suppl-top-entry -->\n",
       "<!-- /suppl/suppl-top-entry.html ## generate at 2024-01-16 00:51:03 -->\n",
       "<div class=\"hd-help\"><a class=\"bold\" href=\"/\">tenki.jpトップ</a><span class=\"grey\">｜</span><a class=\"bold\" href=\"/docs/sitemap/\">サイトマップ</a><span class=\"grey\">｜</span><a href=\"/docs/help/\">ヘルプ</a></div>\n",
       "<div id=\"hd\">\n",
       "<h1 class=\"tenkijp-logo\"><a href=\"/\">tenki.jp</a></h1>\n",
       "<div class=\"hd-search-box-short\" id=\"hd-search-box\">\n",
       "<form action=\"/search/\" id=\"hd-search-form\" method=\"get\" name=\"hd-search-form\">\n",
       "<input class=\"hd-search-input\" id=\"keyword\" name=\"keyword\" placeholder=\"〒・住所を入力\" type=\"text\" value=\"\"/><button id=\"btn\" tabindex=\"2\" title=\"検索\" type=\"submit\" value=\"検索\">検索</button>\n",
       "</form>\n",
       "</div>\n",
       "<div class=\"hd-search-gps\" id=\"hd-search-gps\"><a href=\"javascript:void(0);\">現在地</a></div>\n",
       "<ul class=\"history-entries clearfix\" id=\"history-entries\"></ul>\n",
       "</div><!-- /#hd -->\n",
       "<script type=\"text/javascript\">\n",
       "<!--\n",
       "var __last_scroll_top = 0;\n",
       "$(window).on('load scroll resize',function(){\n",
       "  var __scroll_top = $(window).scrollTop();\n",
       "  if(__scroll_top > 35 && __last_scroll_top <= 35) {\n",
       "    $('#hd').css({'position':'fixed','top':'0px'});\n",
       "  } else if(__scroll_top <= 35 && __last_scroll_top > 35) {\n",
       "    $('#hd').removeAttr('style');\n",
       "  }\n",
       "  __last_scroll_top = __scroll_top;\n",
       "});\n",
       "// -->\n",
       "</script>\n",
       "</header>\n",
       "<!-- common/header-menu.html ## generate at 2024-01-12 12:32:15 -->\n",
       "<nav>\n",
       "<ul class=\"dropmenu\" id=\"menu\">\n",
       "<li class=\"main-menu\"><a class=\"main-link\" href=\"/\">天気予報</a>\n",
       "<div>\n",
       "<ul class=\"sub-menu\">\n",
       "<li><a href=\"/\">天気予報</a></li>\n",
       "<li><a href=\"/world/\">世界天気</a></li>\n",
       "<li><a href=\"/week/\">2週間天気</a></li>\n",
       "<li><a href=\"/long/\">長期予報</a></li>\n",
       "<li><a href=\"/radar/\">雨雲レーダー</a></li>\n",
       "<li><a href=\"/snow-map/\">積雪マップ</a></li>\n",
       "<li><a href=\"/pm25/\">PM2.5分布予測</a></li>\n",
       "<li><a href=\"/yellow-sand/\">黄砂情報</a></li>\n",
       "<li><a href=\"/thunder/forecast.html\">雷(予報)</a></li>\n",
       "<li><a href=\"/road/\">道路気象</a></li>\n",
       "</ul>\n",
       "</div>\n",
       "</li>\n",
       "<li class=\"main-menu\"><a class=\"main-link\" href=\"/radar/\">観測</a>\n",
       "<div>\n",
       "<ul class=\"sub-menu\">\n",
       "<li><a href=\"/radar/past.html\">雨雲レーダー(過去)</a></li>\n",
       "<li><a href=\"/amedas/\">アメダス</a></li>\n",
       "<li><a href=\"/live/\">実況天気</a></li>\n",
       "<li><a href=\"/past/\">過去天気</a></li>\n",
       "<li><a href=\"/thunder/\">雷(実況)</a></li>\n",
       "</ul>\n",
       "</div>\n",
       "</li>\n",
       "<li class=\"main-menu\"><a class=\"main-link\" href=\"/bousai/warn/\">防災情報</a>\n",
       "<div>\n",
       "<ul class=\"sub-menu\">\n",
       "<li><a href=\"/bousai/warn/\">警報・注意報</a></li>\n",
       "<li><a href=\"/bousai/earthquake/\">地震情報</a></li>\n",
       "<li><a href=\"/bousai/tsunami/\">津波情報</a></li>\n",
       "<li><a href=\"/bousai/volcano/\">火山情報</a></li>\n",
       "<li><a href=\"/bousai/typhoon/\">台風情報</a></li>\n",
       "<li><a href=\"/bousai/knowledge/\">知る防災</a></li>\n",
       "</ul>\n",
       "</div>\n",
       "</li>\n",
       "<li class=\"main-menu\"><a class=\"main-link\" href=\"/guide/chart/\">天気図</a>\n",
       "<div>\n",
       "<ul class=\"sub-menu\">\n",
       "<li><a href=\"/guide/chart/\">天気図</a></li>\n",
       "<li><a href=\"/satellite/\">気象衛星</a></li>\n",
       "<li><a href=\"/satellite/world/\">世界衛星</a></li>\n",
       "</ul>\n",
       "</div>\n",
       "</li>\n",
       "<li class=\"main-menu\"><a class=\"main-link\" href=\"/indexes/\">指数情報</a>\n",
       "<div class=\"sub-menu-indexes\">\n",
       "<ul class=\"sub-menu\">\n",
       "<!-- <li class=\"title\">通年</li> -->\n",
       "<li><a href=\"/indexes/cloth_dried/\">洗濯</a></li>\n",
       "<li><a href=\"/indexes/dress/\">服装</a></li>\n",
       "<li><a href=\"/indexes/odekake/\">お出かけ</a></li>\n",
       "<li><a href=\"/indexes/starry_sky/\">星空</a></li>\n",
       "<li><a href=\"/indexes/umbrella/\">傘</a></li>\n",
       "<li><a href=\"/indexes/uv_index_ranking/\">紫外線</a></li>\n",
       "<li><a href=\"/indexes/self_temp/\">体感温度</a></li>\n",
       "<li><a href=\"/indexes/carwashing/\">洗車</a></li>\n",
       "<li><a href=\"/indexes/sleep/\">睡眠</a></li>\n",
       "<li><a href=\"/indexes/heattech/\">ヒートテック</a></li> </ul>\n",
       "<ul class=\"sub-menu\">\n",
       "<!-- <li class=\"title\">冬季</li> -->\n",
       "<li><a href=\"/indexes/freezing_water/\">水道凍結</a></li>\n",
       "<li><a href=\"/indexes/skin_dried/\">うるおい</a></li>\n",
       "<li><a href=\"/indexes/frost/\">霜</a></li>\n",
       "<li><a href=\"/indexes/cough/\">風邪ひき</a></li>\n",
       "<li><a href=\"/indexes/danbo/\">暖房</a></li>\n",
       "<li><a href=\"/indexes/hot_pot/\">鍋もの</a></li>\n",
       "<li><a href=\"/indexes/gap_temp/\">寒暖差</a></li>\n",
       "<li><a href=\"/indexes/wintersweat/\">冬の汗予報</a></li>\n",
       "</ul>\n",
       "</div>\n",
       "</li>\n",
       "<li class=\"main-menu\"><a class=\"main-link\" href=\"/mountain/\">レジャー天気</a>\n",
       "<div>\n",
       "<ul class=\"sub-menu\">\n",
       "<li><a href=\"/mountain/\">山の天気</a></li>\n",
       "<li><a href=\"/wave/\">海の天気</a></li>\n",
       "<li><a href=\"/leisure/airport/\">空港</a></li>\n",
       "<li><a href=\"/leisure/baseball/\">野球場</a></li>\n",
       "<li><a href=\"/leisure/soccer/\">サッカー場</a></li>\n",
       "<li><a href=\"/leisure/golf/\">ゴルフ場</a></li>\n",
       "<li><a href=\"/leisure/camp/\">キャンプ場</a></li>\n",
       "<li><a href=\"/leisure/horse/\">競馬・競艇・競輪場 </a></li>\n",
       "<li><a href=\"/leisure/fishing/\">釣り</a></li>\n",
       "<li><a href=\"/leisure/\">お出かけスポット天気</a></li>\n",
       "</ul>\n",
       "</div>\n",
       "</li>\n",
       "<li class=\"main-menu\"><a class=\"main-link\" href=\"/ski/\">季節特集</a>\n",
       "<div class=\"sub-menu-season\">\n",
       "<ul class=\"sub-menu\">\n",
       "<li><a href=\"/pollen/\">花粉飛散情報</a></li>\n",
       "<li><a href=\"/sakura/\">桜開花情報</a></li>\n",
       "<li><a href=\"/goldenweek/\">GWの天気</a></li>\n",
       "<li><a href=\"/rainy-season/\">梅雨入り・明け</a></li>\n",
       "<li><a href=\"/heatstroke/\">熱中症情報</a></li>\n",
       "<li><a href=\"/kouyou/\">紅葉見頃情報</a></li>\n",
       "<li><a href=\"/heatshock/\">ヒートショック予報</a></li>\n",
       "<li><a href=\"/season/ski/\">スキー積雪情報</a></li>\n",
       "<li><a href=\"/newyear/\">初日の出</a></li>\n",
       "</ul>\n",
       "</div>\n",
       "</li>\n",
       "<li class=\"main-menu\"><a class=\"main-link\" href=\"/forecaster/\">天気ニュース</a>\n",
       "<div>\n",
       "<ul class=\"sub-menu\">\n",
       "<li><a href=\"/forecaster/\">気象予報士のポイント解説</a></li>\n",
       "<li><a href=\"/suppl/entries/\">季節・暮らしの話題</a></li>\n",
       "<li><a href=\"/news/\">放送局のニュース</a></li>\n",
       "<li><a href=\"/feature/\">特集</a></li>\n",
       "</ul>\n",
       "</div>\n",
       "</li>\n",
       "</ul><!-- /#menu -->\n",
       "<ul id=\"menu-basis\">\n",
       "<li><a href=\"/radar/3/17/\"><div class=\"img\">\n",
       "<picture>\n",
       "<source srcset=\"https://imageflux.tenki.jp/square/static-images/radar/recent/japan-detail-small.jpg\" type=\"image/webp\"/>\n",
       "<img alt=\"雨雲レーダー)\" height=\"41\" src=\"https://static.tenki.jp/static-images/radar/recent/japan-detail-small.jpg\" width=\"55\"/>\n",
       "</picture>\n",
       "</div><span class=\"title\">雨雲レーダー</span></a></li>\n",
       "<li><a href=\"/guide/chart/\"><div class=\"img\">\n",
       "<picture>\n",
       "<source srcset=\"https://imageflux.tenki.jp/square/static-images/chart/recent/xsmall.jpg\" type=\"image/webp\"/>\n",
       "<img alt=\"天気図\" height=\"41\" src=\"https://static.tenki.jp/static-images/chart/recent/xsmall.jpg\" width=\"55\"/>\n",
       "</picture>\n",
       "</div><span class=\"title\">天気図</span></a></li>\n",
       "<li><a href=\"/pm25/3/17/\"><div class=\"img\">\n",
       "<picture>\n",
       "<source srcset=\"https://imageflux.tenki.jp/square/static-images/pm25/recent-entry/recent-entry-japan-detail-small.jpg\" type=\"image/webp\"/>\n",
       "<img alt=\"PM2.5分布予測\" height=\"120\" src=\"https://static.tenki.jp/static-images/pm25/recent-entry/recent-entry-japan-detail-small.jpg\" width=\"160\"/>\n",
       "</picture>\n",
       "</div><span class=\"title\">PM2.5分布予測</span></a></li>\n",
       "<li><a href=\"/bousai/earthquake/\"><div class=\"img\"><img alt=\"地震情報\" height=\"120\" src=\"https://earthquake.tenki.jp/static-images/earthquake/recent/small.jpg\" width=\"160\"/></div><span class=\"title\">地震情報</span></a></li>\n",
       "<li><a href=\"/forecaster/\"><div class=\"img\" style=\"margin-right: 0;\">\n",
       "<picture>\n",
       "<source srcset=\"https://static.tenki.jp/images/icon/forecaster.webp\" type=\"image/webp\"/>\n",
       "<img alt=\"日直予報士\" height=\"100\" src=\"https://static.tenki.jp/images/icon/forecaster.png\" width=\"100\"/>\n",
       "</picture>\n",
       "</div><span class=\"title\">気象予報士の解説</span></a></li>\n",
       "<!-- top-notice-menu/top-notice-menu.html ## generate at 2024-01-16 01:00:02 --><li><a href=\"https://tenki.jp/season/ski/\"><div class=\"img\">\n",
       "<picture>\n",
       "<source srcset=\"https://i-storage.tenki.jp/square/storage/static-images/top-notice-menu/image/3/20231205103406/middle.jpg\" type=\"image/webp\"/>\n",
       "<img alt=\"スキー積雪情報\" height=\"41\" src=\"https://c-storage.tenki.jp/storage/static-images/top-notice-menu/image/3/20231205103406/middle.jpg\" width=\"55\"/>\n",
       "</picture>\n",
       "</div><span class=\"title\">スキー積雪情報</span><span class=\"attention\">注目</span></a></li><!-- /top-notice-menu/top-notice-menu.html ## generate at 2024-01-16 01:00:02 -->\n",
       "</ul>\n",
       "</nav>\n",
       "<!-- /common/header-menu.html ## generate at 2024-01-12 12:32:15 -->\n",
       "<script>\n",
       "  (function(){\n",
       "    window.addEventListener(\"error\", function(e) {\n",
       "      if(e.target.tagName.toUpperCase() === \"IMG\") {\n",
       "        try {\n",
       "          if (e.target.src.indexOf('storage.tenki.jp') !== -1) {\n",
       "            e.target.src = '/images/icon/amedas/fallback/pref_17.jpg';\n",
       "          }\n",
       "        } catch (e) {\n",
       "        }\n",
       "      }\n",
       "    }, true);\n",
       "  })();\n",
       "</script>\n",
       "<nav id=\"delimiter\">\n",
       "<ol class=\"breadcrumb-navi clearfix\" itemscope=\"\" itemtype=\"http://schema.org/BreadcrumbList\">\n",
       "<li itemprop=\"itemListElement\" itemscope=\"\" itemtype=\"http://schema.org/ListItem\">\n",
       "<a href=\"/\" itemprop=\"item\" itemtype=\"http://schema.org/Thing\"><span itemprop=\"name\">トップ</span></a>\n",
       "<meta content=\"1\" itemprop=\"position\">\n",
       "</meta></li>\n",
       "<li itemprop=\"itemListElement\" itemscope=\"\" itemtype=\"http://schema.org/ListItem\">\n",
       "<a href=\"/past/2023/12/amedas/\" itemprop=\"item\" itemtype=\"http://schema.org/Thing\"><span itemprop=\"name\">過去天気(アメダス実況・気温)2023年12月</span></a>\n",
       "<meta content=\"2\" itemprop=\"position\">\n",
       "</meta></li>\n",
       "<li itemprop=\"itemListElement\" itemscope=\"\" itemtype=\"http://schema.org/ListItem\">\n",
       "<a href=\"/past/2023/12/19/amedas/\" itemprop=\"item\" itemtype=\"http://schema.org/Thing\"><span itemprop=\"name\">19日</span></a>\n",
       "<meta content=\"3\" itemprop=\"position\">\n",
       "</meta></li>\n",
       "<li itemprop=\"itemListElement\" itemscope=\"\" itemtype=\"http://schema.org/ListItem\">\n",
       "<a href=\"/past/2023/12/19/amedas/3/\" itemprop=\"item\" itemtype=\"http://schema.org/Thing\"><span itemprop=\"name\">関東・甲信地方</span></a>\n",
       "<meta content=\"4\" itemprop=\"position\">\n",
       "</meta></li>\n",
       "<li itemprop=\"itemListElement\" itemscope=\"\" itemtype=\"http://schema.org/ListItem\">\n",
       "<a href=\"/past/2023/12/19/amedas/3/17/\" itemprop=\"item\" itemtype=\"http://schema.org/Thing\"><span itemprop=\"name\">神奈川県</span></a>\n",
       "<meta content=\"5\" itemprop=\"position\">\n",
       "</meta></li>\n",
       "<li itemprop=\"itemListElement\" itemscope=\"\" itemtype=\"http://schema.org/ListItem\">\n",
       "<a href=\"/past/2023/12/19/amedas/3/17/46091.html\" itemprop=\"item\" itemtype=\"http://schema.org/Thing\"><span itemprop=\"name\">海老名</span></a>\n",
       "<meta content=\"6\" itemprop=\"position\">\n",
       "</meta></li>\n",
       "</ol>\n",
       "</nav>\n",
       "<!-- common/ad-pc-ct.html ## generate at 2024-01-12 12:32:15 -->\n",
       "<!-- 2016/05/02 for common PC_CT -->\n",
       "<div class=\"tenki-ad-pc-ct\" id=\"tenki-ad-PC_CT\"></div>\n",
       "<script type=\"text/javascript\">googletag.cmd.push(function() { googletag.display('tenki-ad-PC_CT'); });</script>\n",
       "<!-- /2016/05/02 for common PC_CT -->\n",
       "<!-- /common/ad-pc-ct.html ## generate at 2024-01-12 12:32:15 -->\n",
       "<section class=\"mb10\">\n",
       "<h2>海老名(エビナ)のアメダス<span class=\"sub-title\">(2023年12月19日)</span><time class=\"date-time\" datetime=\"2023-12-19T00:00:00+09:00\" id=\"amedas-point-datetime\">2023年12月19日</time></h2>\n",
       "<table class=\"amedas-point-graph-table\">\n",
       "<tr>\n",
       "<th>気温<br/><span class=\"unit\">(℃)</span></th>\n",
       "<td rowspan=\"2\"><img alt=\"海老名(&gt;2023年12月19日)のアメダスグラフ\" height=\"160\" src=\"https://storage.tenki.jp/archive/amedas-graph/2023/12/19/46091.gif\" width=\"920\"/></td>\n",
       "<th>降水量<br/><span class=\"unit\">(mm/h)</span></th>\n",
       "</tr>\n",
       "<tr class=\"tr-time\">\n",
       "<th>時刻</th>\n",
       "<th>時刻</th>\n",
       "</tr>\n",
       "</table>\n",
       "</section>\n",
       "<!-- main column -->\n",
       "<div class=\"main-column\" id=\"main-column\">\n",
       "<section class=\"section-wrap\">\n",
       "<ul class=\"past-neighbor-bottom-list clearfix mb10\">\n",
       "<li class=\"left-link\"><a href=\"/past/2023/12/18/amedas/3/17/46091.html\">前日(12月18日)</a></li>\n",
       "<li class=\"right-link\"><a href=\"/past/2023/12/20/amedas/3/17/46091.html\">翌日(12月20日)</a></li>\n",
       "</ul>\n",
       "<h3>記録<span class=\"sub-title\">(2023年12月19日)</span><time class=\"date-time\" datetime=\"2023-12-19T00:00:00+09:00\">2023年12月19日</time></h3>\n",
       "<table class=\"amedas-point-detail-entries-table\" summary=\"のアメダス(2023年12月19日)\">\n",
       "<tr>\n",
       "<th class=\"headcell\">日最高<br/>気温(℃)</th>\n",
       "<th class=\"headcell\">日最低<br/>気温(℃)</th>\n",
       "<th class=\"headcell\">日積算<br/>降水量(mm)</th>\n",
       "<th class=\"headcell\">日最大<br/>風速(m/s)</th>\n",
       "<th class=\"headcell\">日積算<br/>日照時間(時)</th>\n",
       "</tr>\n",
       "<tr>\n",
       "<td>10.6 (14:10)</td>\n",
       "<td>2.8 (02:20)</td>\n",
       "<td>0.0</td>\n",
       "<td>2.6 (02:00)</td>\n",
       "<td>4.1</td>\n",
       "</tr>\n",
       "</table><!-- /.amedas-point-detail-entries-table -->\n",
       "<p class=\"right-align\">※日最高気温・日最低気温・日最大風速は、アメダス10分値です</p>\n",
       "</section>\n",
       "<!--- social-box-large -->\n",
       "<div class=\"social-box-large\">\n",
       "<ul>\n",
       "<li><a class=\"twitter-share-button\" data-size=\"large\" href=\"https://twitter.com/share?url=https%3A%2F%2Ftenki.jp%2Fpast%2F2023%2F12%2F19%2Famedas%2F3%2F17%2F46091.html&amp;text=%E6%B5%B7%E8%80%81%E5%90%8D(%E3%82%A8%E3%83%93%E3%83%8A)%E3%81%AE%E9%81%8E%E5%8E%BB%E3%81%AE%E3%82%A2%E3%83%A1%E3%83%80%E3%82%B9%20-%20tenki.jp%20%40tenkijp&amp;count=horizontal&amp;lang=ja\">ツイート</a><script charset=\"utf-8\" src=\"https://platform.twitter.com/widgets.js\" type=\"text/javascript\"></script></li>\n",
       "<li><a class=\"twitter-follow-button\" data-lang=\"ja\" data-show-count=\"true\" data-show-screen-name=\"false\" data-size=\"large\" href=\"https://twitter.com/tenkijp\">@tenkijpさんをフォロー</a> <script>!function(d,s,id){var js,fjs=d.getElementsByTagName(s)[0],p=/^http:/.test(d.location)?'http':'https';if(!d.getElementById(id)){js=d.createElement(s);js.id=id;js.src=p+'://platform.twitter.com/widgets.js';fjs.parentNode.insertBefore(js,fjs);}}(document, 'script', 'twitter-wjs');</script></li> <li><iframe allow=\"encrypted-media\" allowtransparency=\"true\" frameborder=\"0\" height=\"28\" loading=\"lazy\" scrolling=\"no\" src=\"https://www.facebook.com/plugins/like.php?href=https%3A%2F%2Ftenki.jp%2Fpast%2F2023%2F12%2F19%2Famedas%2F3%2F17%2F46091.html&amp;layout=button_count&amp;size=large&amp;show_faces=false&amp;width=127&amp;action=like&amp;colorscheme=light\" style=\"border:none;overflow:hidden\" width=\"127\"></iframe></li>\n",
       "</ul>\n",
       "</div>\n",
       "<!--- /social-box-large -->\n",
       "<section class=\"section-wrap\">\n",
       "<h3>60分観測値<span class=\"sub-title\">(2023年12月19日)</span><time class=\"date-time\" datetime=\"2023-12-19T00:00:00+09:00\">2023年12月19日</time></h3>\n",
       "<table class=\"common-list-entries amedas-table-entries\">\n",
       "<tr>\n",
       "<th class=\"datetime\" colspan=\"2\">日時</th>\n",
       "<th>気温(℃)</th>\n",
       "<th>降水量(mm)</th>\n",
       "<th>風向(16方位)</th>\n",
       "<th>風速(m/s)</th>\n",
       "<th>日照時間(分)</th>\n",
       "<th>積雪深(cm)</th>\n",
       "</tr>\n",
       "<tr><td rowspan=\"24\">19日</td> <td>24:00</td>\n",
       "<td>6.7</td>\n",
       "<td>0.0</td>\n",
       "<td>北北西</td>\n",
       "<td>2.2</td>\n",
       "<td>0</td>\n",
       "<td><span class=\"grey\">---</span></td>\n",
       "</tr>\n",
       "<tr> <td>23:00</td>\n",
       "<td>7.0</td>\n",
       "<td>0.0</td>\n",
       "<td>北</td>\n",
       "<td>2.1</td>\n",
       "<td>0</td>\n",
       "<td><span class=\"grey\">---</span></td>\n",
       "</tr>\n",
       "<tr> <td>22:00</td>\n",
       "<td>7.4</td>\n",
       "<td>0.0</td>\n",
       "<td>北北西</td>\n",
       "<td>1.6</td>\n",
       "<td>0</td>\n",
       "<td><span class=\"grey\">---</span></td>\n",
       "</tr>\n",
       "<tr> <td>21:00</td>\n",
       "<td>7.5</td>\n",
       "<td>0.0</td>\n",
       "<td>北北西</td>\n",
       "<td>1.5</td>\n",
       "<td>0</td>\n",
       "<td><span class=\"grey\">---</span></td>\n",
       "</tr>\n",
       "<tr> <td>20:00</td>\n",
       "<td>7.8</td>\n",
       "<td>0.0</td>\n",
       "<td>北北西</td>\n",
       "<td>1.8</td>\n",
       "<td>0</td>\n",
       "<td><span class=\"grey\">---</span></td>\n",
       "</tr>\n",
       "<tr> <td>19:00</td>\n",
       "<td>7.7</td>\n",
       "<td>0.0</td>\n",
       "<td>北西</td>\n",
       "<td>0.7</td>\n",
       "<td>0</td>\n",
       "<td><span class=\"grey\">---</span></td>\n",
       "</tr>\n",
       "<tr> <td>18:00</td>\n",
       "<td>8.2</td>\n",
       "<td>0.0</td>\n",
       "<td>静穏</td>\n",
       "<td>0.2</td>\n",
       "<td>0</td>\n",
       "<td><span class=\"grey\">---</span></td>\n",
       "</tr>\n",
       "<tr> <td>17:00</td>\n",
       "<td>8.9</td>\n",
       "<td>0.0</td>\n",
       "<td>南南西</td>\n",
       "<td>1.2</td>\n",
       "<td>0</td>\n",
       "<td><span class=\"grey\">---</span></td>\n",
       "</tr>\n",
       "<tr> <td>16:00</td>\n",
       "<td>9.4</td>\n",
       "<td>0.0</td>\n",
       "<td>南南東</td>\n",
       "<td>0.8</td>\n",
       "<td>0</td>\n",
       "<td><span class=\"grey\">---</span></td>\n",
       "</tr>\n",
       "<tr> <td>15:00</td>\n",
       "<td>10.0</td>\n",
       "<td>0.0</td>\n",
       "<td>南</td>\n",
       "<td>1.6</td>\n",
       "<td>30</td>\n",
       "<td><span class=\"grey\">---</span></td>\n",
       "</tr>\n",
       "<tr> <td>14:00</td>\n",
       "<td>9.4</td>\n",
       "<td>0.0</td>\n",
       "<td>北東</td>\n",
       "<td>0.7</td>\n",
       "<td>60</td>\n",
       "<td><span class=\"grey\">---</span></td>\n",
       "</tr>\n",
       "<tr> <td>13:00</td>\n",
       "<td>9.1</td>\n",
       "<td>0.0</td>\n",
       "<td>北北東</td>\n",
       "<td>1.8</td>\n",
       "<td>60</td>\n",
       "<td><span class=\"grey\">---</span></td>\n",
       "</tr>\n",
       "<tr> <td>12:00</td>\n",
       "<td>7.9</td>\n",
       "<td>0.0</td>\n",
       "<td>東北東</td>\n",
       "<td>2.0</td>\n",
       "<td>60</td>\n",
       "<td><span class=\"grey\">---</span></td>\n",
       "</tr>\n",
       "<tr> <td>11:00</td>\n",
       "<td>7.2</td>\n",
       "<td>0.0</td>\n",
       "<td>北北東</td>\n",
       "<td>1.8</td>\n",
       "<td>37</td>\n",
       "<td><span class=\"grey\">---</span></td>\n",
       "</tr>\n",
       "<tr> <td>10:00</td>\n",
       "<td>5.8</td>\n",
       "<td>0.0</td>\n",
       "<td>北北東</td>\n",
       "<td>1.6</td>\n",
       "<td>0</td>\n",
       "<td><span class=\"grey\">---</span></td>\n",
       "</tr>\n",
       "<tr> <td>09:00</td>\n",
       "<td>5.2</td>\n",
       "<td>0.0</td>\n",
       "<td>北北東</td>\n",
       "<td>1.8</td>\n",
       "<td>0</td>\n",
       "<td><span class=\"grey\">---</span></td>\n",
       "</tr>\n",
       "<tr> <td>08:00</td>\n",
       "<td>4.4</td>\n",
       "<td>0.0</td>\n",
       "<td>北北東</td>\n",
       "<td>1.3</td>\n",
       "<td>0</td>\n",
       "<td><span class=\"grey\">---</span></td>\n",
       "</tr>\n",
       "<tr> <td>07:00</td>\n",
       "<td>3.7</td>\n",
       "<td>0.0</td>\n",
       "<td>北</td>\n",
       "<td>1.4</td>\n",
       "<td>0</td>\n",
       "<td><span class=\"grey\">---</span></td>\n",
       "</tr>\n",
       "<tr> <td>06:00</td>\n",
       "<td>3.8</td>\n",
       "<td>0.0</td>\n",
       "<td>北北西</td>\n",
       "<td>1.8</td>\n",
       "<td>0</td>\n",
       "<td><span class=\"grey\">---</span></td>\n",
       "</tr>\n",
       "<tr> <td>05:00</td>\n",
       "<td>3.6</td>\n",
       "<td>0.0</td>\n",
       "<td>北</td>\n",
       "<td>1.5</td>\n",
       "<td>0</td>\n",
       "<td><span class=\"grey\">---</span></td>\n",
       "</tr>\n",
       "<tr> <td>04:00</td>\n",
       "<td>3.6</td>\n",
       "<td>0.0</td>\n",
       "<td>北北西</td>\n",
       "<td>1.7</td>\n",
       "<td>0</td>\n",
       "<td><span class=\"grey\">---</span></td>\n",
       "</tr>\n",
       "<tr> <td>03:00</td>\n",
       "<td>3.3</td>\n",
       "<td>0.0</td>\n",
       "<td>北北西</td>\n",
       "<td>2.4</td>\n",
       "<td>0</td>\n",
       "<td><span class=\"grey\">---</span></td>\n",
       "</tr>\n",
       "<tr> <td>02:00</td>\n",
       "<td>3.4</td>\n",
       "<td>0.0</td>\n",
       "<td>北北西</td>\n",
       "<td>2.6</td>\n",
       "<td>0</td>\n",
       "<td><span class=\"grey\">---</span></td>\n",
       "</tr>\n",
       "<tr> <td>01:00</td>\n",
       "<td>3.9</td>\n",
       "<td>0.0</td>\n",
       "<td>北北西</td>\n",
       "<td>1.7</td>\n",
       "<td>0</td>\n",
       "<td><span class=\"grey\">---</span></td>\n",
       "</tr>\n",
       "<tr>\n",
       "<th class=\"datetime\" colspan=\"2\">日時</th>\n",
       "<th>気温(℃)</th>\n",
       "<th>降水量(mm)</th>\n",
       "<th>風向(16方位)</th>\n",
       "<th>風速(m/s)</th>\n",
       "<th>日照時間(分)</th>\n",
       "<th>積雪深(cm)</th>\n",
       "</tr>\n",
       "</table>\n",
       "<!-- /.common-list-entries amedas-table-entries -->\n",
       "</section>\n",
       "<ul class=\"past-neighbor-bottom-list clearfix\">\n",
       "<li class=\"left-link\"><a href=\"/past/2023/12/18/amedas/3/17/46091.html\">前日(12月18日)</a></li>\n",
       "<li class=\"right-link\"><a href=\"/past/2023/12/20/amedas/3/17/46091.html\">翌日(12月20日)</a></li>\n",
       "</ul>\n",
       "<script type=\"application/ld+json\">\n",
       "{\n",
       "  \"@context\": \"http://schema.org\",\n",
       "  \"@type\": \"NewsArticle\",\n",
       "  \"mainEntityOfPage\": {\n",
       "    \"@type\": \"WebPage\",\n",
       "    \"@id\": \"https://tenki.jp/past/2023/12/19/amedas/3/17/46091.html\"\n",
       "  },\n",
       "  \"inLanguage\": \"ja\",\n",
       "  \"headline\": \"海老名(神奈川県)の過去のアメダス(2023年12月19日)\",\n",
       "  \"description\": \"海老名(神奈川県)のアメダスによる2023年12月19日の気温、降水量、風向・風速、日照時間、積雪深の観測情報を閲覧できます。\",\n",
       "  \"keywords\": [\"過去\",\"天気\",\"気象衛星\",\"天気図\",\"雨雲\",\"実況\",\"レーダー\",\"アメダス\",\"気温\",\"降水量\",\"風向\",\"風速\",\"日照時間\",\"積雪深\",\"気象予報士\",\"海老名\"],\n",
       "  \"datePublished\": \"2023-12-22T21:29:28+09:00\",\n",
       "  \"dateModified\": \"2023-12-22T21:29:28+09:00\",\n",
       "  \"image\": [\n",
       "  \"https://storage.tenki.jp/archive/amedas/2023/12/19/01/00/00/temp/pref-17-large.jpg\",\n",
       "  \"https://storage.tenki.jp/archive/amedas/2023/12/19/02/00/00/temp/pref-17-large.jpg\",\n",
       "  \"https://storage.tenki.jp/archive/amedas/2023/12/19/03/00/00/temp/pref-17-large.jpg\",\n",
       "  \"https://storage.tenki.jp/archive/amedas/2023/12/19/04/00/00/temp/pref-17-large.jpg\",\n",
       "  \"https://storage.tenki.jp/archive/amedas/2023/12/19/05/00/00/temp/pref-17-large.jpg\",\n",
       "  \"https://storage.tenki.jp/archive/amedas/2023/12/19/06/00/00/temp/pref-17-large.jpg\",\n",
       "  \"https://storage.tenki.jp/archive/amedas/2023/12/19/07/00/00/temp/pref-17-large.jpg\",\n",
       "  \"https://storage.tenki.jp/archive/amedas/2023/12/19/08/00/00/temp/pref-17-large.jpg\",\n",
       "  \"https://storage.tenki.jp/archive/amedas/2023/12/19/09/00/00/temp/pref-17-large.jpg\",\n",
       "  \"https://storage.tenki.jp/archive/amedas/2023/12/19/10/00/00/temp/pref-17-large.jpg\",\n",
       "  \"https://storage.tenki.jp/archive/amedas/2023/12/19/11/00/00/temp/pref-17-large.jpg\",\n",
       "  \"https://storage.tenki.jp/archive/amedas/2023/12/19/12/00/00/temp/pref-17-large.jpg\",\n",
       "  \"https://storage.tenki.jp/archive/amedas/2023/12/19/13/00/00/temp/pref-17-large.jpg\",\n",
       "  \"https://storage.tenki.jp/archive/amedas/2023/12/19/14/00/00/temp/pref-17-large.jpg\",\n",
       "  \"https://storage.tenki.jp/archive/amedas/2023/12/19/15/00/00/temp/pref-17-large.jpg\",\n",
       "  \"https://storage.tenki.jp/archive/amedas/2023/12/19/16/00/00/temp/pref-17-large.jpg\",\n",
       "  \"https://storage.tenki.jp/archive/amedas/2023/12/19/17/00/00/temp/pref-17-large.jpg\",\n",
       "  \"https://storage.tenki.jp/archive/amedas/2023/12/19/18/00/00/temp/pref-17-large.jpg\",\n",
       "  \"https://storage.tenki.jp/archive/amedas/2023/12/19/19/00/00/temp/pref-17-large.jpg\",\n",
       "  \"https://storage.tenki.jp/archive/amedas/2023/12/19/20/00/00/temp/pref-17-large.jpg\",\n",
       "  \"https://storage.tenki.jp/archive/amedas/2023/12/19/21/00/00/temp/pref-17-large.jpg\",\n",
       "  \"https://storage.tenki.jp/archive/amedas/2023/12/19/22/00/00/temp/pref-17-large.jpg\",\n",
       "  \"https://storage.tenki.jp/archive/amedas/2023/12/19/23/00/00/temp/pref-17-large.jpg\",\n",
       "  \"https://storage.tenki.jp/archive/amedas/2023/12/20/00/00/00/temp/pref-17-large.jpg\"\n",
       "  ],\n",
       "  \"author\": {\n",
       "    \"@type\": \"Organization\",\n",
       "    \"name\": \"tenki.jp\"\n",
       "   },\n",
       "  \"publisher\": {\n",
       "    \"@type\": \"Organization\",\n",
       "    \"name\": \"tenki.jp\",\n",
       "    \"logo\": {\n",
       "      \"@type\": \"ImageObject\",\n",
       "      \"url\": \"https://static.tenki.jp/images/icon/logo/tenkijp-logo.png\",\n",
       "      \"width\": \"278\",\n",
       "      \"height\": \"80\",\n",
       "      \"sameAs\": [\n",
       "        \"https://twitter.com/tenkijp\",\n",
       "        \"https://www.facebook.com/tenkijp/\"\n",
       "      ]\n",
       "    }\n",
       "  }\n",
       "}\n",
       "</script>\n",
       "<!-- common/ad-footer.html ## generate at 2024-01-12 12:32:15 -->\n",
       "<div class=\"tenki-ad-footer clearfix\" id=\"tenki-ad-footer\">\n",
       "<!-- 2016/05/02 for common footer_left -->\n",
       "<div class=\"tenki-ad-pd tenki-ad-footer_left\" id=\"tenki-ad-footer_left\"></div>\n",
       "<script type=\"text/javascript\">googletag.cmd.push(function() { googletag.display('tenki-ad-footer_left'); });</script>\n",
       "<!-- /2016/05/02 for common footer_left -->\n",
       "<!-- 2016/05/02 for common footer_right -->\n",
       "<div class=\"tenki-ad-pd tenki-ad-footer_right\" id=\"tenki-ad-footer_right\"></div>\n",
       "<script type=\"text/javascript\">googletag.cmd.push(function() { googletag.display('tenki-ad-footer_right'); });</script>\n",
       "<!-- /2016/05/02 for common footer_right -->\n",
       "</div>\n",
       "<!-- / common tenki-ad-footer -->\n",
       "<!-- /common/ad-footer.html ## generate at 2024-01-12 12:32:15 -->\n",
       "</div><!-- /main column -->\n",
       "<!-- sub column -->\n",
       "<div class=\"sub-column\" id=\"sub-column\">\n",
       "<!-- typhoon/typhoon-sub-column-recent-entries.html ## generate at 2024-01-16 00:33:04 --><!-- /typhoon/typhoon-sub-column-recent-entries.html ## generate at 2024-01-16 00:33:04 -->\n",
       "<!-- common/ad-1st-pd.html ## generate at 2024-01-12 12:32:15 -->\n",
       "<!-- 2016/05/02 for common 1st_PD -->\n",
       "<div class=\"tenki-ad-pd\" id=\"tenki-ad-1st_PD\"></div>\n",
       "<script type=\"text/javascript\">googletag.cmd.push(function() { googletag.display('tenki-ad-1st_PD'); });</script>\n",
       "<!-- /2016/05/02 for common 1st_PD -->\n",
       "<!-- /common/ad-1st-pd.html ## generate at 2024-01-12 12:32:15 -->\n",
       "<!-- common/footer-past.html ## generate at 2024-01-12 12:32:15 -->\n",
       "<section>\n",
       "<h3 class=\"left-style\">天気ガイド<span class=\"sub-title\">(2023年12月19日)</span></h3>\n",
       "<ul class=\"change-tab\" id=\"weather-guide-tab\">\n",
       "<li id=\"weather-guide-tab-satellite\"><a href=\"javascript:void(0)\">衛星</a></li>\n",
       "<li id=\"weather-guide-tab-chart\"><a href=\"javascript:void(0)\">天気図</a></li>\n",
       "<li class=\"selected\" id=\"weather-guide-tab-radar\">雨雲</li>\n",
       "<li id=\"weather-guide-tab-amedas\"><a href=\"javascript:void(0)\">アメダス</a></li>\n",
       "<li id=\"weather-guide-tab-weather\"><a href=\"javascript:void(0)\">実況</a></li>\n",
       "</ul>\n",
       "<div class=\"sub-column-img\" id=\"weather-guide-image\"><a href=\"/past/2023/12/19/radar/3/17/\"><img alt=\"雨雲\" height=\"252\" src=\"https://storage.tenki.jp/archive/radar/2023/12/19/15/00/00/pref-17-middle.jpg\" width=\"336\"/></a></div>\n",
       "</section>\n",
       "<script type=\"text/javascript\">\n",
       "<!--\n",
       "$(function(){\n",
       "  $(document).on('click','#weather-guide-tab > li > a',function(){\n",
       "    var _permalink = [];\n",
       "    _permalink['satellite'] = '/past/2023/12/19/satellite/japan-near/';\n",
       "    _permalink['chart']     = '/past/2023/12/19/chart/';\n",
       "    _permalink['radar']     = '/past/2023/12/19/radar/3/17/';\n",
       "    _permalink['amedas']    = '/past/2023/12/19/amedas/3/17/';\n",
       "    _permalink['weather']   = '/past/2023/12/19/weather/3/17/';\n",
       "    var _image_url = [];\n",
       "    _image_url['satellite'] = 'https://storage.tenki.jp/archive/satellite/2023/12/19/15/00/00/japan-near-middle.jpg';\n",
       "    _image_url['chart']     = 'https://storage.tenki.jp/archive/chart/2023/12/19/15/00/00/middle.jpg';\n",
       "    _image_url['radar']     = 'https://storage.tenki.jp/archive/radar/2023/12/19/15/00/00/pref-17-middle.jpg';\n",
       "    _image_url['amedas']    = 'https://storage.tenki.jp/archive/amedas/2023/12/19/15/00/00/temp/pref-17-middle.jpg';\n",
       "    _image_url['weather']   = 'https://storage.tenki.jp/archive/live/map/2023/12/19/pref-17-middle.jpg';\n",
       "    var _name = [];\n",
       "    _name['satellite']      = '衛星';\n",
       "    _name['chart']          = '天気図';\n",
       "    _name['radar']          = '雨雲';\n",
       "    _name['amedas']         = 'アメダス';\n",
       "    _name['weather']        = '実況';\n",
       "        var $$ = $(this);\n",
       "    var type = $$.parent().get(0).id.split('-').pop();\n",
       "    if(type) {\n",
       "      var __image_url = _image_url[type];\n",
       "      var __permalink = _permalink[type];\n",
       "      var __name      = _name[type];\n",
       "      $('#weather-guide-image > a > img').attr('src',__image_url).attr('alt',__name);\n",
       "      $('#weather-guide-image > a').attr('href',__permalink);\n",
       "      $('#weather-guide-tab > li').removeClass('selected');\n",
       "      var __type_entries = ['satellite','chart','radar','amedas','weather'];\n",
       "      $.each(__type_entries,function(i){\n",
       "        __type = __type_entries[i];\n",
       "        if(__type == type) {\n",
       "          $('#weather-guide-tab-' + __type).addClass('selected').html(_name[__type]);\n",
       "        } else {\n",
       "          //$('#weather-guide-tab-' + __type).removeClass('selected').html('<a href=\"' + _permalink[__type] + '\">' + _name[__type] + '</a>');\n",
       "          $('#weather-guide-tab-' + __type).removeClass('selected').html('<a href=\"javascript:void(0)\">' + _name[__type] + '</a>');\n",
       "        }\n",
       "      });\n",
       "    } // if(type) ...\n",
       "    event.preventDefault();\n",
       "    return false;\n",
       "  }).css('cursor','pointer');\n",
       "});\n",
       "//-->\n",
       "</script>\n",
       "<!-- common/ad-2nd-pd.html ## generate at 2024-01-12 12:32:15 -->\n",
       "<!-- 2016/05/02 for common 2nd_PD -->\n",
       "<div class=\"tenki-ad-pd\" id=\"tenki-ad-2nd_PD\"></div>\n",
       "<script type=\"text/javascript\">googletag.cmd.push(function() { googletag.display('tenki-ad-2nd_PD'); });</script>\n",
       "<!-- /2016/05/02 for common 2nd_PD -->\n",
       "<!-- /common/ad-2nd-pd.html ## generate at 2024-01-12 12:32:15 -->\n",
       "<section class=\"mb30\">\n",
       "<h3 class=\"left-style\">気象予報士による2023年12月19日の記事</h3>\n",
       "<!-- 過去日直 -->\n",
       "<!-- past/forecaster/2023/past-forecaster-diary-20231219.html ## generate at 2023-12-22 21:17:02 -->\n",
       "<div class=\"past-forecastr-list-box\">\n",
       "<input id=\"past-forecastr-list-box-more-btn\" type=\"checkbox\"/>\n",
       "<label for=\"past-forecastr-list-box-more-btn\"></label>\n",
       "<div class=\"common-sub-column-entries-square\">\n",
       "<ul>\n",
       "<li><a href=\"/forecaster/t_kawahara/2023/12/19/26629.html\">\n",
       "<span class=\"img-wrap\">\n",
       "<span class=\"img-box\"><img alt=\"北陸　21～22日を中心に警報級の大雪か　JPCZの強雪帯による積雪の急増に警戒\" height=\"72\" src=\"https://storage.tenki.jp/storage/static-images/forecaster_diary/image/2/26/266/26629/main/20231219175400/square.jpg\" width=\"72\"/></span>\n",
       "</span>\n",
       "<span class=\"body\">\n",
       "<span class=\"title\">北陸　21～22日を中心に警報級の大雪か　JPCZの強雪帯による積雪の急増に警戒</span>\n",
       "<time class=\"date-time\" datetime=\"2023-12-19T18:53:30+09:00\">19日18:53</time>\n",
       "</span></a>\n",
       "</li>\n",
       "<li><a href=\"/forecaster/t_yoshida/2023/12/19/26628.html\">\n",
       "<span class=\"img-wrap\">\n",
       "<span class=\"img-box\"><img alt=\"21～22日　今季最強寒波　西日本も警報級の大雪か　北陸は冬の嵐　立ち往生に警戒\" height=\"72\" src=\"https://storage.tenki.jp/storage/static-images/forecaster_diary/image/2/26/266/26628/main/20231219173323/square.jpg\" width=\"72\"/></span>\n",
       "</span>\n",
       "<span class=\"body\">\n",
       "<span class=\"title\">21～22日　今季最強寒波　西日本も警報級の大雪か　北陸は冬の嵐　立ち往生に警戒</span>\n",
       "<time class=\"date-time\" datetime=\"2023-12-19T18:28:16+09:00\">19日18:28</time>\n",
       "</span></a>\n",
       "</li>\n",
       "<li><a href=\"/forecaster/hmochida/2023/12/19/26625.html\">\n",
       "<span class=\"img-wrap\">\n",
       "<span class=\"img-box\"><img alt=\"北海道　3か月予報　暖冬傾向で雪解けは順調に進みそう\" height=\"72\" src=\"https://storage.tenki.jp/storage/static-images/forecaster_diary/image/2/26/266/26625/main/20231219170553/square.jpg\" width=\"72\"/></span>\n",
       "</span>\n",
       "<span class=\"body\">\n",
       "<span class=\"title\">北海道　3か月予報　暖冬傾向で雪解けは順調に進みそう</span>\n",
       "<time class=\"date-time\" datetime=\"2023-12-19T17:16:57+09:00\">19日17:16</time>\n",
       "</span></a>\n",
       "</li>\n",
       "<li><a href=\"/forecaster/n_takeshita/2023/12/19/26623.html\">\n",
       "<span class=\"img-wrap\">\n",
       "<span class=\"img-box\"><img alt=\"東海　2週間天気　21～22日は岐阜県山間部で大雪の恐れ　交通影響に警戒\" height=\"72\" src=\"https://storage.tenki.jp/storage/static-images/forecaster_diary/image/2/26/266/26623/main/20231219153002/square.jpg\" width=\"72\"/></span>\n",
       "</span>\n",
       "<span class=\"body\">\n",
       "<span class=\"title\">東海　2週間天気　21～22日は岐阜県山間部で大雪の恐れ　交通影響に警戒</span>\n",
       "<time class=\"date-time\" datetime=\"2023-12-19T16:57:57+09:00\">19日16:57</time>\n",
       "</span></a>\n",
       "</li>\n",
       "<li><a href=\"/forecaster/t_okamoto/2023/12/19/26626.html\">\n",
       "<span class=\"img-wrap\">\n",
       "<span class=\"img-box\"><img alt=\"関東甲信　明日20日は寒さが和らぐ　週末は再び寒波襲来　風強く震える寒さ\" height=\"72\" src=\"https://storage.tenki.jp/storage/static-images/forecaster_diary/image/2/26/266/26626/main/20231219154049/square.jpg\" width=\"72\"/></span>\n",
       "</span>\n",
       "<span class=\"body\">\n",
       "<span class=\"title\">関東甲信　明日20日は寒さが和らぐ　週末は再び寒波襲来　風強く震える寒さ</span>\n",
       "<time class=\"date-time\" datetime=\"2023-12-19T16:31:50+09:00\">19日16:31</time>\n",
       "</span></a>\n",
       "</li>\n",
       "<li><a href=\"/forecaster/t_yoshida/2023/12/19/26627.html\">\n",
       "<span class=\"img-wrap\">\n",
       "<span class=\"img-box\"><img alt=\"1月～3月　暖冬が続き　春の訪れも早い　急な大雪や寒暖差には注意　3か月予報\" height=\"72\" src=\"https://storage.tenki.jp/storage/static-images/forecaster_diary/image/2/26/266/26627/main/20231219152733/square.jpg\" width=\"72\"/></span>\n",
       "</span>\n",
       "<span class=\"body\">\n",
       "<span class=\"title\">1月～3月　暖冬が続き　春の訪れも早い　急な大雪や寒暖差には注意　3か月予報</span>\n",
       "<time class=\"date-time\" datetime=\"2023-12-19T16:25:08+09:00\">19日16:25</time>\n",
       "</span></a>\n",
       "</li>\n",
       "<li><a href=\"/forecaster/t_yoshida/2023/12/19/26624.html\">\n",
       "<span class=\"img-wrap\">\n",
       "<span class=\"img-box\"><img alt=\"道路の気象影響予測　北～西日本　今週後半は大雪や猛吹雪の影響大　立ち往生の恐れ\" height=\"72\" src=\"https://storage.tenki.jp/storage/static-images/forecaster_diary/image/2/26/266/26624/main/20231219140332/square.jpg\" width=\"72\"/></span>\n",
       "</span>\n",
       "<span class=\"body\">\n",
       "<span class=\"title\">道路の気象影響予測　北～西日本　今週後半は大雪や猛吹雪の影響大　立ち往生の恐れ</span>\n",
       "<time class=\"date-time\" datetime=\"2023-12-19T14:53:20+09:00\">19日14:53</time>\n",
       "</span></a>\n",
       "</li>\n",
       "<li><a href=\"/forecaster/deskpart/2023/12/19/26621.html\">\n",
       "<span class=\"img-wrap\">\n",
       "<span class=\"img-box\"><img alt=\"関東も空気冷たく　東京都心の正午の気温9.4℃　今週末は一段と冷え込む\" height=\"72\" src=\"https://storage.tenki.jp/storage/static-images/forecaster_diary/image/2/26/266/26621/main/20231219122018/square.jpg\" width=\"72\"/></span>\n",
       "</span>\n",
       "<span class=\"body\">\n",
       "<span class=\"title\">関東も空気冷たく　東京都心の正午の気温9.4℃　今週末は一段と冷え込む</span>\n",
       "<time class=\"date-time\" datetime=\"2023-12-19T12:30:35+09:00\">19日12:30</time>\n",
       "</span></a>\n",
       "</li>\n",
       "<li><a href=\"/forecaster/m_kimura/2023/12/19/26622.html\">\n",
       "<span class=\"img-wrap\">\n",
       "<span class=\"img-box\"><img alt=\"2週間天気　クリスマス頃には冬将軍撤退　元日は季節外れの暖かさも\" height=\"72\" src=\"https://storage.tenki.jp/storage/static-images/forecaster_diary/image/2/26/266/26622/main/20231219112118/square.jpg\" width=\"72\"/></span>\n",
       "</span>\n",
       "<span class=\"body\">\n",
       "<span class=\"title\">2週間天気　クリスマス頃には冬将軍撤退　元日は季節外れの暖かさも</span>\n",
       "<time class=\"date-time\" datetime=\"2023-12-19T12:08:15+09:00\">19日12:08</time>\n",
       "</span></a>\n",
       "</li>\n",
       "<li><a href=\"/forecaster/kumiko_yamaguchi/2023/12/19/26620.html\">\n",
       "<span class=\"img-wrap\">\n",
       "<span class=\"img-box\"><img alt=\"九州　今日19日は山沿い中心に積雪　21～22日は平野部も積雪　交通影響に警戒\" height=\"72\" src=\"https://storage.tenki.jp/storage/static-images/forecaster_diary/image/2/26/266/26620/main/20231219105233/square.jpg\" width=\"72\"/></span>\n",
       "</span>\n",
       "<span class=\"body\">\n",
       "<span class=\"title\">九州　今日19日は山沿い中心に積雪　21～22日は平野部も積雪　交通影響に警戒</span>\n",
       "<time class=\"date-time\" datetime=\"2023-12-19T11:27:35+09:00\">19日11:27</time>\n",
       "</span></a>\n",
       "</li>\n",
       "<li><a href=\"/forecaster/deskpart/2023/12/19/26619.html\">\n",
       "<span class=\"img-wrap\">\n",
       "<span class=\"img-box\"><img alt=\"関東から北で冷え込み強まる　北海道陸別町で氷点下24.0℃　今季全国最低\" height=\"72\" src=\"https://storage.tenki.jp/storage/static-images/forecaster_diary/image/2/26/266/26619/main/20231219084153/square.jpg\" width=\"72\"/></span>\n",
       "</span>\n",
       "<span class=\"body\">\n",
       "<span class=\"title\">関東から北で冷え込み強まる　北海道陸別町で氷点下24.0℃　今季全国最低</span>\n",
       "<time class=\"date-time\" datetime=\"2023-12-19T09:05:52+09:00\">19日09:05</time>\n",
       "</span></a>\n",
       "</li>\n",
       "<li><a href=\"/forecaster/deskpart/2023/12/19/26617.html\">\n",
       "<span class=\"img-wrap\">\n",
       "<span class=\"img-box\"><img alt=\"北海道で積雪150センチ超え　昨日18日から積雪急増　大雪いつまで?\" height=\"72\" src=\"https://storage.tenki.jp/storage/static-images/forecaster_diary/image/2/26/266/26617/main/20231219072159/square.jpg\" width=\"72\"/></span>\n",
       "</span>\n",
       "<span class=\"body\">\n",
       "<span class=\"title\">北海道で積雪150センチ超え　昨日18日から積雪急増　大雪いつまで?</span>\n",
       "<time class=\"date-time\" datetime=\"2023-12-19T07:34:47+09:00\">19日07:34</time>\n",
       "</span></a>\n",
       "</li>\n",
       "<li><a href=\"/forecaster/deskpart/2023/12/19/26618.html\">\n",
       "<span class=\"img-wrap\">\n",
       "<span class=\"img-box\"><img alt=\"19日　お帰り時間の傘予報　西日本は太平洋側を中心に雨　北陸以北は雪や雨\" height=\"72\" src=\"https://storage.tenki.jp/storage/static-images/forecaster_diary/image/2/26/266/26618/main/20231219062847/square.jpg\" width=\"72\"/></span>\n",
       "</span>\n",
       "<span class=\"body\">\n",
       "<span class=\"title\">19日　お帰り時間の傘予報　西日本は太平洋側を中心に雨　北陸以北は雪や雨</span>\n",
       "<time class=\"date-time\" datetime=\"2023-12-19T06:59:31+09:00\">19日06:59</time>\n",
       "</span></a>\n",
       "</li>\n",
       "<li><a href=\"/forecaster/deskpart/2023/12/19/26616.html\">\n",
       "<span class=\"img-wrap\">\n",
       "<span class=\"img-box\"><img alt=\"19日の服装指数　北日本は万全な寒さ対策を　東～西日本も厚手の上着が必要\" height=\"72\" src=\"https://storage.tenki.jp/storage/static-images/forecaster_diary/image/2/26/266/26616/main/20231219052642/square.jpg\" width=\"72\"/></span>\n",
       "</span>\n",
       "<span class=\"body\">\n",
       "<span class=\"title\">19日の服装指数　北日本は万全な寒さ対策を　東～西日本も厚手の上着が必要</span>\n",
       "<time class=\"date-time\" datetime=\"2023-12-19T06:27:15+09:00\">19日06:27</time>\n",
       "</span></a>\n",
       "</li>\n",
       "<li><a href=\"/forecaster/m_kimura/2023/12/19/26615.html\">\n",
       "<span class=\"img-wrap\">\n",
       "<span class=\"img-box\"><img alt=\"19日　九州は本格的に雪　各地で厳しい寒さ　北海道はなだれや落雪に注意\" height=\"72\" src=\"https://storage.tenki.jp/storage/static-images/forecaster_diary/image/2/26/266/26615/main/20231219043850/square.jpg\" width=\"72\"/></span>\n",
       "</span>\n",
       "<span class=\"body\">\n",
       "<span class=\"title\">19日　九州は本格的に雪　各地で厳しい寒さ　北海道はなだれや落雪に注意</span>\n",
       "<time class=\"date-time\" datetime=\"2023-12-19T05:46:00+09:00\">19日05:46</time>\n",
       "</span></a>\n",
       "</li>\n",
       "<li><a href=\"/forecaster/deskpart/2023/12/19/26614.html\">\n",
       "<span class=\"img-wrap\">\n",
       "<span class=\"img-box\"><img alt=\"関東地方　今季初の真冬日\" height=\"72\" src=\"https://storage.tenki.jp/storage/static-images/forecaster_diary/image/2/26/266/26614/main/20231219002649/square.jpg\" width=\"72\"/></span>\n",
       "</span>\n",
       "<span class=\"body\">\n",
       "<span class=\"title\">関東地方　今季初の真冬日</span>\n",
       "<time class=\"date-time\" datetime=\"2023-12-19T00:13:24+09:00\">19日00:13</time>\n",
       "</span></a>\n",
       "</li>\n",
       "</ul>\n",
       "</div>\n",
       "</div>\n",
       "<!-- past/forecaster/2023/past-forecaster-diary-20231219.html ## generate at 2023-12-22 21:17:02 -->\n",
       "<!-- /過去日直 -->\n",
       "</section>\n",
       "<!-- past/weather/2023/12/19/past-weather-sub-column-daily-2023-12-19-pref-17.html date:2023-12-19 (関東・甲信地方) public_date:2023-12-19 ## generate at 2023-12-22 21:29:05 -->\n",
       "<section class=\"sub-column-section-wrap\">\n",
       "<h3 class=\"left-style date-time-set\">実況天気<span class=\"point-name\">(関東・甲信地方)</span><span class=\"date\"><time datetime=\"2023-12-19T00:00:00+09:00\">2023年12月19日</time></span></h3>\n",
       "<table class=\"past-live-area-pref-list-entries\">\n",
       "<tr>\n",
       "<th>地点名</th><th>天気</th><th>最高気温</th><th>最低気温</th><th>日積算<br/>降水量</th>\n",
       "</tr> <td class=\"name-entry\"><a href=\"/past/2023/12/19/weather/3/17/47670/\">横浜</a></td>\n",
       "<td class=\"weather-entry\"><a href=\"/past/2023/12/19/weather/3/17/47670/\"><img alt=\"天気：曇\" height=\"30\" src=\"https://static.tenki.jp/images/icon/forecast-days-weather/08.gif\" width=\"47\"/></a></td>\n",
       "<td class=\"max-temp-entry\"><span class=\"temp-entry-telop max-temp\">11.0℃</span></td>\n",
       "<td class=\"min-temp-entry\"><span class=\"temp-entry-telop min-temp\">4.8℃</span></td>\n",
       "<td class=\"precip-entry\"><span class=\"precip-entry-telop\">0.0</span>mm</td>\n",
       "\n",
       "</table>\n",
       "<div class=\"more-link-box\">\n",
       "<a href=\"/past/2023/12/19/weather/3/17/\">詳しく見る</a>\n",
       "</div>\n",
       "</section><!-- /.section-wrap -->\n",
       "<!-- /past/weather/2023/12/19/past-weather-sub-column-daily-2023-12-19-pref-17.html date:2023-12-19 (関東・甲信地方) public_date:2023-12-19 ## generate at 2023-12-22 21:29:05 -->\n",
       "<!-- /common/footer-past.html ## generate at 2024-01-12 12:32:15 -->\n",
       "<!-- common/ad-3rd-pd.html ## generate at 2024-01-12 12:32:15 -->\n",
       "<!-- 2016/05/02 for common 3rd_PD -->\n",
       "<div class=\"tenki-ad-3rd-pd\" id=\"tenki-ad-3rd_PD\"></div>\n",
       "<script type=\"text/javascript\">googletag.cmd.push(function() { googletag.display('tenki-ad-3rd_PD'); });</script>\n",
       "<!-- /2016/05/02 for common 3rd_PD -->\n",
       "<!-- /common/ad-3rd-pd.html ## generate at 2024-01-12 12:32:15 -->\n",
       "<div class=\"sns-account-list-box\">\n",
       "<div class=\"sns-account-list-title\">tenki.jp公式SNS</div>\n",
       "<ul class=\"sns-account-list\">\n",
       "<li class=\"sns-account-twitter\"><a href=\"https://twitter.com/tenkijp\" target=\"_blank\"><img alt=\"X(旧：Twitter)\" height=\"64\" src=\"https://static.tenki.jp/images/icon/sns/sns-icon_x.png\" width=\"64\"/></a></li>\n",
       "<li class=\"sns-account-youtube\"><a href=\"https://www.youtube.com/@tenkijp\" target=\"_blank\"><img alt=\"Youtube\" height=\"64\" src=\"https://static.tenki.jp/images/icon/sns/sns-icon_youtube.png\" width=\"64\"/></a></li>\n",
       "<li class=\"sns-account-facebook\"><a href=\"https://www.facebook.com/search/top?q=tenki.jp\" target=\"_blank\"><img alt=\"Facebook\" height=\"64\" src=\"https://static.tenki.jp/images/icon/sns/sns-icon_facebook.png\" width=\"64\"/></a></li>\n",
       "<li class=\"sns-account-instagram\"><a href=\"https://instagram.com/tenkijp\" target=\"_blank\"><img alt=\"Instagram\" height=\"64\" src=\"https://static.tenki.jp/images/icon/sns/sns-icon_Instagram.png\" width=\"64\"/></a></li>\n",
       "</ul>\n",
       "<style>\n",
       "      .sns-account-list-box {\n",
       "        border: 1px solid #cccccc;\n",
       "        border-radius: 4px;\n",
       "        margin-bottom: 30px;\n",
       "      }\n",
       "      .sns-account-list-title {\n",
       "        color: #0061ca;\n",
       "        font-weight: bold;\n",
       "        margin-top: 15px;\n",
       "        text-align: center;\n",
       "        line-height: 1;\n",
       "      }\n",
       "      .sns-account-list {\n",
       "        display: flex;\n",
       "        justify-content: space-evenly;\n",
       "        margin: 10px 0;\n",
       "      }\n",
       "      .sns-account-list li a,\n",
       "      .sns-account-list li img {\n",
       "        display: block;\n",
       "        width: 64px;\n",
       "        height: 64px;\n",
       "        border-radius: 4px;\n",
       "      }\n",
       "    </style>\n",
       "</div>\n",
       "</div><!-- /right column -->\n",
       "<nav class=\"ft-nav clearfix\" id=\"ft-nav\">\n",
       "<p id=\"ft-nav-title\">全国のコンテンツ</p>\n",
       "<p id=\"ft-nav-top-link\"><a href=\"http://www.tenki.jp/\">tenki.jpトップ</a></p>\n",
       "<div id=\"ft-nav-menu-wrap\">\n",
       "<div class=\"ft-nav-menu-entry\" id=\"ft-nav-menu-forecast\">\n",
       "<p>天気予報</p>\n",
       "<ul>\n",
       "<li><a href=\"/\">天気予報</a></li>\n",
       "<li><a href=\"/world/\">世界天気</a></li>\n",
       "<li><a href=\"/week/\">2週間天気</a></li>\n",
       "<li><a href=\"/long/\">長期予報</a></li>\n",
       "<li><a href=\"/radar/\">雨雲レーダー</a></li>\n",
       "<li><a href=\"/snow-map/\">積雪マップ</a></li>\n",
       "<li><a href=\"/particulate_matter/\">PM2.5分布予測</a></li>\n",
       "<li><a href=\"/jaxa/\">世界の雨雲</a></li>\n",
       "<li><a href=\"/thunder/forecast.html\">雷(予報)</a></li>\n",
       "<li><a href=\"/road/\">道路気象</a></li>\n",
       "<li><a href=\"/yellow-sand/\">黄砂情報</a></li>\n",
       "</ul>\n",
       "</div>\n",
       "<div class=\"ft-nav-menu-entry\" id=\"ft-nav-menu-weatherguide\">\n",
       "<p>観測</p>\n",
       "<ul>\n",
       "<li><a href=\"/radar/past.html\">雨雲(過去)</a></li>\n",
       "<li><a href=\"/amedas/\">アメダス実況</a></li>\n",
       "<li><a href=\"/live/\">実況天気</a></li>\n",
       "<li class=\"active\"><a href=\"/past/\">過去天気</a></li>\n",
       "<li><a href=\"/thunder/\">雷(実況)</a></li>\n",
       "</ul>\n",
       "</div>\n",
       "<div class=\"ft-nav-menu-entry\" id=\"ft-nav-menu-disaster\">\n",
       "<p>防災情報</p>\n",
       "<ul>\n",
       "<li><a href=\"/bousai/warn/\">警報・注意報</a></li>\n",
       "<li><a href=\"/bousai/earthquake/\">地震情報</a></li>\n",
       "<li><a href=\"/bousai/tsunami/\">津波情報</a></li>\n",
       "<li><a href=\"/bousai/volcano/\">火山情報</a></li>\n",
       "<li><a href=\"/bousai/typhoon/\">台風情報</a></li>\n",
       "<li><a href=\"/bousai/knowledge/\">知る防災</a></li>\n",
       "</ul>\n",
       "</div>\n",
       "<div class=\"ft-nav-menu-entry\" id=\"ft-nav-menu-chart\">\n",
       "<p>天気図</p>\n",
       "<ul>\n",
       "<li><a href=\"/guide/chart/\">天気図</a></li>\n",
       "<li><a href=\"/satellite/\">気象衛星</a></li>\n",
       "<li><a href=\"/satellite/world/\">世界衛星</a></li>\n",
       "</ul>\n",
       "</div>\n",
       "<div class=\"ft-nav-menu-entry clearfix\" id=\"ft-nav-menu-indexes\">\n",
       "<p>指数情報</p>\n",
       "<div class=\"ft-nav-menu-entry-indexes\">\n",
       "<ul>\n",
       "<li class=\"title\">通年</li>\n",
       "<li><a href=\"/indexes/cloth_dried/\">洗濯</a></li>\n",
       "<li><a href=\"/indexes/dress/\">服装</a></li>\n",
       "<li><a href=\"/indexes/odekake/\">お出かけ</a></li>\n",
       "<li><a href=\"/indexes/starry_sky/\">星空</a></li>\n",
       "<li><a href=\"/indexes/umbrella/\">傘</a></li>\n",
       "<li><a href=\"/indexes/uv_index_ranking/\">紫外線</a></li>\n",
       "<li><a href=\"/indexes/self_temp/\">体感温度</a></li>\n",
       "<li><a href=\"/indexes/carwashing/\">洗車</a></li>\n",
       "<li><a href=\"/indexes/sleep/\">睡眠</a></li>\n",
       "<li><a href=\"/indexes/heattech/\">ヒートテック</a></li> </ul>\n",
       "</div>\n",
       "<div class=\"ft-nav-menu-entry-indexes\" style=\"margin-right:0;\">\n",
       "<ul>\n",
       "<li class=\"title\">冬季</li>\n",
       "<li><a href=\"/indexes/freezing_water/\">水道凍結</a></li>\n",
       "<li><a href=\"/indexes/skin_dried/\">うるおい</a></li>\n",
       "<li><a href=\"/indexes/frost/\">霜</a></li>\n",
       "<li><a href=\"/indexes/cough/\">風邪ひき</a></li>\n",
       "<li><a href=\"/indexes/danbo/\">暖房</a></li>\n",
       "<li><a href=\"/indexes/hot_pot/\">鍋もの</a></li>\n",
       "<li><a href=\"/indexes/gap_temp/\">寒暖差</a></li>\n",
       "<li><a href=\"/indexes/wintersweat/\">冬の汗予報</a></li>\n",
       "</ul>\n",
       "</div>\n",
       "</div>\n",
       "<div class=\"ft-nav-menu-entry\" id=\"ft-nav-menu-leisure\">\n",
       "<p>レジャー天気</p>\n",
       "<ul>\n",
       "<li><a href=\"/mountain/\">山の天気</a></li>\n",
       "<li><a href=\"/wave/\">海の天気</a></li>\n",
       "<li><a href=\"/leisure/airport/\">空港</a></li>\n",
       "<li><a href=\"/leisure/baseball/\">野球場</a></li>\n",
       "<li><a href=\"/leisure/soccer/\">サッカー場</a></li>\n",
       "<li><a href=\"/leisure/golf/\">ゴルフ場</a></li>\n",
       "<li><a href=\"/leisure/camp/\">キャンプ場</a></li>\n",
       "<li><a href=\"/leisure/horse/\">競馬・競艇・競輪</a></li>\n",
       "<li><a href=\"/leisure/fishing/\">釣り</a></li>\n",
       "<li><a href=\"/leisure/\">お出かけスポット天気</a></li>\n",
       "</ul>\n",
       "</div>\n",
       "<div class=\"ft-nav-menu-entry\" id=\"ft-nav-menu-season\">\n",
       "<p>季節特集</p>\n",
       "<ul>\n",
       "<li><a href=\"/pollen/\">花粉飛散情報<span>(1～5月頃)</span></a></li>\n",
       "<li><a href=\"/sakura/\">桜開花情報<span>(2～5月頃)</span></a></li>\n",
       "<li><a href=\"/goldenweek/\">GWの天気<span>(4～5月頃)</span></a></li>\n",
       "<li><a href=\"/rainy-season/\">梅雨入り・明け<span>(5～7月頃)</span></a></li>\n",
       "<li><a href=\"/heatstroke/\">熱中症情報<span>(4～9月頃)</span></a></li>\n",
       "<li><a href=\"/kouyou/\">紅葉見頃情報<span>(10～11月頃)</span></a></li>\n",
       "<li><a href=\"/heatshock/\">ヒートショック<span>(10～3月頃)</span></a></li>\n",
       "<li><a href=\"/season/ski/\">スキー積雪情報<span>(11～5月頃)</span></a></li>\n",
       "<li><a href=\"/newyear/\">初日の出<span>(12～1月頃)</span></a></li>\n",
       "</ul>\n",
       "</div>\n",
       "<div class=\"ft-nav-menu-entry\" id=\"ft-nav-menu-labo\">\n",
       "<p>天気ニュース</p>\n",
       "<ul>\n",
       "<li><a href=\"/forecaster/\">気象予報士解説</a></li>\n",
       "<li><a href=\"/suppl/entries/\">暮らしの話題</a></li>\n",
       "<li><a href=\"/news/\">放送局のニュース</a></li>\n",
       "<li><a href=\"/feature/\">特集</a></li>\n",
       "</ul>\n",
       "</div>\n",
       "</div><!-- #ft-nav-menu-wrap -->\n",
       "</nav>\n",
       "<!-- .ft-app -->\n",
       "<div class=\"ft-app clearfix\">\n",
       "<picture>\n",
       "<source srcset=\"https://static.tenki.jp/images/banner/tenkijp_ft_external_img.webp\" type=\"image/webp\"/>\n",
       "<img height=\"240\" id=\"ft-app-image\" loading=\"lazy\" src=\"https://static.tenki.jp/images/banner/tenkijp_ft_external_img.png\" usemap=\"#ft-app-image-clickable\" width=\"1048\"/>\n",
       "</picture>\n",
       "<map id=\"ft-app-image-clickable\" name=\"ft-app-image-clickable\">\n",
       "<area alt=\"tenki.jp(iPhone)\" coords=\"188,120,323,160\" href=\"https://app.adjust.com/texs8az?campaign=pc\" shape=\"rect\" target=\"_blank\"/>\n",
       "<area alt=\"tenki.jp(Android)\" coords=\"343,120,478,160\" href=\"https://app.adjust.com/6dgfok2?campaign=pc\" shape=\"rect\" target=\"_blank\"/>\n",
       "<area alt=\"tenki.jp 登山天気(iPhone)\" coords=\"555,120,690,160\" href=\"https://app.adjust.com/4d876gw?campaign=pc&amp;adgroup=top&amp;creative=20200114-1&amp;redirect=https%3A%2F%2Fapps.apple.com%2Fapp%2Fid1144845642\" shape=\"rect\" target=\"_blank\"/>\n",
       "<area alt=\"tenki.jp 登山天気(Android)\" coords=\"710,120,845,160\" href=\"https://app.adjust.com/4d876gw?campaign=pc&amp;adgroup=top&amp;creative=20200114-1&amp;redirect=https%3A%2F%2Fplay.google.com%2Fstore%2Fapps%2Fdetails%3Fid%3Djp.or.jwa.tenkijpyama\" shape=\"rect\" target=\"_blank\"/>\n",
       "</map>\n",
       "</div><!-- /.ft-app -->\n",
       "<script>\n",
       "(function(){\n",
       "  var interstitialSlot, staticSlot;\n",
       "  googletag.cmd.push(function() {\n",
       "    // Define a web interstitial ad slot.\n",
       "    interstitialSlot = googletag.defineOutOfPageSlot(\n",
       "        '/11384922/PC_interstitial',\n",
       "        googletag.enums.OutOfPageFormat.INTERSTITIAL);\n",
       "\n",
       "    // Slot returns null if the page or device does not support interstitials.\n",
       "    if (interstitialSlot) {\n",
       "      interstitialSlot.setTargeting(\"category\",\"past\").setTargeting(\"domain\",\"tenki.jp\");\n",
       "      interstitialSlot.addService(googletag.pubads());\n",
       "    }\n",
       "  });\n",
       "})();\n",
       "</script>\n",
       "<footer id=\"footer\">\n",
       "<ul class=\"ft-menu clearfix\">\n",
       "<li>会社概要（<a href=\"http://www.jwa.or.jp/corporate/\" target=\"_blank\">日本気象協会</a>/<a href=\"https://www.alink.ne.jp/\" target=\"_blank\">ALiNKインターネット</a>）</li>\n",
       "<li><a href=\"/docs/rule/\">利用規約</a></li>\n",
       "<li><a href=\"/docs/privacypolicy/\">プライバシーポリシー</a></li>\n",
       "<li><a href=\"/docs/cookiepolicy/\">クッキーポリシー</a></li>\n",
       "<li><a href=\"/docs/advertise/\">広告掲載</a></li>\n",
       "<li><a href=\"https://config.tenki.jp/config/inquiry/\">お問い合わせ</a></li>\n",
       "</ul><small class=\"ft-copyright\">Copyright (C) 2024 <a href=\"http://www.jwa.or.jp/corporate/\" target=\"_blank\">日本気象協会</a> All Rights Reserved.<br/>Copyright (C) 2024 <a href=\"https://www.alink.ne.jp/\" target=\"_blank\">ALiNKインターネット</a> All Rights Reserved.</small>\n",
       "</footer>\n",
       "<style>\n",
       "#sm_overlay_1_hide_button {\n",
       "  position: absolute;\n",
       "  top: -24px;\n",
       "  right: -3px;\n",
       "  height: 25px;\n",
       "  font-weight: bold;\n",
       "  color: #cccccc;\n",
       "  border-radius: 12px 0 0 0;\n",
       "  box-shadow: -1px -1px 5px rgba(0,0,0,0.2);\n",
       "  background-color: rgba(255,255,255,1.0);\n",
       "  border: none;\n",
       "  padding: 0 8px 0 5px;\n",
       "  width: 30px;\n",
       "  text-align: center;\n",
       "  cursor: pointer;\n",
       "}\n",
       ".tenki-ad-pc-overlay-wrapper {\n",
       "  position: fixed;\n",
       "  z-index: 100000;\n",
       "  bottom: 0;\n",
       "  left: 0;\n",
       "  width: 100%;\n",
       "  box-sizing: border-box;\n",
       "  background: #fff;\n",
       "}\n",
       ".tenki-ad-pc-overlay {\n",
       "  display: flex;\n",
       "  justify-content: center;\n",
       "}\n",
       ".overlay-close-btn {\n",
       "  font-size: 1.5em;\n",
       "}\n",
       ".overlay-hide {\n",
       "  bottom: -200px !important;\n",
       "}\n",
       "</style>\n",
       "<div class=\"tenki-ad-pc-overlay-wrapper overlay-hide\">\n",
       "<button id=\"sm_overlay_1_hide_button\"><span class=\"overlay-close-btn\">×</span></button>\n",
       "<div class=\"tenki-ad-pc-overlay\" id=\"gpt-passback\"></div>\n",
       "</div>\n",
       "<script>\n",
       "(function(){\n",
       "  let insertComplete = false;\n",
       "  const target = document.querySelector('.tenki-ad-pc-overlay-wrapper');\n",
       "  if (!target) return;\n",
       "  window.addEventListener('scroll', function(){\n",
       "    if (window.scrollY > 100) {\n",
       "      target.classList.remove('overlay-hide');\n",
       "      if (!insertComplete) {\n",
       "        window.googletag = window.googletag || {cmd: []};\n",
       "        googletag.cmd.push(function() {\n",
       "          const slot = googletag.defineSlot('/11384922/PC_overlay', [[640, 100], [728, 90], [468, 60]], 'gpt-passback').addService(googletag.pubads());\n",
       "          googletag.pubads().refresh([slot]);\n",
       "          googletag.enableServices();\n",
       "        });\n",
       "      }\n",
       "      insertComplete = true;\n",
       "    } else {\n",
       "      target.classList.add('overlay-hide');\n",
       "    }\n",
       "  });\n",
       "  const closeButton = document.getElementById('sm_overlay_1_hide_button');\n",
       "  if (!closeButton) return;\n",
       "  closeButton.addEventListener('click', function(){\n",
       "    target.remove();\n",
       "  })\n",
       "})();\n",
       "</script>\n",
       "<!-- intimatemerger 2016/01/18 -->\n",
       "<script type=\"text/javascript\">\n",
       " (function(w,d,s){\n",
       "  var f=d.getElementsByTagName(s)[0],j=d.createElement(s);\n",
       "  j.async=true;j.src='//dmp.im-apps.net/js/8235/0001/itm.js';\n",
       "  f.parentNode.insertBefore(j, f);\n",
       " })(window,document,'script');\n",
       "</script>\n",
       "<!-- /intimatemerger 2016/01/18 -->\n",
       "<!-- macromill 2017/02/01 -->\n",
       "<script id=\"_lognos_script_\">\n",
       "// begin edit block\n",
       "var _lognos = {params: {}, paramOrder: []};\n",
       "    _lognos.params.key1 = \"\";\n",
       "    _lognos.params.key2 = \"\";\n",
       "    _lognos.params.key3 = \"\";\n",
       "    _lognos.params.key4 = \"\";\n",
       "    _lognos.params.key5 = \"\";\n",
       "    _lognos.params.key6 = \"\";\n",
       "    _lognos.params.key7 = \"\";\n",
       "    _lognos.params.key8 = \"\";\n",
       "    _lognos.params.key9 = \"\";\n",
       "    _lognos.params.key10 = \"\";\n",
       "    // end edit block\n",
       "\n",
       "    // don't edit\n",
       "    _lognos.paramOrder = [\"key1\",\"key2\",\"key3\",\"key4\",\"key5\",\"key6\",\"key7\",\"key8\",\"key9\",\"key10\"];\n",
       "\n",
       "(function(a,b){\n",
       "    a.async = true; a.id = \"_lognos_script_\";\n",
       "    a.src = '//img.macromill.com/js/us000893bzp/4000014521-b4/lognos.js';\n",
       "    b.parentNode.insertBefore(a,b);\n",
       "}(document.createElement('script'),document.getElementsByTagName('script')[0]));\n",
       "</script>\n",
       "<!-- /macromill 2017/02/01 -->\n",
       "<!-- DMP tag 2020/10/05 -->\n",
       "<script>(function(w,d,s,g,i){\n",
       "    w[g] = w[g]||[];\n",
       "    var h = {};\n",
       "    h['acid'] = i;\n",
       "    h['server'] = 't.dc-tag.jp';\n",
       "    w[g].push(h);\n",
       "    var t = d.getElementsByTagName(s)[0];\n",
       "    var u = d.createElement(s);\n",
       "    u.async=true;\n",
       "    u.src='https://s.dc-tag.jp/lib.min.js';\n",
       "    t.parentNode.insertBefore(u,t);\n",
       "    })(window,document,'script','DCTMTAG','10016');\n",
       "</script>\n",
       "<!-- /DMP tag 2020/10/05 -->\n",
       "<!-- microad 2018/11/12 -->\n",
       "<script src=\"//d-cache.microad.jp/js/td_tjp_access.js\" type=\"text/javascript\"></script>\n",
       "<script type=\"text/javascript\">\n",
       "  microadTd.TJP.start({})\n",
       "</script>\n",
       "<!-- /microad 2018/11/12 -->\n",
       "<!-- GMO tag 2021/02/18 -->\n",
       "<script charset=\"utf-8\" src=\"https://minerva-deliver.sp.gmossp-sp.jp/tags/?tag_id=10935\" type=\"text/javascript\"></script>\n",
       "<!-- /GMO tag 2021/02/18 -->\n",
       "<!-- h -->\n",
       "<script type=\"text/javascript\">\n",
       "<!--\n",
       "var __escapeHTML = function(val) { return $('<div />').text(val).html() };\n",
       "var __h = localStorage.getItem('h');\n",
       "var __historyCoachMarkValid = false;\n",
       "function __set_h_point() {\n",
       "  var __jiscode = '';\n",
       "  var __name    = '';\n",
       "  var __path    = '/past/2023/12/19/amedas/3/17/46091.html';\n",
       "  var __type    = '';\n",
       "  if(!__jiscode || !__name || !__path) {\n",
       "      return '';\n",
       "  }\n",
       "  // for warn\n",
       "  if(__type && __type == 'warn') {\n",
       "      return '';\n",
       "  // for typhoon\n",
       "  } else if(__type && __type == 'typhoon') {\n",
       "      return '';\n",
       "  // for indexes\n",
       "  } else if(__type && __type == 'indexes') {\n",
       "      return '';\n",
       "  }\n",
       "  var __entries = localStorage.getItem('h');\n",
       "  if(__entries) {\n",
       "      __entries = JSON.parse(__entries);\n",
       "  }\n",
       "  if (!!__entries === false || __entries.length === 0) {\n",
       "    __historyCoachMarkValid = true;\n",
       "  }\n",
       "  if(!__entries || !Array.isArray(__entries) || !__entries[0] || !__entries[0]['name'] || !__entries[0]['path']) {\n",
       "     __entries = [];\n",
       "  }\n",
       "  var __verify_entries = [];\n",
       "  __verify_entries.push({'jiscode':__jiscode,'name':__name,'path':__path,'type':__type});\n",
       "  var __entries_limit = __entries.length;\n",
       "  if(__entries_limit && __entries_limit > 20) {\n",
       "      __entries_limit = 20;\n",
       "  }\n",
       "  LOOP_I : for (var __i=0; __i < __entries_limit; __i++) {\n",
       "    if(__entries[__i] && __entries[__i]['jiscode'] && __entries[__i]['name'] && __entries[__i]['path'] && __entries[__i]['path'] != __path) {\n",
       "      __verify_entries.push(__entries[__i]);\n",
       "    }\n",
       "  }\n",
       "  localStorage.setItem('h',JSON.stringify(__verify_entries));\n",
       "};\n",
       "__set_h_point();\n",
       "\n",
       "function __remove_h_point(i) {\n",
       "  var __entries = localStorage.getItem('h');\n",
       "  if(__entries) {\n",
       "      __entries = JSON.parse(__entries);\n",
       "  }\n",
       "  var __verify_entries = [];\n",
       "  LOOP_I : for (var __i=0; __i < __entries.length; __i++) {\n",
       "    if(__entries[__i] && __entries[__i]['jiscode'] && __entries[__i]['name'] && __entries[__i]['path'] && __i != i) {\n",
       "      __verify_entries.push(__entries[__i]);\n",
       "    }\n",
       "  }\n",
       "  localStorage.setItem('h',JSON.stringify(__verify_entries));\n",
       "  $('#history-entries').html('');\n",
       "  $('#forecast-map-history-box-recent-entry').html('');\n",
       "  $('#forecast-map-history-wrap').html('');\n",
       "};\n",
       "\n",
       "function __get_h_point_entries() {\n",
       "  var __entries = localStorage.getItem('h');\n",
       "  if(__entries) {\n",
       "      __entries = JSON.parse(__entries);\n",
       "  }\n",
       "  if(!__entries || !Array.isArray(__entries) || !__entries[0] || !__entries[0]['name'] || !__entries[0]['path']) {\n",
       "    __entries = [];\n",
       "    $('#history-btn').remove();\n",
       "    $('.forecast-map-btn-wrap > p').html('');\n",
       "    $('#forecast-map-history-box-recent-entry').remove();\n",
       "    return false;\n",
       "  }\n",
       "  if(__entries && Array.isArray(__entries) && __entries.length <= 1) {\n",
       "    $('#history-btn').remove();\n",
       "  }\n",
       "  var __processed_entry_by_jiscode = [];\n",
       "  var $history_entries = $('#history-entries');\n",
       "  LOOP_I : for ( var __i=0; __i < __entries.length; __i++ ) {\n",
       "     if(!__entries[__i] || !__entries[__i]['name'] || !__entries[__i]['path']) {\n",
       "         continue LOOP_I;\n",
       "     }\n",
       "     var __jiscode = __escapeHTML(__entries[__i]['jiscode']);\n",
       "     var __name = __escapeHTML(__entries[__i]['name']);\n",
       "     var __path = __escapeHTML(__entries[__i]['path']);\n",
       "     var __type = __escapeHTML(__entries[__i]['type']);\n",
       "     if(!__type) {\n",
       "        // for header base html\n",
       "        if(__i < 6) {\n",
       "            var __html = '<li id=\"history-entry-' + __i + '\"><a href=\"' + __path + '\" class=\"history-entries-link clearfix\"><div class=\"img-box\"><img src=\"https://static.tenki.jp/images/icon/forecast-days-weather/00.png\" width=\"47\" height=\"30\" alt=\"---\"></div><div class=\"info-box\"><span class=\"name\">' + __name + '</span><span class=\"temp-box\"><span class=\"max_t\">---</span><span class=\"grey\">/</span><span class=\"min_t\">---</span></span></div></a><a href=\"javascript:void(0);\" class=\"history-entry-close\">ｘ</a></li>';\n",
       "            $('#history-entries').append(__html);\n",
       "        }\n",
       "        // for body recent html\n",
       "        if(__i == 0 && document.getElementById('forecast-map-history-box-recent-entry')) {\n",
       "            var _html = '<a href=\"javascript:void(0);\"><span class=\"grey\">---</span><br><img class=\"forecast-image\" src=\"https://static.tenki.jp/images/icon/forecast-days-weather/00.png\" alt=\"---\" width=\"47\" height=\"30\"><br><span class=\"grey\">---</span><span class=\"grey\">/</span><span class=\"grey\">---</span><span class=\"grey\">---</span></a>';\n",
       "            $('#forecast-map-history-box-recent-entry').html(_html);\n",
       "        }\n",
       "        // for body base html\n",
       "        if(__i >= 1 && __i <= 9){\n",
       "            var __html = '<div id=\"history-body-entry-' + __i + '\" class=\"forecast-map-history-box\"><a href=\"' + __path + '\">' + __name + '<br>' + '<img class=\"forecast-image\" src=\"https://static.tenki.jp/images/icon/forecast-days-weather/00.png\" width=\"47\" height=\"30\" alt=\"---\"><br><span class=\"max-temp\">---</span><span class=\"grey\">/</span><span class=\"min-temp\">---</span><span class=\"prob-precip\">---</span></a></div>';\n",
       "            $('#forecast-map-history-wrap').append(__html);\n",
       "        }\n",
       "        if(__processed_entry_by_jiscode['forecast_' + __entries[__i]['jiscode']]) {\n",
       "            continue LOOP_I;\n",
       "        }\n",
       "        $.ajax({\n",
       "                type: 'GET',\n",
       "                url: 'https://static.tenki.jp/static-api/history/forecast/' + __jiscode + '.js',\n",
       "                dataType: 'jsonp',\n",
       "                cache: true,\n",
       "                jsonpCallback: '__r__'+__jiscode\n",
       "        }).then(function(json){\n",
       "                for(var ___i=0; ___i < __entries.length; ___i++) {\n",
       "                    if(json['j'] == __entries[___i]['jiscode'] && !__entries[___i]['type']) {\n",
       "                        if(!json['i']) {\n",
       "                            json['i'] = '00';\n",
       "                            json['t'] = '---';\n",
       "                        }\n",
       "                        // for header histories\n",
       "                        var ___header_history_html_id = 'history-entry-' + ___i;\n",
       "                        if(document.getElementById(___header_history_html_id)) {\n",
       "                            var $__html_a = $('#' + ___header_history_html_id + ' a');\n",
       "                            $('img',$__html_a).attr('src','https://static.tenki.jp/images/icon/forecast-days-weather/' + json['i'] + '.png').attr('alt',json['t']);\n",
       "                            $('.max_t',$__html_a).html(json['max_t']);\n",
       "                            $('.min_t',$__html_a).html(json['min_t']);\n",
       "                        }\n",
       "                        // for body recent entry\n",
       "                        if(___i == 0 && document.getElementById('forecast-map-history-box-recent-entry')) {\n",
       "                            var $__html = $('#forecast-map-history-box-recent-entry');\n",
       "                            var __html_str = '<a href=\"' + __escapeHTML(__entries[___i]['path']) + '\">'\n",
       "                                           + __escapeHTML(__entries[___i]['name']) + '<br>'\n",
       "                                           + '<img class=\"forecast-image\" src=\"https://static.tenki.jp' + '/images/icon/forecast-days-weather/' + json['i'] + '.png\" alt=\"' + json['t'] + '\" width=\"47\" height=\"30\"><br>'\n",
       "                                           + '<span class=\"max-temp\">' + json['max_t'] + '</span><span class=\"grey\">/</span><span class=\"min-temp\">' + json['min_t'] + '</span><span class=\"prob-precip\">' + json['p'] +'%</span></a>';\n",
       "                            $__html.html(__html_str);\n",
       "                        // for body entries\n",
       "                        } else if(___i > 0 && document.getElementById('forecast-map-history-wrap')) {\n",
       "                            var ___html_id = 'history-body-entry-' + ___i;\n",
       "                            var $___html_a = $('#' + ___html_id + ' a');\n",
       "                            $('.forecast-image',$___html_a).attr('src','https://static.tenki.jp/images/icon/forecast-days-weather/' + json['i'] + '.png').attr('alt',json['t']);\n",
       "                            $('.max-temp',$___html_a).html(json['max_t']);\n",
       "                            $('.min-temp',$___html_a).html(json['min_t']);\n",
       "                            $('.prob-precip',$___html_a).html(json['p'] + '%');\n",
       "                        }\n",
       "                    }\n",
       "                }\n",
       "        });\n",
       "        __processed_entry_by_jiscode['forecast_' + __entries[__i]['jiscode']] = 1;\n",
       "     } else if(__type == 'heatstroke') {\n",
       "        // for header base html\n",
       "        if(__i < 6) {\n",
       "            var __html = '<li id=\"history-entry-' + __i + '\"><a href=\"' + __path + '\" class=\"history-entries-link clearfix\"><div class=\"img-box\"><img src=\"https://static.tenki.jp/images/icon/forecast-days-weather/00.png\" width=\"30\" height=\"30\" alt=\"---\"></div><div class=\"info-box\"><span class=\"name\">' + __name + '</span><span class=\"temp-box\">---</span></div></a><a href=\"javascript:void(0);\" class=\"history-entry-close\">ｘ</a></li>';\n",
       "            $('#history-entries').append(__html);\n",
       "        }\n",
       "        // for body recent html\n",
       "        if(__i == 0 && document.getElementById('forecast-map-history-box-recent-entry')) {\n",
       "            var _html = '<a href=\"javascript:void(0);\"><span class=\"grey\">---</span><br><img class=\"heatstroke-image\" src=\"https://static.tenki.jp/images/icon/forecast-days-weather/00.png\" alt=\"---\" width=\"30\" height=\"30\"><br><span class=\"grey\">---</span></a>';\n",
       "            $('#forecast-map-history-box-recent-entry').html(_html);\n",
       "        }\n",
       "        // for body base html\n",
       "        if(__i >= 1 && __i <= 5){\n",
       "            var __html = '<div id=\"history-body-entry-' + __i + '\" class=\"forecast-map-history-box\"><a href=\"' + __path + '\">' + __name + '<br>' + '<img class=\"forecast-image\" src=\"https://static.tenki.jp/images/icon/forecast-days-weather/00.png\" width=\"30\" height=\"30\" alt=\"---\"><br><span>---</span></a></div>';\n",
       "            $('#forecast-map-history-wrap').append(__html);\n",
       "        }\n",
       "        if(__processed_entry_by_jiscode['heatstroke_' + __entries[__i]['jiscode']]) {\n",
       "            continue LOOP_I;\n",
       "        }\n",
       "        $.ajax({\n",
       "            type: 'GET',\n",
       "            url: 'https://static.tenki.jp/static-api/history/heatstroke/' + __jiscode + '.js',\n",
       "            dataType: 'jsonp',\n",
       "            cache: true,\n",
       "            jsonpCallback: '__h__'+__jiscode\n",
       "        }).then(function(json){\n",
       "            for(var ___i=0; ___i < __entries.length; ___i++) {\n",
       "                if(json['j'] == __entries[___i]['jiscode'] && __entries[___i]['type'] == 'heatstroke') {\n",
       "                    if(!json['i']) {\n",
       "                        json['i'] = 'none';\n",
       "                        json['t'] = '---';\n",
       "                    }\n",
       "                    // for header histories\n",
       "                    var ___header_history_html_id = 'history-entry-' + ___i;\n",
       "                    if(document.getElementById(___header_history_html_id)) {\n",
       "                        var $__html_a = $('#' + ___header_history_html_id + ' a');\n",
       "                        $('img',$__html_a).attr('src','https://static.tenki.jp/images/icon/heatstroke/default/icon-' + json['i'] + '.png').attr('alt',json['t']);\n",
       "                        $('.temp-box',$__html_a).html(json['t']);\n",
       "                    }\n",
       "                    // for body recent entry\n",
       "                    if(___i == 0 && document.getElementById('forecast-map-history-box-recent-entry')) {\n",
       "                        var $__html = $('#forecast-map-history-box-recent-entry');\n",
       "                        var __html_str = '<a href=\"' + __escapeHTML(__entries[___i]['path']) + '\">'\n",
       "                                   + __escapeHTML(__entries[___i]['name']) + '<br>'\n",
       "                                   + '<img class=\"heatstroke-image\" src=\"https://static.tenki.jp' + '/images/icon/heatstroke/default/icon-' + json['i'] + '.png\" alt=\"' + json['t'] + '\" width=\"30\" height=\"30\"><br>'\n",
       "                                   + '<span>' + json['t'] + '</span></a>';\n",
       "                        $__html.html(__html_str);\n",
       "                    } else if(___i > 0 && document.getElementById('forecast-map-history-wrap')) {\n",
       "                        var ___html_id = 'history-body-entry-' + ___i;\n",
       "                        var $___html_a = $('#' + ___html_id + ' a');\n",
       "                        $('.forecast-image',$___html_a).attr('src','https://static.tenki.jp/images/icon/heatstroke/default/icon-' + json['i'] + '.png').attr('alt',json['t']);\n",
       "                        $('span',$___html_a).html(json['t']);\n",
       "                    }\n",
       "                }\n",
       "            }\n",
       "        });\n",
       "        __processed_entry_by_jiscode['heatstroke_' + __entries[__i]['jiscode']] = 1;\n",
       "     } else if(__type == 'heatshock') {\n",
       "        // for header base html\n",
       "        if(__i < 6) {\n",
       "            var __html = '<li id=\"history-entry-' + __i + '\"><a href=\"' + __path + '\" class=\"history-entries-link clearfix\"><div class=\"img-box\"><img src=\"https://static.tenki.jp/images/icon/forecast-days-weather/00.png\" width=\"30\" height=\"30\" alt=\"---\"></div><div class=\"info-box\"><span class=\"name\">' + __name + '</span><span class=\"temp-box\">---</span></div></a><a href=\"javascript:void(0);\" class=\"history-entry-close\">ｘ</a></li>';\n",
       "            $('#history-entries').append(__html);\n",
       "        }\n",
       "        // for body recent html\n",
       "        if(__i == 0 && document.getElementById('forecast-map-history-box-recent-entry')) {\n",
       "            var _html = '<a href=\"javascript:void(0);\"><span class=\"grey\">---</span><br><img class=\"heatshock-image\" src=\"https://static.tenki.jp/images/icon/forecast-days-weather/00.png\" alt=\"---\" width=\"30\" height=\"30\"><br><span class=\"grey\">---</span></a>';\n",
       "            $('#forecast-map-history-box-recent-entry').html(_html);\n",
       "        }\n",
       "        // for body base html\n",
       "        if(__i >= 1 && __i <= 5){\n",
       "            var __html = '<div id=\"history-body-entry-' + __i + '\" class=\"forecast-map-history-box\"><a href=\"' + __path + '\">' + __name + '<br>' + '<img class=\"forecast-image\" src=\"https://static.tenki.jp/images/icon/forecast-days-weather/00.png\" width=\"30\" height=\"30\" alt=\"---\"><br><span>---</span></a></div>';\n",
       "            $('#forecast-map-history-wrap').append(__html);\n",
       "        }\n",
       "        if(__processed_entry_by_jiscode['heatshock_' + __entries[__i]['jiscode']]) {\n",
       "            continue LOOP_I;\n",
       "        }\n",
       "        $.ajax({\n",
       "            type: 'GET',\n",
       "            url: 'https://static.tenki.jp/static-api/history/heatshock/' + __jiscode + '.js',\n",
       "            dataType: 'jsonp',\n",
       "            cache: true,\n",
       "            jsonpCallback: '__hs__'+__jiscode\n",
       "        }).then(function(json){\n",
       "            for(var ___i=0; ___i < __entries.length; ___i++) {\n",
       "                if(json['j'] == __entries[___i]['jiscode'] && __entries[___i]['type'] == 'heatshock') {\n",
       "                    if(!json['i']) {\n",
       "                        json['i'] = 'none';\n",
       "                        json['t'] = '---';\n",
       "                    }\n",
       "                    // for header histories\n",
       "                    var ___header_history_html_id = 'history-entry-' + ___i;\n",
       "                    if(document.getElementById(___header_history_html_id)) {\n",
       "                        var $__html_a = $('#' + ___header_history_html_id + ' a');\n",
       "                        $('img',$__html_a).attr('src','https://static.tenki.jp/images/icon/heatshock/default/icon-small-' + json['i'] + '.png').attr('alt',json['t']);\n",
       "                        $('.temp-box',$__html_a).html(json['t']);\n",
       "                    }\n",
       "                    // for body recent entry\n",
       "                    if(___i == 0 && document.getElementById('forecast-map-history-box-recent-entry')) {\n",
       "                        var $__html = $('#forecast-map-history-box-recent-entry');\n",
       "                        var __html_str = '<a href=\"' + __escapeHTML(__entries[___i]['path']) + '\">'\n",
       "                                   + __escapeHTML(__entries[___i]['name']) + '<br>'\n",
       "                                   + '<img class=\"heatshock-image\" src=\"https://static.tenki.jp' + '/images/icon/heatshock/default/icon-small-' + json['i'] + '.png\" alt=\"' + json['t'] + '\" width=\"30\" height=\"30\"><br>'\n",
       "                                   + '<span>' + json['t'] + '</span></a>';\n",
       "                        $__html.html(__html_str);\n",
       "                    } else if(___i > 0 && document.getElementById('forecast-map-history-wrap')) {\n",
       "                        var ___html_id = 'history-body-entry-' + ___i;\n",
       "                        var $___html_a = $('#' + ___html_id + ' a');\n",
       "                        $('.forecast-image',$___html_a).attr('src','https://static.tenki.jp/images/icon/heatshock/default/icon-small-' + json['i'] + '.png').attr('alt',json['t']);\n",
       "                        $('span',$___html_a).html(json['t']);\n",
       "                    }\n",
       "                }\n",
       "            }\n",
       "        });\n",
       "        __processed_entry_by_jiscode['heatshock_' + __entries[__i]['jiscode']] = 1;\n",
       "     } else if(__type == 'sakura') {\n",
       "        // for header base html\n",
       "        if(__i < 6) {\n",
       "            var __html = '<li id=\"history-entry-' + __i + '\"><a href=\"' + __path + '\" class=\"history-entries-link clearfix\"><div class=\"img-box\"><img src=\"https://static.tenki.jp/images/icon/forecast-days-weather/00.png\" width=\"30\" height=\"30\" alt=\"---\"></div><div class=\"info-box\"><span class=\"name\">' + __name + '</span><span class=\"temp-box\">---</span></div></a><a href=\"javascript:void(0);\" class=\"history-entry-close\">ｘ</a></li>';\n",
       "            $('#history-entries').append(__html);\n",
       "        }\n",
       "        // for body recent html\n",
       "        if(__i == 0 && document.getElementById('forecast-map-history-box-recent-entry')) {\n",
       "            var _html = '<a href=\"javascript:void(0);\"><span class=\"grey\">---</span><br><img class=\"sakura-image\" src=\"https://static.tenki.jp/images/icon/forecast-days-weather/00.png\" alt=\"---\" width=\"30\" height=\"30\"><br><span class=\"grey\">---</span></a>';\n",
       "            $('#forecast-map-history-box-recent-entry').html(_html);\n",
       "        }\n",
       "        // for body base html\n",
       "        if(__i >= 1 && __i <= 5){\n",
       "            var __html = '<div id=\"history-body-entry-' + __i + '\" class=\"forecast-map-history-box\"><a href=\"' + __path + '\">' + __name + '<br>' + '<img class=\"forecast-image\" src=\"https://static.tenki.jp/images/icon/forecast-days-weather/00.png\" width=\"30\" height=\"30\" alt=\"---\"><br><span>---</span></a></div>';\n",
       "            $('#forecast-map-history-wrap').append(__html);\n",
       "        }\n",
       "        if(__processed_entry_by_jiscode['sakura_' + __entries[__i]['jiscode']]) {\n",
       "            continue LOOP_I;\n",
       "        }\n",
       "        $.ajax({\n",
       "            type: 'GET',\n",
       "            url: 'https://static.tenki.jp/static-api/history/sakura/' + __jiscode + '.js',\n",
       "            dataType: 'jsonp',\n",
       "            cache: true,\n",
       "            jsonpCallback: '__skr__'+__jiscode\n",
       "        }).then(function(json){\n",
       "            for(var ___i=0; ___i < __entries.length; ___i++) {\n",
       "                if(json['j'] == __entries[___i]['jiscode'] && __entries[___i]['type'] == 'sakura') {\n",
       "                    if(!json['i']) {\n",
       "                        json['i'] = 'none';\n",
       "                        json['t'] = '---';\n",
       "                    }\n",
       "                    // for header histories\n",
       "                    var ___header_history_html_id = 'history-entry-' + ___i;\n",
       "                    if(document.getElementById(___header_history_html_id)) {\n",
       "                        var $__html_a = $('#' + ___header_history_html_id + ' a');\n",
       "                        $('img',$__html_a).attr('src','https://static.tenki.jp/images/icon/sakura/icon-' + json['i'] + '.png').attr('alt',json['t']);\n",
       "                        $('.temp-box',$__html_a).html(json['t']);\n",
       "                    }\n",
       "                    // for body recent entry\n",
       "                    if(___i == 0 && document.getElementById('forecast-map-history-box-recent-entry')) {\n",
       "                        var $__html = $('#forecast-map-history-box-recent-entry');\n",
       "                        var __html_str = '<a href=\"' + __escapeHTML(__entries[___i]['path']) + '\">'\n",
       "                                   + __escapeHTML(__entries[___i]['name']) + '<br>'\n",
       "                                   + '<img class=\"sakura-image\" src=\"https://static.tenki.jp' + '/images/icon/sakura/icon-' + json['i'] + '.png\" alt=\"' + json['t'] + '\" width=\"30\" height=\"30\"><br>'\n",
       "                                   + '<span>' + json['t'] + '</span></a>';\n",
       "                        $__html.html(__html_str);\n",
       "                    } else if(___i > 0 && document.getElementById('forecast-map-history-wrap')) {\n",
       "                        var ___html_id = 'history-body-entry-' + ___i;\n",
       "                        var $___html_a = $('#' + ___html_id + ' a');\n",
       "                        $('.forecast-image',$___html_a).attr('src','https://static.tenki.jp/images/icon/sakura/icon-' + json['i'] + '.png').attr('alt',json['t']);\n",
       "                        $('span',$___html_a).html(json['t']);\n",
       "                    }\n",
       "                }\n",
       "            }\n",
       "       });\n",
       "        __processed_entry_by_jiscode['sakura_' + __entries[__i]['jiscode']] = 1;\n",
       "     } else if(__type == 'kouyou') {\n",
       "        // for header base html\n",
       "        if(__i < 6) {\n",
       "            var __html = '<li id=\"history-entry-' + __i + '\"><a href=\"' + __path + '\" class=\"history-entries-link clearfix\"><div class=\"img-box\"><img src=\"https://static.tenki.jp/images/icon/forecast-days-weather/00.png\" width=\"30\" height=\"30\" alt=\"---\"></div><div class=\"info-box\"><span class=\"name\">' + __name + '</span><span class=\"temp-box\">---</span></div></a><a href=\"javascript:void(0);\" class=\"history-entry-close\">ｘ</a></li>';\n",
       "            $('#history-entries').append(__html);\n",
       "        }\n",
       "        // for body recent html\n",
       "        if(__i == 0 && document.getElementById('forecast-map-history-box-recent-entry')) {\n",
       "            var _html = '<a href=\"javascript:void(0);\"><span class=\"grey\">---</span><br><img class=\"kouyou-image\" src=\"https://static.tenki.jp/images/icon/forecast-days-weather/00.png\" alt=\"---\" width=\"30\" height=\"30\"><br><span class=\"grey\">---</span></a>';\n",
       "            $('#forecast-map-history-box-recent-entry').html(_html);\n",
       "        }\n",
       "        // for body base html\n",
       "        if(__i >= 1 && __i <= 5){\n",
       "            var __html = '<div id=\"history-body-entry-' + __i + '\" class=\"forecast-map-history-box\"><a href=\"' + __path + '\">' + __name + '<br>' + '<img class=\"forecast-image\" src=\"https://static.tenki.jp/images/icon/forecast-days-weather/00.png\" width=\"30\" height=\"30\" alt=\"---\"><br><span>---</span></a></div>';\n",
       "            $('#forecast-map-history-wrap').append(__html);\n",
       "        }\n",
       "        if(__processed_entry_by_jiscode['kouyou_' + __entries[__i]['jiscode']]) {\n",
       "            continue LOOP_I;\n",
       "        }\n",
       "        $.ajax({\n",
       "            type: 'GET',\n",
       "            url: 'https://static.tenki.jp/static-api/history/kouyou/' + __jiscode + '.js',\n",
       "            dataType: 'jsonp',\n",
       "            cache: true,\n",
       "            jsonpCallback: '__k__'+__jiscode\n",
       "        }).then(function(json){\n",
       "            for(var ___i=0; ___i < __entries.length; ___i++) {\n",
       "                if(json['j'] == __entries[___i]['jiscode'] && __entries[___i]['type'] == 'kouyou') {\n",
       "                    if(!json['i']) {\n",
       "                        json['i'] = 'none';\n",
       "                        json['t'] = '---';\n",
       "                    }\n",
       "                    // for header histories\n",
       "                    var ___header_history_html_id = 'history-entry-' + ___i;\n",
       "                    if(document.getElementById(___header_history_html_id)) {\n",
       "                        var $__html_a = $('#' + ___header_history_html_id + ' a');\n",
       "                        $('img',$__html_a).attr('src','https://static.tenki.jp/images/icon/kouyou/icon-' + json['i'] + '.png').attr('alt',json['t']);\n",
       "                        $('.temp-box',$__html_a).html(json['t']);\n",
       "                    }\n",
       "                    // for body recent entry\n",
       "                    if(___i == 0 && document.getElementById('forecast-map-history-box-recent-entry')) {\n",
       "                        var $__html = $('#forecast-map-history-box-recent-entry');\n",
       "                        var __html_str = '<a href=\"' + __escapeHTML(__entries[___i]['path']) + '\">'\n",
       "                                   + __escapeHTML(__entries[___i]['name']) + '<br>'\n",
       "                                   + '<img class=\"kouyou-image\" src=\"https://static.tenki.jp' + '/images/icon/kouyou/icon-' + json['i'] + '.png\" alt=\"' + json['t'] + '\" width=\"30\" height=\"30\"><br>'\n",
       "                                   + '<span>' + json['t'] + '</span></a>';\n",
       "                        $__html.html(__html_str);\n",
       "                    } else if(___i > 0 && document.getElementById('forecast-map-history-wrap')) {\n",
       "                        var ___html_id = 'history-body-entry-' + ___i;\n",
       "                        var $___html_a = $('#' + ___html_id + ' a');\n",
       "                        $('.forecast-image',$___html_a).attr('src','https://static.tenki.jp/images/icon/kouyou/icon-' + json['i'] + '.png').attr('alt',json['t']);\n",
       "                        $('span',$___html_a).html(json['t']);\n",
       "                    }\n",
       "                }\n",
       "            }\n",
       "       });\n",
       "        __processed_entry_by_jiscode['kouyou_' + __entries[__i]['jiscode']] = 1;\n",
       "     } else if(__type == 'ski') {\n",
       "        // for header base html\n",
       "        if(__i < 6) {\n",
       "            var __html = '<li id=\"history-entry-' + __i + '\"><a href=\"' + __path + '\" class=\"history-entries-link clearfix\"><div class=\"img-box\"><img src=\"https://static.tenki.jp/images/icon/forecast-days-weather/00.png\" width=\"47\" height=\"30\" alt=\"---\"></div><div class=\"info-box\"><span class=\"name\">' + __name + '</span><span class=\"temp-box\"><span class=\"max_t\">---</span><span class=\"grey\">/</span><span class=\"min_t\">---</span></span></div></a><a href=\"javascript:void(0);\" class=\"history-entry-close\">ｘ</a></li>';\n",
       "            $('#history-entries').append(__html);\n",
       "        }\n",
       "        // for body recent html\n",
       "        if(__i == 0 && document.getElementById('forecast-map-history-box-recent-entry')) {\n",
       "            var _html = '<a href=\"javascript:void(0);\"><span class=\"grey\">---</span><br><img class=\"forecast-image\" src=\"https://static.tenki.jp/images/icon/forecast-days-weather/00.png\" alt=\"---\" width=\"47\" height=\"30\"><br><span class=\"grey\">---</span><span class=\"grey\">/</span><span class=\"grey\">---</span><span class=\"grey\">---</span></a>';\n",
       "            $('#forecast-map-history-box-recent-entry').html(_html);\n",
       "        }\n",
       "        // for body base html\n",
       "        if(__i >= 1 && __i <= 9){\n",
       "            var __html = '<div id=\"history-body-entry-' + __i + '\" class=\"forecast-map-history-box\"><a href=\"' + __path + '\">' + __name + '<br>' + '<img class=\"forecast-image\" src=\"https://static.tenki.jp/images/icon/forecast-days-weather/00.png\" width=\"47\" height=\"30\" alt=\"---\"><br><span class=\"max-temp\">---</span><span class=\"grey\">/</span><span class=\"min-temp\">---</span><span class=\"prob-precip\">---</span></a></div>';\n",
       "            $('#forecast-map-history-wrap').append(__html);\n",
       "        }\n",
       "        if(__processed_entry_by_jiscode['ski_' + __entries[__i]['jiscode']]) {\n",
       "            continue LOOP_I;\n",
       "        }\n",
       "        $.ajax({\n",
       "                type: 'GET',\n",
       "                url: 'https://static.tenki.jp/static-api/history/ski/' + __jiscode + '.js',\n",
       "                dataType: 'jsonp',\n",
       "                cache: true,\n",
       "                jsonpCallback: '__ski__'+__jiscode\n",
       "        }).then(function(json){\n",
       "                for(var ___i=0; ___i < __entries.length; ___i++) {\n",
       "                    if(json['j'] == __entries[___i]['jiscode'] && __entries[___i]['type'] == 'ski') {\n",
       "                        if(!json['i']) {\n",
       "                            json['i'] = '00';\n",
       "                            json['t'] = '---';\n",
       "                        }\n",
       "                        // for header histories\n",
       "                        var ___header_history_html_id = 'history-entry-' + ___i;\n",
       "                        if(document.getElementById(___header_history_html_id)) {\n",
       "                            var $__html_a = $('#' + ___header_history_html_id + ' a');\n",
       "                            $('img',$__html_a).attr('src','https://static.tenki.jp/images/icon/forecast-days-weather/' + json['i'] + '.png').attr('alt',json['t']);\n",
       "                            $('.max_t',$__html_a).html(json['max_t']);\n",
       "                            $('.min_t',$__html_a).html(json['min_t']);\n",
       "                        }\n",
       "                        // for body recent entry\n",
       "                        if(___i == 0 && document.getElementById('forecast-map-history-box-recent-entry')) {\n",
       "                            var $__html = $('#forecast-map-history-box-recent-entry');\n",
       "                            var __html_str = '<a href=\"' + __escapeHTML(__entries[___i]['path']) + '\">'\n",
       "                                           + __escapeHTML(__entries[___i]['name']) + '<br>'\n",
       "                                           + '<img class=\"forecast-image\" src=\"https://static.tenki.jp' + '/images/icon/forecast-days-weather/' + json['i'] + '.png\" alt=\"' + json['t'] + '\" width=\"47\" height=\"30\"><br>'\n",
       "                                           + '<span class=\"max-temp\">' + json['max_t'] + '</span><span class=\"grey\">/</span><span class=\"min-temp\">' + json['min_t'] + '</span></a>';\n",
       "                            $__html.html(__html_str);\n",
       "                        // for body entries\n",
       "                        } else if(___i > 0 && document.getElementById('forecast-map-history-wrap')) {\n",
       "                            var ___html_id = 'history-body-entry-' + ___i;\n",
       "                            var $___html_a = $('#' + ___html_id + ' a');\n",
       "                            $('.forecast-image',$___html_a).attr('src','https://static.tenki.jp/images/icon/forecast-days-weather/' + json['i'] + '.png').attr('alt',json['t']);\n",
       "                            $('.max-temp',$___html_a).html(json['max_t']);\n",
       "                            $('.min-temp',$___html_a).html(json['min_t']);\n",
       "                            $('.prob-precip',$___html_a).html('');\n",
       "                        }\n",
       "                    }\n",
       "                }\n",
       "        });\n",
       "        __processed_entry_by_jiscode['ski_' + __entries[__i]['jiscode']] = 1;\n",
       "     } else if(__type == 'pollen') {\n",
       "        // for header base html\n",
       "        if(__i < 6) {\n",
       "            var __html = '<li id=\"history-entry-' + __i + '\"><a href=\"' + __path + '\" class=\"history-entries-link clearfix\"><div class=\"img-box\"><img src=\"https://static.tenki.jp/images/icon/forecast-days-weather/00.png\" width=\"30\" height=\"30\" alt=\"---\"></div><div class=\"info-box\"><span class=\"name\">' + __name + '</span><span class=\"temp-box\">---</span></div></a><a href=\"javascript:void(0);\" class=\"history-entry-close\">ｘ</a></li>';\n",
       "            $('#history-entries').append(__html);\n",
       "        }\n",
       "        // for body recent html\n",
       "        if(__i == 0 && document.getElementById('forecast-map-history-box-recent-entry')) {\n",
       "            var _html = '<a href=\"javascript:void(0);\"><span class=\"grey\">---</span><br><img class=\"pollen-image\" src=\"https://static.tenki.jp/images/icon/forecast-days-weather/00.png\" alt=\"---\" width=\"30\" height=\"30\"><br><span class=\"grey\">---</span></a>';\n",
       "            $('#forecast-map-history-box-recent-entry').html(_html);\n",
       "        }\n",
       "        // for body base html\n",
       "        if(__i >= 1 && __i <= 5){\n",
       "            var __html = '<div id=\"history-body-entry-' + __i + '\" class=\"forecast-map-history-box\"><a href=\"' + __path + '\">' + __name + '<br>' + '<img class=\"forecast-image\" src=\"https://static.tenki.jp/images/icon/forecast-days-weather/00.png\" width=\"30\" height=\"30\" alt=\"---\"><br><span>---</span></a></div>';\n",
       "            $('#forecast-map-history-wrap').append(__html);\n",
       "        }\n",
       "        if(__processed_entry_by_jiscode['pollen_' + __entries[__i]['jiscode']]) {\n",
       "            continue LOOP_I;\n",
       "        }\n",
       "        $.ajax({\n",
       "            type: 'GET',\n",
       "            url: 'https://static.tenki.jp/static-api/history/pollen/' + __jiscode + '.js',\n",
       "            dataType: 'jsonp',\n",
       "            cache: true,\n",
       "            jsonpCallback: '__pl__'+__jiscode\n",
       "        }).then(function(json){\n",
       "            for(var ___i=0; ___i < __entries.length; ___i++) {\n",
       "                if(json['j'] == __entries[___i]['jiscode'] && __entries[___i]['type'] == 'pollen') {\n",
       "                    if(!json['i']) {\n",
       "                        json['i'] = 'none';\n",
       "                        json['t'] = '---';\n",
       "                    }\n",
       "                    // for header histories\n",
       "                    var ___header_history_html_id = 'history-entry-' + ___i;\n",
       "                    if(document.getElementById(___header_history_html_id)) {\n",
       "                        var $__html_a = $('#' + ___header_history_html_id + ' a');\n",
       "                        $('img',$__html_a).attr('src','https://static.tenki.jp/images/icon/pollen/default/icon-small-' + json['i'] + '.png').attr('alt',json['t']);\n",
       "                        $('.temp-box',$__html_a).html(json['t']);\n",
       "                    }\n",
       "                    // for body recent entry\n",
       "                    if(___i == 0 && document.getElementById('forecast-map-history-box-recent-entry')) {\n",
       "                        var $__html = $('#forecast-map-history-box-recent-entry');\n",
       "                        var __html_str = '<a href=\"' + __escapeHTML(__entries[___i]['path']) + '\">'\n",
       "                                   + __escapeHTML(__entries[___i]['name']) + '<br>'\n",
       "                                   + '<img class=\"pollen-image\" src=\"https://static.tenki.jp' + '/images/icon/pollen/default/icon-small-' + json['i'] + '.png\" alt=\"' + json['t'] + '\" width=\"30\" height=\"30\"><br>'\n",
       "                                   + '<span>' + json['t'] + '</span></a>';\n",
       "                        $__html.html(__html_str);\n",
       "                    } else if(___i > 0 && document.getElementById('forecast-map-history-wrap')) {\n",
       "                        var ___html_id = 'history-body-entry-' + ___i;\n",
       "                        var $___html_a = $('#' + ___html_id + ' a');\n",
       "                        $('.forecast-image',$___html_a).attr('src','https://static.tenki.jp/images/icon/pollen/default/icon-small-' + json['i'] + '.png').attr('alt',json['t']);\n",
       "                        $('span',$___html_a).html(json['t']);\n",
       "                    }\n",
       "                }\n",
       "            }\n",
       "       });\n",
       "        __processed_entry_by_jiscode['pollen_' + __entries[__i]['jiscode']] = 1;\n",
       "     }\n",
       "     var coachLinkHistoryIsClosed = Cookies.get('coach_mark_history') === 'closed';\n",
       "     if (__historyCoachMarkValid && !coachLinkHistoryIsClosed) {\n",
       "      var target = document.getElementById('history-entry-0');\n",
       "      target.innerHTML = '<div style=\"position:relative;\">' + target.innerHTML + '<span id=\"coach-mark-history\" class=\"coach-mark-history\"><span id=\"coach-mark-text\" class=\"coach-mark-text\">直前に見た情報が<br>ここに保存されます<br>（ログイン不要）</span><span id=\"coach-mark-close\" class=\"coach-mark-close\"><span id=\"close-button\" class=\"close-button\"></span></span></span></div><style id=\"coach-mark-css\">.coach-mark-history{width:140px;text-align:center;display:flex;background:rgba(0,0,0,.7);color:#fff;border-radius:5px;position:absolute;left:120px;top:-5px;padding:5px 10px;z-index:9999}.coach-mark-text{flex:1;font-size:.68em;line-height:1.2}.coach-mark-text .plus-button::before{content:\"＋\";display:inline-block;color:#62bcfe;font-weight:700;font-size:1.275em}.coach-mark-close{width:20px;display:flex;align-items:center;justify-content:center;position:relative;cursor:pointer}.coach-mark-close .close-button::after,.coach-mark-close .close-button::before{content:\"\";position:absolute;top:50%;left:50%;width:2px;height:11px;background:#fff}.coach-mark-close .close-button::before{transform:translate(-50%,-50%) rotate(45deg)}.coach-mark-close .close-button::after{transform:translate(-50%,-50%) rotate(-45deg)}.coach-mark-history::before{pointer-events:none;content:\"\";position:absolute;top:50%;left:-20px;margin-top:-10px;border:10px solid transparent;border-right:10px solid rgba(0,0,0,.7)}</style>';\n",
       "      var close_button = document.querySelector('.coach-mark-close');\n",
       "      close_button.addEventListener('click', function(){\n",
       "        document.querySelector('.coach-mark-history').style.display = 'none';\n",
       "        Cookies.set('coach_mark_history', 'closed', {'expires': 3000, path: '/'});\n",
       "      });\n",
       "    }\n",
       "  } // LOOP_I\n",
       "};\n",
       "__get_h_point_entries();\n",
       "// redirect location url\n",
       "if( navigator.geolocation && document.getElementById('hd-search-gps')){\n",
       "    $('#hd-search-gps a,#body-search-gps a').click(function(){\n",
       "        navigator.geolocation.getCurrentPosition(function(position){\n",
       "            var lat = position.coords.latitude;\n",
       "            var lon = position.coords.longitude;\n",
       "            location.href = 'https://static.tenki.jp/api/app/get-point-url.html?lon=' + lon + '&lat=' + lat;\n",
       "            return false;\n",
       "        });\n",
       "    });\n",
       "}\n",
       "$(document).on('click','#history-entries li a.history-entry-close',function(){\n",
       "   var $$ = $(this);\n",
       "   var id = $$.parents('li[id^=history-]').get(0).id.split('-').pop();\n",
       "   if(id != '' && id >= 0 && id <= 10000) {\n",
       "     __remove_h_point(id);\n",
       "     __get_h_point_entries();\n",
       "   }\n",
       "});\n",
       "// -->\n",
       "</script>\n",
       "<!-- /h -->\n",
       "<script type=\"text/javascript\">\n",
       "<!--\n",
       "$(function(){\n",
       "  if( navigator && navigator.userAgent && navigator.userAgent.match(/(Android|iPod|iPhone)/) ) {\n",
       "    $('#footer').prepend('<div id=\"footer-switcher\">表示：<span><a href=\"#\" id=\"footer-switcher-pc2lite\">モバイル</a></span><span class=\"grey\">｜</span><span class=\"bold\">PC</span></div>');\n",
       "    $('#footer-switcher-pc2lite').click(function(){\n",
       "      var datetime = new Date();\n",
       "      datetime.setYear(datetime.getYear() - 1);\n",
       "      document.cookie = 'viewmode=;' + 'expires=' + datetime.toUTCString() + ';domain=' + '.tenki.jp' + ';path=/;';\n",
       "      location.href = 'https://tenki.jp/lite/';\n",
       "      return false;\n",
       "    });\n",
       "  }\n",
       "});\n",
       "// -->\n",
       "</script>\n",
       "<script>\n",
       "  (function(){\n",
       "    const week = {\n",
       "      '(Mon)': '(月)',\n",
       "      '(Tue)': '(火)',\n",
       "      '(Wed)': '(水)',\n",
       "      '(Thu)': '(木)',\n",
       "      '(Fri)': '(金)',\n",
       "      '(Sat)': '(土)',\n",
       "      '(Sun)': '(日)',\n",
       "    }\n",
       "    const targets = document.querySelectorAll('a[id^=\"forecaster-article-link\"] .date-time, .forecaster-diary-entries-list .date-time, a[id^=\"right-forecaster-article-link\"] .date-time, .news-entries-list .date-time, .date-youbi');\n",
       "    if (targets.length !== 0) {\n",
       "      targets.forEach(target => {\n",
       "        for (const [k,v] of Object.entries(week)) {\n",
       "          if (target.innerText.indexOf(k) !== -1) {\n",
       "            target.innerText = target.innerText.replace(k, v);\n",
       "          }\n",
       "        }\n",
       "      });\n",
       "    }\n",
       "  })();\n",
       "  // #1887:曜日対応\n",
       "</script>\n",
       "<script type=\"text/javascript\">\n",
       "  window._taboola = window._taboola || [];\n",
       "  _taboola.push({flush: true});\n",
       "</script>\n",
       "</body>\n",
       "</html>\n",
       "<!-- /past/2023/12/19/amedas/3/17/46091.html map_area_id:3 map_area_name:関東・甲信地方 map_pref_id:17 map_pref_name:神奈川県 amedas_code:46091 amedas_name:海老名 public_date:2023-12-19 ## generate at 2023-12-22 21:29:28 -->"
      ]
     },
     "execution_count": 128,
     "metadata": {},
     "output_type": "execute_result"
    }
   ],
   "source": [
    "# 内容表示\n",
    "a_bs"
   ]
  },
  {
   "cell_type": "code",
   "execution_count": 129,
   "metadata": {},
   "outputs": [
    {
     "data": {
      "text/plain": [
       "[<section class=\"section-wrap\">\n",
       " <ul class=\"past-neighbor-bottom-list clearfix mb10\">\n",
       " <li class=\"left-link\"><a href=\"/past/2023/12/18/amedas/3/17/46091.html\">前日(12月18日)</a></li>\n",
       " <li class=\"right-link\"><a href=\"/past/2023/12/20/amedas/3/17/46091.html\">翌日(12月20日)</a></li>\n",
       " </ul>\n",
       " <h3>記録<span class=\"sub-title\">(2023年12月19日)</span><time class=\"date-time\" datetime=\"2023-12-19T00:00:00+09:00\">2023年12月19日</time></h3>\n",
       " <table class=\"amedas-point-detail-entries-table\" summary=\"のアメダス(2023年12月19日)\">\n",
       " <tr>\n",
       " <th class=\"headcell\">日最高<br/>気温(℃)</th>\n",
       " <th class=\"headcell\">日最低<br/>気温(℃)</th>\n",
       " <th class=\"headcell\">日積算<br/>降水量(mm)</th>\n",
       " <th class=\"headcell\">日最大<br/>風速(m/s)</th>\n",
       " <th class=\"headcell\">日積算<br/>日照時間(時)</th>\n",
       " </tr>\n",
       " <tr>\n",
       " <td>10.6 (14:10)</td>\n",
       " <td>2.8 (02:20)</td>\n",
       " <td>0.0</td>\n",
       " <td>2.6 (02:00)</td>\n",
       " <td>4.1</td>\n",
       " </tr>\n",
       " </table><!-- /.amedas-point-detail-entries-table -->\n",
       " <p class=\"right-align\">※日最高気温・日最低気温・日最大風速は、アメダス10分値です</p>\n",
       " </section>,\n",
       " <section class=\"section-wrap\">\n",
       " <h3>60分観測値<span class=\"sub-title\">(2023年12月19日)</span><time class=\"date-time\" datetime=\"2023-12-19T00:00:00+09:00\">2023年12月19日</time></h3>\n",
       " <table class=\"common-list-entries amedas-table-entries\">\n",
       " <tr>\n",
       " <th class=\"datetime\" colspan=\"2\">日時</th>\n",
       " <th>気温(℃)</th>\n",
       " <th>降水量(mm)</th>\n",
       " <th>風向(16方位)</th>\n",
       " <th>風速(m/s)</th>\n",
       " <th>日照時間(分)</th>\n",
       " <th>積雪深(cm)</th>\n",
       " </tr>\n",
       " <tr><td rowspan=\"24\">19日</td> <td>24:00</td>\n",
       " <td>6.7</td>\n",
       " <td>0.0</td>\n",
       " <td>北北西</td>\n",
       " <td>2.2</td>\n",
       " <td>0</td>\n",
       " <td><span class=\"grey\">---</span></td>\n",
       " </tr>\n",
       " <tr> <td>23:00</td>\n",
       " <td>7.0</td>\n",
       " <td>0.0</td>\n",
       " <td>北</td>\n",
       " <td>2.1</td>\n",
       " <td>0</td>\n",
       " <td><span class=\"grey\">---</span></td>\n",
       " </tr>\n",
       " <tr> <td>22:00</td>\n",
       " <td>7.4</td>\n",
       " <td>0.0</td>\n",
       " <td>北北西</td>\n",
       " <td>1.6</td>\n",
       " <td>0</td>\n",
       " <td><span class=\"grey\">---</span></td>\n",
       " </tr>\n",
       " <tr> <td>21:00</td>\n",
       " <td>7.5</td>\n",
       " <td>0.0</td>\n",
       " <td>北北西</td>\n",
       " <td>1.5</td>\n",
       " <td>0</td>\n",
       " <td><span class=\"grey\">---</span></td>\n",
       " </tr>\n",
       " <tr> <td>20:00</td>\n",
       " <td>7.8</td>\n",
       " <td>0.0</td>\n",
       " <td>北北西</td>\n",
       " <td>1.8</td>\n",
       " <td>0</td>\n",
       " <td><span class=\"grey\">---</span></td>\n",
       " </tr>\n",
       " <tr> <td>19:00</td>\n",
       " <td>7.7</td>\n",
       " <td>0.0</td>\n",
       " <td>北西</td>\n",
       " <td>0.7</td>\n",
       " <td>0</td>\n",
       " <td><span class=\"grey\">---</span></td>\n",
       " </tr>\n",
       " <tr> <td>18:00</td>\n",
       " <td>8.2</td>\n",
       " <td>0.0</td>\n",
       " <td>静穏</td>\n",
       " <td>0.2</td>\n",
       " <td>0</td>\n",
       " <td><span class=\"grey\">---</span></td>\n",
       " </tr>\n",
       " <tr> <td>17:00</td>\n",
       " <td>8.9</td>\n",
       " <td>0.0</td>\n",
       " <td>南南西</td>\n",
       " <td>1.2</td>\n",
       " <td>0</td>\n",
       " <td><span class=\"grey\">---</span></td>\n",
       " </tr>\n",
       " <tr> <td>16:00</td>\n",
       " <td>9.4</td>\n",
       " <td>0.0</td>\n",
       " <td>南南東</td>\n",
       " <td>0.8</td>\n",
       " <td>0</td>\n",
       " <td><span class=\"grey\">---</span></td>\n",
       " </tr>\n",
       " <tr> <td>15:00</td>\n",
       " <td>10.0</td>\n",
       " <td>0.0</td>\n",
       " <td>南</td>\n",
       " <td>1.6</td>\n",
       " <td>30</td>\n",
       " <td><span class=\"grey\">---</span></td>\n",
       " </tr>\n",
       " <tr> <td>14:00</td>\n",
       " <td>9.4</td>\n",
       " <td>0.0</td>\n",
       " <td>北東</td>\n",
       " <td>0.7</td>\n",
       " <td>60</td>\n",
       " <td><span class=\"grey\">---</span></td>\n",
       " </tr>\n",
       " <tr> <td>13:00</td>\n",
       " <td>9.1</td>\n",
       " <td>0.0</td>\n",
       " <td>北北東</td>\n",
       " <td>1.8</td>\n",
       " <td>60</td>\n",
       " <td><span class=\"grey\">---</span></td>\n",
       " </tr>\n",
       " <tr> <td>12:00</td>\n",
       " <td>7.9</td>\n",
       " <td>0.0</td>\n",
       " <td>東北東</td>\n",
       " <td>2.0</td>\n",
       " <td>60</td>\n",
       " <td><span class=\"grey\">---</span></td>\n",
       " </tr>\n",
       " <tr> <td>11:00</td>\n",
       " <td>7.2</td>\n",
       " <td>0.0</td>\n",
       " <td>北北東</td>\n",
       " <td>1.8</td>\n",
       " <td>37</td>\n",
       " <td><span class=\"grey\">---</span></td>\n",
       " </tr>\n",
       " <tr> <td>10:00</td>\n",
       " <td>5.8</td>\n",
       " <td>0.0</td>\n",
       " <td>北北東</td>\n",
       " <td>1.6</td>\n",
       " <td>0</td>\n",
       " <td><span class=\"grey\">---</span></td>\n",
       " </tr>\n",
       " <tr> <td>09:00</td>\n",
       " <td>5.2</td>\n",
       " <td>0.0</td>\n",
       " <td>北北東</td>\n",
       " <td>1.8</td>\n",
       " <td>0</td>\n",
       " <td><span class=\"grey\">---</span></td>\n",
       " </tr>\n",
       " <tr> <td>08:00</td>\n",
       " <td>4.4</td>\n",
       " <td>0.0</td>\n",
       " <td>北北東</td>\n",
       " <td>1.3</td>\n",
       " <td>0</td>\n",
       " <td><span class=\"grey\">---</span></td>\n",
       " </tr>\n",
       " <tr> <td>07:00</td>\n",
       " <td>3.7</td>\n",
       " <td>0.0</td>\n",
       " <td>北</td>\n",
       " <td>1.4</td>\n",
       " <td>0</td>\n",
       " <td><span class=\"grey\">---</span></td>\n",
       " </tr>\n",
       " <tr> <td>06:00</td>\n",
       " <td>3.8</td>\n",
       " <td>0.0</td>\n",
       " <td>北北西</td>\n",
       " <td>1.8</td>\n",
       " <td>0</td>\n",
       " <td><span class=\"grey\">---</span></td>\n",
       " </tr>\n",
       " <tr> <td>05:00</td>\n",
       " <td>3.6</td>\n",
       " <td>0.0</td>\n",
       " <td>北</td>\n",
       " <td>1.5</td>\n",
       " <td>0</td>\n",
       " <td><span class=\"grey\">---</span></td>\n",
       " </tr>\n",
       " <tr> <td>04:00</td>\n",
       " <td>3.6</td>\n",
       " <td>0.0</td>\n",
       " <td>北北西</td>\n",
       " <td>1.7</td>\n",
       " <td>0</td>\n",
       " <td><span class=\"grey\">---</span></td>\n",
       " </tr>\n",
       " <tr> <td>03:00</td>\n",
       " <td>3.3</td>\n",
       " <td>0.0</td>\n",
       " <td>北北西</td>\n",
       " <td>2.4</td>\n",
       " <td>0</td>\n",
       " <td><span class=\"grey\">---</span></td>\n",
       " </tr>\n",
       " <tr> <td>02:00</td>\n",
       " <td>3.4</td>\n",
       " <td>0.0</td>\n",
       " <td>北北西</td>\n",
       " <td>2.6</td>\n",
       " <td>0</td>\n",
       " <td><span class=\"grey\">---</span></td>\n",
       " </tr>\n",
       " <tr> <td>01:00</td>\n",
       " <td>3.9</td>\n",
       " <td>0.0</td>\n",
       " <td>北北西</td>\n",
       " <td>1.7</td>\n",
       " <td>0</td>\n",
       " <td><span class=\"grey\">---</span></td>\n",
       " </tr>\n",
       " <tr>\n",
       " <th class=\"datetime\" colspan=\"2\">日時</th>\n",
       " <th>気温(℃)</th>\n",
       " <th>降水量(mm)</th>\n",
       " <th>風向(16方位)</th>\n",
       " <th>風速(m/s)</th>\n",
       " <th>日照時間(分)</th>\n",
       " <th>積雪深(cm)</th>\n",
       " </tr>\n",
       " </table>\n",
       " <!-- /.common-list-entries amedas-table-entries -->\n",
       " </section>]"
      ]
     },
     "execution_count": 129,
     "metadata": {},
     "output_type": "execute_result"
    }
   ],
   "source": [
    "#sectionタグの'section-wrap'クラスの内容を探し出す\n",
    "aa_bs = a_bs.find_all('section', class_='section-wrap')\n",
    "\n",
    "# 内容表示\n",
    "aa_bs"
   ]
  },
  {
   "cell_type": "code",
   "execution_count": 130,
   "metadata": {},
   "outputs": [
    {
     "data": {
      "text/plain": [
       "[<table class=\"amedas-point-detail-entries-table\" summary=\"のアメダス(2023年12月19日)\">\n",
       " <tr>\n",
       " <th class=\"headcell\">日最高<br/>気温(℃)</th>\n",
       " <th class=\"headcell\">日最低<br/>気温(℃)</th>\n",
       " <th class=\"headcell\">日積算<br/>降水量(mm)</th>\n",
       " <th class=\"headcell\">日最大<br/>風速(m/s)</th>\n",
       " <th class=\"headcell\">日積算<br/>日照時間(時)</th>\n",
       " </tr>\n",
       " <tr>\n",
       " <td>10.6 (14:10)</td>\n",
       " <td>2.8 (02:20)</td>\n",
       " <td>0.0</td>\n",
       " <td>2.6 (02:00)</td>\n",
       " <td>4.1</td>\n",
       " </tr>\n",
       " </table>]"
      ]
     },
     "execution_count": 130,
     "metadata": {},
     "output_type": "execute_result"
    }
   ],
   "source": [
    "# tableタグの'amedas-point-detail-entries-table'クラスの内容を探し出す\n",
    "aaa_bs = a_bs.find_all('table', class_='amedas-point-detail-entries-table')\n",
    "\n",
    "#内容表示\n",
    "aaa_bs"
   ]
  },
  {
   "cell_type": "code",
   "execution_count": 131,
   "metadata": {},
   "outputs": [
    {
     "data": {
      "text/plain": [
       "['10.6\\xa0(14:10)', '2.8\\xa0(02:20)', '0.0', '2.6\\xa0(02:00)', '4.1']"
      ]
     },
     "execution_count": 131,
     "metadata": {},
     "output_type": "execute_result"
    }
   ],
   "source": [
    "# リストを作成\n",
    "wet_td = []\n",
    "\n",
    "# さらにtdタグを取り出す\n",
    "for a_td in aaa_bs[0].select('td'):\n",
    "\n",
    "    # テキストデータのみ抽出\n",
    "    aa_td = a_td.text.strip()\n",
    "    \n",
    "    # リストに格納\n",
    "    wet_td.append(aa_td)\n",
    "\n",
    "# 内容表示\n",
    "wet_td"
   ]
  },
  {
   "cell_type": "code",
   "execution_count": 132,
   "metadata": {},
   "outputs": [
    {
     "data": {
      "text/plain": [
       "['4.1']"
      ]
     },
     "execution_count": 132,
     "metadata": {},
     "output_type": "execute_result"
    }
   ],
   "source": [
    "# 不要なデータを削除\n",
    "del wet_td[:4]\n",
    "\n",
    "# 内容表示\n",
    "wet_td"
   ]
  },
  {
   "cell_type": "markdown",
   "metadata": {},
   "source": [
    "#### 2023/12/20"
   ]
  },
  {
   "cell_type": "code",
   "execution_count": 133,
   "metadata": {},
   "outputs": [],
   "source": [
    "# アクセスしたいサイトのURLを変数に格納\n",
    "url_b= 'https://tenki.jp/past/2023/12/20/amedas/3/17/46091.html'\n",
    "\n",
    "# HTMLを取得し表示\n",
    "time.sleep(1)\n",
    "b = requests.get (url_b)\n",
    "b.encording = b.apparent_encoding"
   ]
  },
  {
   "cell_type": "code",
   "execution_count": 134,
   "metadata": {},
   "outputs": [
    {
     "name": "stdout",
     "output_type": "stream",
     "text": [
      "<class 'bs4.BeautifulSoup'>\n"
     ]
    }
   ],
   "source": [
    "# HTMLソースをBeautifulSoupオブジェクトに変換する\n",
    "b_bs = BeautifulSoup(b.content, 'html.parser') \n",
    "\n",
    "# オブジェクトの表示\n",
    "print(type(b_bs))"
   ]
  },
  {
   "cell_type": "code",
   "execution_count": 135,
   "metadata": {},
   "outputs": [
    {
     "data": {
      "text/plain": [
       "[<table class=\"amedas-point-detail-entries-table\" summary=\"のアメダス(2023年12月20日)\">\n",
       " <tr>\n",
       " <th class=\"headcell\">日最高<br/>気温(℃)</th>\n",
       " <th class=\"headcell\">日最低<br/>気温(℃)</th>\n",
       " <th class=\"headcell\">日積算<br/>降水量(mm)</th>\n",
       " <th class=\"headcell\">日最大<br/>風速(m/s)</th>\n",
       " <th class=\"headcell\">日積算<br/>日照時間(時)</th>\n",
       " </tr>\n",
       " <tr>\n",
       " <td>13.7 (14:30)</td>\n",
       " <td>3.8 (07:10)</td>\n",
       " <td>0.0</td>\n",
       " <td>2.8 (13:20)</td>\n",
       " <td>6.3</td>\n",
       " </tr>\n",
       " </table>]"
      ]
     },
     "execution_count": 135,
     "metadata": {},
     "output_type": "execute_result"
    }
   ],
   "source": [
    "# tableタグの'amedas-point-detail-entries-table'クラスの内容を探し出す\n",
    "bbb_bs = b_bs.find_all('table', class_='amedas-point-detail-entries-table')\n",
    "\n",
    "# 内容表示\n",
    "bbb_bs"
   ]
  },
  {
   "cell_type": "code",
   "execution_count": 136,
   "metadata": {},
   "outputs": [
    {
     "data": {
      "text/plain": [
       "['4.1', '13.7\\xa0(14:30)', '3.8\\xa0(07:10)', '0.0', '2.8\\xa0(13:20)', '6.3']"
      ]
     },
     "execution_count": 136,
     "metadata": {},
     "output_type": "execute_result"
    }
   ],
   "source": [
    "# tdタグを取り出す\n",
    "for b_td in bbb_bs[0].select('td'):\n",
    "\n",
    "    # テキストデータのみ抽出\n",
    "    bb_td = b_td.text.strip()\n",
    "    \n",
    "    # リストに格納\n",
    "    wet_td.append(bb_td)\n",
    "\n",
    "# 内容表示\n",
    "wet_td"
   ]
  },
  {
   "cell_type": "code",
   "execution_count": 137,
   "metadata": {},
   "outputs": [
    {
     "data": {
      "text/plain": [
       "['4.1', '2.8\\xa0(13:20)', '6.3']"
      ]
     },
     "execution_count": 137,
     "metadata": {},
     "output_type": "execute_result"
    }
   ],
   "source": [
    "# 不要なデータを削除\n",
    "del wet_td[1:4]\n",
    "\n",
    "# 内容表示\n",
    "wet_td"
   ]
  },
  {
   "cell_type": "markdown",
   "metadata": {},
   "source": [
    "#### 2023/12/21"
   ]
  },
  {
   "cell_type": "code",
   "execution_count": 138,
   "metadata": {},
   "outputs": [],
   "source": [
    "# アクセスしたいサイトのURLを変数に格納\n",
    "url_c= 'https://tenki.jp/past/2023/12/21/amedas/3/17/46091.html'\n",
    "\n",
    "# HTMLを取得し表示\n",
    "time.sleep(1)\n",
    "c = requests.get (url_c)\n",
    "c.encording = c.apparent_encoding"
   ]
  },
  {
   "cell_type": "code",
   "execution_count": 139,
   "metadata": {},
   "outputs": [
    {
     "name": "stdout",
     "output_type": "stream",
     "text": [
      "<class 'bs4.BeautifulSoup'>\n"
     ]
    }
   ],
   "source": [
    "# HTMLソースをBeautifulSoupオブジェクトに変換する\n",
    "c_bs = BeautifulSoup(c.content, 'html.parser') \n",
    "\n",
    "# オブジェクトの表示\n",
    "print(type(c_bs))"
   ]
  },
  {
   "cell_type": "code",
   "execution_count": 140,
   "metadata": {},
   "outputs": [
    {
     "data": {
      "text/plain": [
       "[<table class=\"amedas-point-detail-entries-table\" summary=\"のアメダス(2023年12月21日)\">\n",
       " <tr>\n",
       " <th class=\"headcell\">日最高<br/>気温(℃)</th>\n",
       " <th class=\"headcell\">日最低<br/>気温(℃)</th>\n",
       " <th class=\"headcell\">日積算<br/>降水量(mm)</th>\n",
       " <th class=\"headcell\">日最大<br/>風速(m/s)</th>\n",
       " <th class=\"headcell\">日積算<br/>日照時間(時)</th>\n",
       " </tr>\n",
       " <tr>\n",
       " <td>11.7 (12:50)</td>\n",
       " <td>0.0 (24:00)</td>\n",
       " <td>0.0</td>\n",
       " <td>4.9 (12:40)</td>\n",
       " <td>9.2</td>\n",
       " </tr>\n",
       " </table>]"
      ]
     },
     "execution_count": 140,
     "metadata": {},
     "output_type": "execute_result"
    }
   ],
   "source": [
    "# tableタグの'amedas-point-detail-entries-table'クラスの内容を探し出す\n",
    "ccc_bs = c_bs.find_all('table', class_='amedas-point-detail-entries-table')\n",
    "\n",
    "# 内容表示\n",
    "ccc_bs"
   ]
  },
  {
   "cell_type": "code",
   "execution_count": 141,
   "metadata": {},
   "outputs": [
    {
     "data": {
      "text/plain": [
       "['4.1',\n",
       " '2.8\\xa0(13:20)',\n",
       " '6.3',\n",
       " '11.7\\xa0(12:50)',\n",
       " '0.0\\xa0(24:00)',\n",
       " '0.0',\n",
       " '4.9\\xa0(12:40)',\n",
       " '9.2']"
      ]
     },
     "execution_count": 141,
     "metadata": {},
     "output_type": "execute_result"
    }
   ],
   "source": [
    "# tdタグを取り出す\n",
    "for c_td in ccc_bs[0].select('td'):\n",
    "\n",
    "    # テキストデータのみ抽出\n",
    "    cc_td = c_td.text.strip()\n",
    "    \n",
    "    # リストに格納\n",
    "    wet_td.append(cc_td)\n",
    "\n",
    "# 内容表示\n",
    "wet_td"
   ]
  },
  {
   "cell_type": "code",
   "execution_count": 142,
   "metadata": {},
   "outputs": [
    {
     "data": {
      "text/plain": [
       "['4.1', '6.3', '4.9\\xa0(12:40)', '9.2']"
      ]
     },
     "execution_count": 142,
     "metadata": {},
     "output_type": "execute_result"
    }
   ],
   "source": [
    "# 不要なデータを削除\n",
    "del wet_td[1]\n",
    "del wet_td[2:5]\n",
    "\n",
    "# 内容表示\n",
    "wet_td"
   ]
  },
  {
   "cell_type": "markdown",
   "metadata": {},
   "source": [
    "#### 2023/12/22"
   ]
  },
  {
   "cell_type": "code",
   "execution_count": 143,
   "metadata": {},
   "outputs": [],
   "source": [
    "# アクセスしたいサイトのURLを変数に格納\n",
    "url_d= 'https://tenki.jp/past/2023/12/22/amedas/3/17/46091.html'\n",
    "\n",
    "# HTMLを取得し表示\n",
    "time.sleep(1)\n",
    "d = requests.get (url_d)\n",
    "d.encording = d.apparent_encoding"
   ]
  },
  {
   "cell_type": "code",
   "execution_count": 144,
   "metadata": {},
   "outputs": [
    {
     "name": "stdout",
     "output_type": "stream",
     "text": [
      "<class 'bs4.BeautifulSoup'>\n"
     ]
    }
   ],
   "source": [
    "# HTMLソースをBeautifulSoupオブジェクトに変換する\n",
    "d_bs = BeautifulSoup(d.content, 'html.parser') \n",
    "\n",
    "# オブジェクトの表示\n",
    "print(type(d_bs))"
   ]
  },
  {
   "cell_type": "code",
   "execution_count": 145,
   "metadata": {},
   "outputs": [
    {
     "data": {
      "text/plain": [
       "[<table class=\"amedas-point-detail-entries-table\" summary=\"のアメダス(2023年12月22日)\">\n",
       " <tr>\n",
       " <th class=\"headcell\">日最高<br/>気温(℃)</th>\n",
       " <th class=\"headcell\">日最低<br/>気温(℃)</th>\n",
       " <th class=\"headcell\">日積算<br/>降水量(mm)</th>\n",
       " <th class=\"headcell\">日最大<br/>風速(m/s)</th>\n",
       " <th class=\"headcell\">日積算<br/>日照時間(時)</th>\n",
       " </tr>\n",
       " <tr>\n",
       " <td>10.0 (13:00)</td>\n",
       " <td>-3.4 (06:50)</td>\n",
       " <td>0.0</td>\n",
       " <td>5.0 (14:20)</td>\n",
       " <td>9.2</td>\n",
       " </tr>\n",
       " </table>]"
      ]
     },
     "execution_count": 145,
     "metadata": {},
     "output_type": "execute_result"
    }
   ],
   "source": [
    "# tableタグの'amedas-point-detail-entries-table'クラスの内容を探し出す\n",
    "ddd_bs = d_bs.find_all('table', class_='amedas-point-detail-entries-table')\n",
    "\n",
    "# 内容表示\n",
    "ddd_bs"
   ]
  },
  {
   "cell_type": "code",
   "execution_count": 146,
   "metadata": {},
   "outputs": [
    {
     "data": {
      "text/plain": [
       "['4.1',\n",
       " '6.3',\n",
       " '4.9\\xa0(12:40)',\n",
       " '9.2',\n",
       " '10.0\\xa0(13:00)',\n",
       " '-3.4\\xa0(06:50)',\n",
       " '0.0',\n",
       " '5.0\\xa0(14:20)',\n",
       " '9.2']"
      ]
     },
     "execution_count": 146,
     "metadata": {},
     "output_type": "execute_result"
    }
   ],
   "source": [
    "# tdタグを取り出す\n",
    "for d_td in ddd_bs[0].select('td'):\n",
    "\n",
    "    # テキストデータのみ抽出\n",
    "    dd_td = d_td.text.strip()\n",
    "    \n",
    "    # リストに格納\n",
    "    wet_td.append(dd_td)\n",
    "\n",
    "# 内容表示\n",
    "wet_td"
   ]
  },
  {
   "cell_type": "code",
   "execution_count": 147,
   "metadata": {},
   "outputs": [
    {
     "data": {
      "text/plain": [
       "['4.1', '6.3', '9.2', '5.0\\xa0(14:20)', '9.2']"
      ]
     },
     "execution_count": 147,
     "metadata": {},
     "output_type": "execute_result"
    }
   ],
   "source": [
    "# 不要なデータを削除\n",
    "del wet_td[2]\n",
    "del wet_td[3:6]\n",
    "\n",
    "# 内容表示\n",
    "wet_td"
   ]
  },
  {
   "cell_type": "markdown",
   "metadata": {},
   "source": [
    "#### 2023/12/23"
   ]
  },
  {
   "cell_type": "code",
   "execution_count": 148,
   "metadata": {},
   "outputs": [],
   "source": [
    "# アクセスしたいサイトのURLを変数に格納\n",
    "url_e = 'https://tenki.jp/past/2023/12/23/amedas/3/17/46091.html'\n",
    "\n",
    "# HTMLを取得し表示\n",
    "time.sleep(1)\n",
    "e = requests.get (url_e)\n",
    "e.encording = e.apparent_encoding"
   ]
  },
  {
   "cell_type": "code",
   "execution_count": 149,
   "metadata": {},
   "outputs": [
    {
     "name": "stdout",
     "output_type": "stream",
     "text": [
      "<class 'bs4.BeautifulSoup'>\n"
     ]
    }
   ],
   "source": [
    "# HTMLソースをBeautifulSoupオブジェクトに変換する\n",
    "e_bs = BeautifulSoup(e.content, 'html.parser') \n",
    "\n",
    "# オブジェクトの表示\n",
    "print(type(d_bs))"
   ]
  },
  {
   "cell_type": "code",
   "execution_count": 150,
   "metadata": {},
   "outputs": [
    {
     "data": {
      "text/plain": [
       "[<table class=\"amedas-point-detail-entries-table\" summary=\"のアメダス(2023年12月23日)\">\n",
       " <tr>\n",
       " <th class=\"headcell\">日最高<br/>気温(℃)</th>\n",
       " <th class=\"headcell\">日最低<br/>気温(℃)</th>\n",
       " <th class=\"headcell\">日積算<br/>降水量(mm)</th>\n",
       " <th class=\"headcell\">日最大<br/>風速(m/s)</th>\n",
       " <th class=\"headcell\">日積算<br/>日照時間(時)</th>\n",
       " </tr>\n",
       " <tr>\n",
       " <td>10.1 (13:40)</td>\n",
       " <td>-4.0 (06:30)</td>\n",
       " <td>0.0</td>\n",
       " <td>3.3 (12:40)</td>\n",
       " <td>8.9</td>\n",
       " </tr>\n",
       " </table>]"
      ]
     },
     "execution_count": 150,
     "metadata": {},
     "output_type": "execute_result"
    }
   ],
   "source": [
    "# tableタグの'amedas-point-detail-entries-table'クラスの内容を探し出す\n",
    "eee_bs = e_bs.find_all('table', class_='amedas-point-detail-entries-table')\n",
    "\n",
    "# 内容表示\n",
    "eee_bs"
   ]
  },
  {
   "cell_type": "code",
   "execution_count": 151,
   "metadata": {},
   "outputs": [
    {
     "data": {
      "text/plain": [
       "['4.1',\n",
       " '6.3',\n",
       " '9.2',\n",
       " '5.0\\xa0(14:20)',\n",
       " '9.2',\n",
       " '10.1\\xa0(13:40)',\n",
       " '-4.0\\xa0(06:30)',\n",
       " '0.0',\n",
       " '3.3\\xa0(12:40)',\n",
       " '8.9']"
      ]
     },
     "execution_count": 151,
     "metadata": {},
     "output_type": "execute_result"
    }
   ],
   "source": [
    "# tdタグを取り出す\n",
    "for e_td in eee_bs[0].select('td'):\n",
    "\n",
    "    # テキストデータのみ抽出\n",
    "    ee_td = e_td.text.strip()\n",
    "    \n",
    "    # リストに格納\n",
    "    wet_td.append(ee_td)\n",
    "\n",
    "# 内容表示\n",
    "wet_td"
   ]
  },
  {
   "cell_type": "code",
   "execution_count": 152,
   "metadata": {},
   "outputs": [
    {
     "data": {
      "text/plain": [
       "['4.1', '6.3', '9.2', '9.2', '3.3\\xa0(12:40)', '8.9']"
      ]
     },
     "execution_count": 152,
     "metadata": {},
     "output_type": "execute_result"
    }
   ],
   "source": [
    "# 不要なデータを削除\n",
    "del wet_td[3]\n",
    "del wet_td[4:7]\n",
    "\n",
    "# 内容表示\n",
    "wet_td"
   ]
  },
  {
   "cell_type": "markdown",
   "metadata": {},
   "source": [
    "#### 2023/12/24"
   ]
  },
  {
   "cell_type": "code",
   "execution_count": 153,
   "metadata": {},
   "outputs": [],
   "source": [
    "# アクセスしたいサイトのURLを変数に格納\n",
    "url_f = 'https://tenki.jp/past/2023/12/24/amedas/3/17/46091.html'\n",
    "\n",
    "# HTMLを取得し表示\n",
    "time.sleep(1)\n",
    "f = requests.get (url_f)\n",
    "f.encording = f.apparent_encoding"
   ]
  },
  {
   "cell_type": "code",
   "execution_count": 154,
   "metadata": {},
   "outputs": [
    {
     "name": "stdout",
     "output_type": "stream",
     "text": [
      "<class 'bs4.BeautifulSoup'>\n"
     ]
    }
   ],
   "source": [
    "# HTMLソースをBeautifulSoupオブジェクトに変換する\n",
    "f_bs = BeautifulSoup(f.content, 'html.parser') \n",
    "\n",
    "# オブジェクトの表示\n",
    "print(type(f_bs))"
   ]
  },
  {
   "cell_type": "code",
   "execution_count": 155,
   "metadata": {},
   "outputs": [
    {
     "data": {
      "text/plain": [
       "[<table class=\"amedas-point-detail-entries-table\" summary=\"のアメダス(2023年12月24日)\">\n",
       " <tr>\n",
       " <th class=\"headcell\">日最高<br/>気温(℃)</th>\n",
       " <th class=\"headcell\">日最低<br/>気温(℃)</th>\n",
       " <th class=\"headcell\">日積算<br/>降水量(mm)</th>\n",
       " <th class=\"headcell\">日最大<br/>風速(m/s)</th>\n",
       " <th class=\"headcell\">日積算<br/>日照時間(時)</th>\n",
       " </tr>\n",
       " <tr>\n",
       " <td>10.0 (14:10)</td>\n",
       " <td>-1.5 (02:50)</td>\n",
       " <td>0.0</td>\n",
       " <td>2.9 (15:00)</td>\n",
       " <td>4.5</td>\n",
       " </tr>\n",
       " </table>]"
      ]
     },
     "execution_count": 155,
     "metadata": {},
     "output_type": "execute_result"
    }
   ],
   "source": [
    "# tableタグの'amedas-point-detail-entries-table'クラスの内容を探し出す\n",
    "fff_bs = f_bs.find_all('table', class_='amedas-point-detail-entries-table')\n",
    "\n",
    "# 内容表示\n",
    "fff_bs"
   ]
  },
  {
   "cell_type": "code",
   "execution_count": 156,
   "metadata": {},
   "outputs": [
    {
     "data": {
      "text/plain": [
       "['4.1',\n",
       " '6.3',\n",
       " '9.2',\n",
       " '9.2',\n",
       " '3.3\\xa0(12:40)',\n",
       " '8.9',\n",
       " '10.0\\xa0(14:10)',\n",
       " '-1.5\\xa0(02:50)',\n",
       " '0.0',\n",
       " '2.9\\xa0(15:00)',\n",
       " '4.5']"
      ]
     },
     "execution_count": 156,
     "metadata": {},
     "output_type": "execute_result"
    }
   ],
   "source": [
    "# tdタグを取り出す\n",
    "for f_td in fff_bs[0].select('td'):\n",
    "\n",
    "    # テキストデータのみ抽出\n",
    "    ff_td = f_td.text.strip()\n",
    "    \n",
    "    # リストに格納\n",
    "    wet_td.append(ff_td)\n",
    "\n",
    "# 内容表示\n",
    "wet_td"
   ]
  },
  {
   "cell_type": "code",
   "execution_count": 157,
   "metadata": {},
   "outputs": [
    {
     "data": {
      "text/plain": [
       "['4.1', '6.3', '9.2', '9.2', '8.9', '2.9\\xa0(15:00)', '4.5']"
      ]
     },
     "execution_count": 157,
     "metadata": {},
     "output_type": "execute_result"
    }
   ],
   "source": [
    "# 不要なデータを削除\n",
    "del wet_td[4]\n",
    "del wet_td[5:8]\n",
    "\n",
    "# 内容表示\n",
    "wet_td"
   ]
  },
  {
   "cell_type": "markdown",
   "metadata": {},
   "source": [
    "#### 2023/12/25"
   ]
  },
  {
   "cell_type": "code",
   "execution_count": 158,
   "metadata": {},
   "outputs": [],
   "source": [
    "# アクセスしたいサイトのURLを変数に格納\n",
    "url_g = 'https://tenki.jp/past/2023/12/25/amedas/3/17/46091.html'\n",
    "\n",
    "# HTMLを取得し表示\n",
    "time.sleep(1)\n",
    "g = requests.get (url_g)\n",
    "g.encording = g.apparent_encoding"
   ]
  },
  {
   "cell_type": "code",
   "execution_count": 159,
   "metadata": {},
   "outputs": [
    {
     "name": "stdout",
     "output_type": "stream",
     "text": [
      "<class 'bs4.BeautifulSoup'>\n"
     ]
    }
   ],
   "source": [
    "# HTMLソースをBeautifulSoupオブジェクトに変換する\n",
    "g_bs = BeautifulSoup(g.content, 'html.parser') \n",
    "\n",
    "# オブジェクトの表示\n",
    "print(type(g_bs))"
   ]
  },
  {
   "cell_type": "code",
   "execution_count": 160,
   "metadata": {},
   "outputs": [
    {
     "data": {
      "text/plain": [
       "[<table class=\"amedas-point-detail-entries-table\" summary=\"のアメダス(2023年12月25日)\">\n",
       " <tr>\n",
       " <th class=\"headcell\">日最高<br/>気温(℃)</th>\n",
       " <th class=\"headcell\">日最低<br/>気温(℃)</th>\n",
       " <th class=\"headcell\">日積算<br/>降水量(mm)</th>\n",
       " <th class=\"headcell\">日最大<br/>風速(m/s)</th>\n",
       " <th class=\"headcell\">日積算<br/>日照時間(時)</th>\n",
       " </tr>\n",
       " <tr>\n",
       " <td>13.5 (13:50)</td>\n",
       " <td>-2.0 (05:30)</td>\n",
       " <td>0.0</td>\n",
       " <td>3.2 (16:40)</td>\n",
       " <td>9.1</td>\n",
       " </tr>\n",
       " </table>]"
      ]
     },
     "execution_count": 160,
     "metadata": {},
     "output_type": "execute_result"
    }
   ],
   "source": [
    "# tableタグの'amedas-point-detail-entries-table'クラスの内容を探し出す\n",
    "ggg_bs = g_bs.find_all('table', class_='amedas-point-detail-entries-table')\n",
    "\n",
    "# 内容表示\n",
    "ggg_bs"
   ]
  },
  {
   "cell_type": "code",
   "execution_count": 161,
   "metadata": {},
   "outputs": [
    {
     "data": {
      "text/plain": [
       "['4.1',\n",
       " '6.3',\n",
       " '9.2',\n",
       " '9.2',\n",
       " '8.9',\n",
       " '2.9\\xa0(15:00)',\n",
       " '4.5',\n",
       " '13.5\\xa0(13:50)',\n",
       " '-2.0\\xa0(05:30)',\n",
       " '0.0',\n",
       " '3.2\\xa0(16:40)',\n",
       " '9.1']"
      ]
     },
     "execution_count": 161,
     "metadata": {},
     "output_type": "execute_result"
    }
   ],
   "source": [
    "# tdタグを取り出す\n",
    "for g_td in ggg_bs[0].select('td'):\n",
    "\n",
    "    # テキストデータのみ抽出\n",
    "    gg_td = g_td.text.strip()\n",
    "    \n",
    "    # リストに格納\n",
    "    wet_td.append(gg_td)\n",
    "\n",
    "# 内容表示\n",
    "wet_td"
   ]
  },
  {
   "cell_type": "code",
   "execution_count": 162,
   "metadata": {},
   "outputs": [
    {
     "data": {
      "text/plain": [
       "['4.1', '6.3', '9.2', '9.2', '8.9', '4.5', '3.2\\xa0(16:40)', '9.1']"
      ]
     },
     "execution_count": 162,
     "metadata": {},
     "output_type": "execute_result"
    }
   ],
   "source": [
    "# 不要なデータを削除\n",
    "del wet_td[5]\n",
    "del wet_td[6:9]\n",
    "\n",
    "# 内容表示\n",
    "wet_td"
   ]
  },
  {
   "cell_type": "markdown",
   "metadata": {},
   "source": [
    "#### 2023/12/26"
   ]
  },
  {
   "cell_type": "code",
   "execution_count": 163,
   "metadata": {},
   "outputs": [],
   "source": [
    "# アクセスしたいサイトのURLを変数に格納\n",
    "url_h = 'https://tenki.jp/past/2023/12/26/amedas/3/17/46091.html'\n",
    "\n",
    "# HTMLを取得し表示\n",
    "time.sleep(1)\n",
    "h = requests.get (url_h)\n",
    "h.encording = h.apparent_encoding"
   ]
  },
  {
   "cell_type": "code",
   "execution_count": 164,
   "metadata": {},
   "outputs": [
    {
     "name": "stdout",
     "output_type": "stream",
     "text": [
      "<class 'bs4.BeautifulSoup'>\n"
     ]
    }
   ],
   "source": [
    "# HTMLソースをBeautifulSoupオブジェクトに変換する\n",
    "h_bs = BeautifulSoup(h.content, 'html.parser') \n",
    "\n",
    "# オブジェクトの表示\n",
    "print(type(h_bs))"
   ]
  },
  {
   "cell_type": "code",
   "execution_count": 165,
   "metadata": {},
   "outputs": [
    {
     "data": {
      "text/plain": [
       "[<table class=\"amedas-point-detail-entries-table\" summary=\"のアメダス(2023年12月26日)\">\n",
       " <tr>\n",
       " <th class=\"headcell\">日最高<br/>気温(℃)</th>\n",
       " <th class=\"headcell\">日最低<br/>気温(℃)</th>\n",
       " <th class=\"headcell\">日積算<br/>降水量(mm)</th>\n",
       " <th class=\"headcell\">日最大<br/>風速(m/s)</th>\n",
       " <th class=\"headcell\">日積算<br/>日照時間(時)</th>\n",
       " </tr>\n",
       " <tr>\n",
       " <td>12.9 (13:20)</td>\n",
       " <td>-2.0 (06:30)</td>\n",
       " <td>0.0</td>\n",
       " <td>4.5 (13:00)</td>\n",
       " <td>9.1</td>\n",
       " </tr>\n",
       " </table>]"
      ]
     },
     "execution_count": 165,
     "metadata": {},
     "output_type": "execute_result"
    }
   ],
   "source": [
    "# tableタグの'amedas-point-detail-entries-table'クラスの内容を探し出す\n",
    "hhh_bs = h_bs.find_all('table', class_='amedas-point-detail-entries-table')\n",
    "\n",
    "# 内容表示\n",
    "hhh_bs"
   ]
  },
  {
   "cell_type": "code",
   "execution_count": 166,
   "metadata": {},
   "outputs": [
    {
     "data": {
      "text/plain": [
       "['4.1',\n",
       " '6.3',\n",
       " '9.2',\n",
       " '9.2',\n",
       " '8.9',\n",
       " '4.5',\n",
       " '3.2\\xa0(16:40)',\n",
       " '9.1',\n",
       " '12.9\\xa0(13:20)',\n",
       " '-2.0\\xa0(06:30)',\n",
       " '0.0',\n",
       " '4.5\\xa0(13:00)',\n",
       " '9.1']"
      ]
     },
     "execution_count": 166,
     "metadata": {},
     "output_type": "execute_result"
    }
   ],
   "source": [
    "# tdタグを取り出す\n",
    "for h_td in hhh_bs[0].select('td'):\n",
    "\n",
    "    # テキストデータのみ抽出\n",
    "    hh_td = h_td.text.strip()\n",
    "    \n",
    "    # リストに格納\n",
    "    wet_td.append(hh_td)\n",
    "\n",
    "# 内容表示\n",
    "wet_td"
   ]
  },
  {
   "cell_type": "code",
   "execution_count": 167,
   "metadata": {},
   "outputs": [
    {
     "data": {
      "text/plain": [
       "['4.1', '6.3', '9.2', '9.2', '8.9', '4.5', '9.1', '4.5\\xa0(13:00)', '9.1']"
      ]
     },
     "execution_count": 167,
     "metadata": {},
     "output_type": "execute_result"
    }
   ],
   "source": [
    "# 不要なデータを削除\n",
    "del wet_td[6]\n",
    "del wet_td[7:10]\n",
    "\n",
    "# 内容表示\n",
    "wet_td"
   ]
  },
  {
   "cell_type": "markdown",
   "metadata": {},
   "source": [
    "#### 2023/12/27"
   ]
  },
  {
   "cell_type": "code",
   "execution_count": 168,
   "metadata": {},
   "outputs": [],
   "source": [
    "# アクセスしたいサイトのURLを変数に格納\n",
    "url_i = 'https://tenki.jp/past/2023/12/27/amedas/3/17/46091.html'\n",
    "\n",
    "# HTMLを取得し表示\n",
    "time.sleep(1)\n",
    "i = requests.get (url_i)\n",
    "i.encording = i.apparent_encoding"
   ]
  },
  {
   "cell_type": "code",
   "execution_count": 169,
   "metadata": {},
   "outputs": [
    {
     "name": "stdout",
     "output_type": "stream",
     "text": [
      "<class 'bs4.BeautifulSoup'>\n"
     ]
    }
   ],
   "source": [
    "# HTMLソースをBeautifulSoupオブジェクトに変換する\n",
    "i_bs = BeautifulSoup(i.content, 'html.parser') \n",
    "\n",
    "# オブジェクトの表示\n",
    "print(type(i_bs))"
   ]
  },
  {
   "cell_type": "code",
   "execution_count": 170,
   "metadata": {},
   "outputs": [
    {
     "data": {
      "text/plain": [
       "[<table class=\"amedas-point-detail-entries-table\" summary=\"のアメダス(2023年12月27日)\">\n",
       " <tr>\n",
       " <th class=\"headcell\">日最高<br/>気温(℃)</th>\n",
       " <th class=\"headcell\">日最低<br/>気温(℃)</th>\n",
       " <th class=\"headcell\">日積算<br/>降水量(mm)</th>\n",
       " <th class=\"headcell\">日最大<br/>風速(m/s)</th>\n",
       " <th class=\"headcell\">日積算<br/>日照時間(時)</th>\n",
       " </tr>\n",
       " <tr>\n",
       " <td>13.6 (13:10)</td>\n",
       " <td>0.0 (05:40)</td>\n",
       " <td>0.0</td>\n",
       " <td>3.1 (17:50)</td>\n",
       " <td>5.7</td>\n",
       " </tr>\n",
       " </table>]"
      ]
     },
     "execution_count": 170,
     "metadata": {},
     "output_type": "execute_result"
    }
   ],
   "source": [
    "# tableタグの'amedas-point-detail-entries-table'クラスの内容を探し出す\n",
    "iii_bs = i_bs.find_all('table', class_='amedas-point-detail-entries-table')\n",
    "\n",
    "# 内容表示\n",
    "iii_bs"
   ]
  },
  {
   "cell_type": "code",
   "execution_count": 171,
   "metadata": {},
   "outputs": [
    {
     "data": {
      "text/plain": [
       "['4.1',\n",
       " '6.3',\n",
       " '9.2',\n",
       " '9.2',\n",
       " '8.9',\n",
       " '4.5',\n",
       " '9.1',\n",
       " '4.5\\xa0(13:00)',\n",
       " '9.1',\n",
       " '13.6\\xa0(13:10)',\n",
       " '0.0\\xa0(05:40)',\n",
       " '0.0',\n",
       " '3.1\\xa0(17:50)',\n",
       " '5.7']"
      ]
     },
     "execution_count": 171,
     "metadata": {},
     "output_type": "execute_result"
    }
   ],
   "source": [
    "# tdタグを取り出す\n",
    "for i_td in iii_bs[0].select('td'):\n",
    "\n",
    "    # テキストデータのみ抽出\n",
    "    ii_td = i_td.text.strip()\n",
    "    \n",
    "    # リストに格納\n",
    "    wet_td.append(ii_td)\n",
    "\n",
    "# 内容表示\n",
    "wet_td"
   ]
  },
  {
   "cell_type": "code",
   "execution_count": 172,
   "metadata": {},
   "outputs": [
    {
     "data": {
      "text/plain": [
       "['4.1',\n",
       " '6.3',\n",
       " '9.2',\n",
       " '9.2',\n",
       " '8.9',\n",
       " '4.5',\n",
       " '9.1',\n",
       " '9.1',\n",
       " '3.1\\xa0(17:50)',\n",
       " '5.7']"
      ]
     },
     "execution_count": 172,
     "metadata": {},
     "output_type": "execute_result"
    }
   ],
   "source": [
    "# 不要なデータを削除\n",
    "del wet_td[7]\n",
    "del wet_td[8:11]\n",
    "\n",
    "# 内容表示\n",
    "wet_td"
   ]
  },
  {
   "cell_type": "markdown",
   "metadata": {},
   "source": [
    "#### 2023/12/28"
   ]
  },
  {
   "cell_type": "code",
   "execution_count": 173,
   "metadata": {},
   "outputs": [],
   "source": [
    "# アクセスしたいサイトのURLを変数に格納\n",
    "url_j = 'https://tenki.jp/past/2023/12/28/amedas/3/17/46091.html'\n",
    "\n",
    "# HTMLを取得し表示\n",
    "time.sleep(1)\n",
    "j = requests.get (url_j)\n",
    "j.encording = j.apparent_encoding"
   ]
  },
  {
   "cell_type": "code",
   "execution_count": 174,
   "metadata": {},
   "outputs": [
    {
     "name": "stdout",
     "output_type": "stream",
     "text": [
      "<class 'bs4.BeautifulSoup'>\n"
     ]
    }
   ],
   "source": [
    "# HTMLソースをBeautifulSoupオブジェクトに変換する\n",
    "j_bs = BeautifulSoup(j.content, 'html.parser') \n",
    "\n",
    "# オブジェクトの表示\n",
    "print(type(j_bs))"
   ]
  },
  {
   "cell_type": "code",
   "execution_count": 175,
   "metadata": {},
   "outputs": [
    {
     "data": {
      "text/plain": [
       "[<table class=\"amedas-point-detail-entries-table\" summary=\"のアメダス(2023年12月28日)\">\n",
       " <tr>\n",
       " <th class=\"headcell\">日最高<br/>気温(℃)</th>\n",
       " <th class=\"headcell\">日最低<br/>気温(℃)</th>\n",
       " <th class=\"headcell\">日積算<br/>降水量(mm)</th>\n",
       " <th class=\"headcell\">日最大<br/>風速(m/s)</th>\n",
       " <th class=\"headcell\">日積算<br/>日照時間(時)</th>\n",
       " </tr>\n",
       " <tr>\n",
       " <td>10.9 (13:50)</td>\n",
       " <td>3.4 (24:00)</td>\n",
       " <td>0.0</td>\n",
       " <td>3.0 (09:10)</td>\n",
       " <td>8.5</td>\n",
       " </tr>\n",
       " </table>]"
      ]
     },
     "execution_count": 175,
     "metadata": {},
     "output_type": "execute_result"
    }
   ],
   "source": [
    "# tableタグの'amedas-point-detail-entries-table'クラスの内容を探し出す\n",
    "jjj_bs = j_bs.find_all('table', class_='amedas-point-detail-entries-table')\n",
    "\n",
    "# 内容表示\n",
    "jjj_bs"
   ]
  },
  {
   "cell_type": "code",
   "execution_count": 176,
   "metadata": {},
   "outputs": [
    {
     "data": {
      "text/plain": [
       "['4.1',\n",
       " '6.3',\n",
       " '9.2',\n",
       " '9.2',\n",
       " '8.9',\n",
       " '4.5',\n",
       " '9.1',\n",
       " '9.1',\n",
       " '3.1\\xa0(17:50)',\n",
       " '5.7',\n",
       " '10.9\\xa0(13:50)',\n",
       " '3.4\\xa0(24:00)',\n",
       " '0.0',\n",
       " '3.0\\xa0(09:10)',\n",
       " '8.5']"
      ]
     },
     "execution_count": 176,
     "metadata": {},
     "output_type": "execute_result"
    }
   ],
   "source": [
    "# tdタグを取り出す\n",
    "for j_td in jjj_bs[0].select('td'):\n",
    "\n",
    "    # テキストデータのみ抽出\n",
    "    jj_td = j_td.text.strip()\n",
    "    \n",
    "    # リストに格納\n",
    "    wet_td.append(jj_td)\n",
    "\n",
    "# 内容表示\n",
    "wet_td"
   ]
  },
  {
   "cell_type": "code",
   "execution_count": 177,
   "metadata": {},
   "outputs": [
    {
     "data": {
      "text/plain": [
       "['4.1',\n",
       " '6.3',\n",
       " '9.2',\n",
       " '9.2',\n",
       " '8.9',\n",
       " '4.5',\n",
       " '9.1',\n",
       " '9.1',\n",
       " '5.7',\n",
       " '3.0\\xa0(09:10)',\n",
       " '8.5']"
      ]
     },
     "execution_count": 177,
     "metadata": {},
     "output_type": "execute_result"
    }
   ],
   "source": [
    "# 不要なデータを削除\n",
    "del wet_td[8]\n",
    "del wet_td[9:12]\n",
    "\n",
    "# 内容表示\n",
    "wet_td"
   ]
  },
  {
   "cell_type": "markdown",
   "metadata": {},
   "source": [
    "#### 2023/12/29"
   ]
  },
  {
   "cell_type": "code",
   "execution_count": 178,
   "metadata": {},
   "outputs": [],
   "source": [
    "# アクセスしたいサイトのURLを変数に格納\n",
    "url_k = 'https://tenki.jp/past/2023/12/29/amedas/3/17/46091.html'\n",
    "\n",
    "# HTMLを取得し表示\n",
    "time.sleep(1)\n",
    "k = requests.get (url_k)\n",
    "k.encording = k.apparent_encoding"
   ]
  },
  {
   "cell_type": "code",
   "execution_count": 179,
   "metadata": {},
   "outputs": [
    {
     "name": "stdout",
     "output_type": "stream",
     "text": [
      "<class 'bs4.BeautifulSoup'>\n"
     ]
    }
   ],
   "source": [
    "# HTMLソースをBeautifulSoupオブジェクトに変換する\n",
    "k_bs = BeautifulSoup(k.content, 'html.parser') \n",
    "\n",
    "# オブジェクトの表示\n",
    "print(type(k_bs))"
   ]
  },
  {
   "cell_type": "code",
   "execution_count": 180,
   "metadata": {},
   "outputs": [
    {
     "data": {
      "text/plain": [
       "[<table class=\"amedas-point-detail-entries-table\" summary=\"のアメダス(2023年12月29日)\">\n",
       " <tr>\n",
       " <th class=\"headcell\">日最高<br/>気温(℃)</th>\n",
       " <th class=\"headcell\">日最低<br/>気温(℃)</th>\n",
       " <th class=\"headcell\">日積算<br/>降水量(mm)</th>\n",
       " <th class=\"headcell\">日最大<br/>風速(m/s)</th>\n",
       " <th class=\"headcell\">日積算<br/>日照時間(時)</th>\n",
       " </tr>\n",
       " <tr>\n",
       " <td>14.9 (14:10)</td>\n",
       " <td>0.1 (06:30)</td>\n",
       " <td>0.0</td>\n",
       " <td>2.9 (15:20)</td>\n",
       " <td>9.1</td>\n",
       " </tr>\n",
       " </table>]"
      ]
     },
     "execution_count": 180,
     "metadata": {},
     "output_type": "execute_result"
    }
   ],
   "source": [
    "# tableタグの'amedas-point-detail-entries-table'クラスの内容を探し出す\n",
    "kkk_bs = k_bs.find_all('table', class_='amedas-point-detail-entries-table')\n",
    "\n",
    "# 内容表示\n",
    "kkk_bs"
   ]
  },
  {
   "cell_type": "code",
   "execution_count": 181,
   "metadata": {},
   "outputs": [
    {
     "data": {
      "text/plain": [
       "['4.1',\n",
       " '6.3',\n",
       " '9.2',\n",
       " '9.2',\n",
       " '8.9',\n",
       " '4.5',\n",
       " '9.1',\n",
       " '9.1',\n",
       " '5.7',\n",
       " '3.0\\xa0(09:10)',\n",
       " '8.5',\n",
       " '14.9\\xa0(14:10)',\n",
       " '0.1\\xa0(06:30)',\n",
       " '0.0',\n",
       " '2.9\\xa0(15:20)',\n",
       " '9.1']"
      ]
     },
     "execution_count": 181,
     "metadata": {},
     "output_type": "execute_result"
    }
   ],
   "source": [
    "# tdタグを取り出す\n",
    "for k_td in kkk_bs[0].select('td'):\n",
    "\n",
    "    # テキストデータのみ抽出\n",
    "    kk_td = k_td.text.strip()\n",
    "    \n",
    "    # リストに格納\n",
    "    wet_td.append(kk_td)\n",
    "\n",
    "# 内容表示\n",
    "wet_td"
   ]
  },
  {
   "cell_type": "code",
   "execution_count": 182,
   "metadata": {},
   "outputs": [
    {
     "data": {
      "text/plain": [
       "['4.1',\n",
       " '6.3',\n",
       " '9.2',\n",
       " '9.2',\n",
       " '8.9',\n",
       " '4.5',\n",
       " '9.1',\n",
       " '9.1',\n",
       " '5.7',\n",
       " '8.5',\n",
       " '2.9\\xa0(15:20)',\n",
       " '9.1']"
      ]
     },
     "execution_count": 182,
     "metadata": {},
     "output_type": "execute_result"
    }
   ],
   "source": [
    "# 不要なデータを削除\n",
    "del wet_td[9]\n",
    "del wet_td[10:13]\n",
    "\n",
    "# 内容表示\n",
    "wet_td"
   ]
  },
  {
   "cell_type": "markdown",
   "metadata": {},
   "source": [
    "#### 2023/12/30"
   ]
  },
  {
   "cell_type": "code",
   "execution_count": 183,
   "metadata": {},
   "outputs": [],
   "source": [
    "# アクセスしたいサイトのURLを変数に格納\n",
    "url_l = 'https://tenki.jp/past/2023/12/30/amedas/3/17/46091.html'\n",
    "\n",
    "# HTMLを取得し表示\n",
    "time.sleep(1)\n",
    "l = requests.get (url_l)\n",
    "l.encording = l.apparent_encoding"
   ]
  },
  {
   "cell_type": "code",
   "execution_count": 184,
   "metadata": {},
   "outputs": [
    {
     "name": "stdout",
     "output_type": "stream",
     "text": [
      "<class 'bs4.BeautifulSoup'>\n"
     ]
    }
   ],
   "source": [
    "# HTMLソースをBeautifulSoupオブジェクトに変換する\n",
    "l_bs = BeautifulSoup(l.content, 'html.parser') \n",
    "\n",
    "# オブジェクトの表示\n",
    "print(type(l_bs))"
   ]
  },
  {
   "cell_type": "code",
   "execution_count": 185,
   "metadata": {},
   "outputs": [
    {
     "data": {
      "text/plain": [
       "[<table class=\"amedas-point-detail-entries-table\" summary=\"のアメダス(2023年12月30日)\">\n",
       " <tr>\n",
       " <th class=\"headcell\">日最高<br/>気温(℃)</th>\n",
       " <th class=\"headcell\">日最低<br/>気温(℃)</th>\n",
       " <th class=\"headcell\">日積算<br/>降水量(mm)</th>\n",
       " <th class=\"headcell\">日最大<br/>風速(m/s)</th>\n",
       " <th class=\"headcell\">日積算<br/>日照時間(時)</th>\n",
       " </tr>\n",
       " <tr>\n",
       " <td>14.9 (13:30)</td>\n",
       " <td>2.2 (07:10)</td>\n",
       " <td>0.0</td>\n",
       " <td>2.9 (14:40)</td>\n",
       " <td>8.9</td>\n",
       " </tr>\n",
       " </table>]"
      ]
     },
     "execution_count": 185,
     "metadata": {},
     "output_type": "execute_result"
    }
   ],
   "source": [
    "# tableタグの'amedas-point-detail-entries-table'クラスの内容を探し出す\n",
    "lll_bs = l_bs.find_all('table', class_='amedas-point-detail-entries-table')\n",
    "\n",
    "# 内容表示\n",
    "lll_bs"
   ]
  },
  {
   "cell_type": "code",
   "execution_count": 186,
   "metadata": {},
   "outputs": [
    {
     "data": {
      "text/plain": [
       "['4.1',\n",
       " '6.3',\n",
       " '9.2',\n",
       " '9.2',\n",
       " '8.9',\n",
       " '4.5',\n",
       " '9.1',\n",
       " '9.1',\n",
       " '5.7',\n",
       " '8.5',\n",
       " '2.9\\xa0(15:20)',\n",
       " '9.1',\n",
       " '14.9\\xa0(13:30)',\n",
       " '2.2\\xa0(07:10)',\n",
       " '0.0',\n",
       " '2.9\\xa0(14:40)',\n",
       " '8.9']"
      ]
     },
     "execution_count": 186,
     "metadata": {},
     "output_type": "execute_result"
    }
   ],
   "source": [
    "# tdタグを取り出す\n",
    "for l_td in lll_bs[0].select('td'):\n",
    "\n",
    "    # テキストデータのみ抽出\n",
    "    ll_td = l_td.text.strip()\n",
    "    \n",
    "    # リストに格納\n",
    "    wet_td.append(ll_td)\n",
    "\n",
    "# 内容表示\n",
    "wet_td"
   ]
  },
  {
   "cell_type": "code",
   "execution_count": 187,
   "metadata": {},
   "outputs": [
    {
     "data": {
      "text/plain": [
       "['4.1',\n",
       " '6.3',\n",
       " '9.2',\n",
       " '9.2',\n",
       " '8.9',\n",
       " '4.5',\n",
       " '9.1',\n",
       " '9.1',\n",
       " '5.7',\n",
       " '8.5',\n",
       " '9.1',\n",
       " '2.9\\xa0(14:40)',\n",
       " '8.9']"
      ]
     },
     "execution_count": 187,
     "metadata": {},
     "output_type": "execute_result"
    }
   ],
   "source": [
    "# 不要なデータを削除\n",
    "del wet_td[10]\n",
    "del wet_td[11:14]\n",
    "\n",
    "# 内容表示\n",
    "wet_td"
   ]
  },
  {
   "cell_type": "markdown",
   "metadata": {},
   "source": [
    "#### 2023/12/31"
   ]
  },
  {
   "cell_type": "code",
   "execution_count": 188,
   "metadata": {},
   "outputs": [],
   "source": [
    "# アクセスしたいサイトのURLを変数に格納\n",
    "url_m = 'https://tenki.jp/past/2023/12/31/amedas/3/17/46091.html'\n",
    "\n",
    "# HTMLを取得し表示\n",
    "time.sleep(1)\n",
    "m = requests.get (url_m)\n",
    "m.encording = m.apparent_encoding"
   ]
  },
  {
   "cell_type": "code",
   "execution_count": 189,
   "metadata": {},
   "outputs": [
    {
     "name": "stdout",
     "output_type": "stream",
     "text": [
      "<class 'bs4.BeautifulSoup'>\n"
     ]
    }
   ],
   "source": [
    "# HTMLソースをBeautifulSoupオブジェクトに変換する\n",
    "m_bs = BeautifulSoup(m.content, 'html.parser') \n",
    "\n",
    "# オブジェクトの表示\n",
    "print(type(m_bs))"
   ]
  },
  {
   "cell_type": "code",
   "execution_count": 190,
   "metadata": {},
   "outputs": [
    {
     "data": {
      "text/plain": [
       "[<table class=\"amedas-point-detail-entries-table\" summary=\"のアメダス(2023年12月31日)\">\n",
       " <tr>\n",
       " <th class=\"headcell\">日最高<br/>気温(℃)</th>\n",
       " <th class=\"headcell\">日最低<br/>気温(℃)</th>\n",
       " <th class=\"headcell\">日積算<br/>降水量(mm)</th>\n",
       " <th class=\"headcell\">日最大<br/>風速(m/s)</th>\n",
       " <th class=\"headcell\">日積算<br/>日照時間(時)</th>\n",
       " </tr>\n",
       " <tr>\n",
       " <td>12.7 (14:30)</td>\n",
       " <td>5.8 (05:40)</td>\n",
       " <td>4.0</td>\n",
       " <td>3.5 (11:40)</td>\n",
       " <td>2.9</td>\n",
       " </tr>\n",
       " </table>]"
      ]
     },
     "execution_count": 190,
     "metadata": {},
     "output_type": "execute_result"
    }
   ],
   "source": [
    "# tableタグの'amedas-point-detail-entries-table'クラスの内容を探し出す\n",
    "mmm_bs = m_bs.find_all('table', class_='amedas-point-detail-entries-table')\n",
    "\n",
    "# 内容表示\n",
    "mmm_bs"
   ]
  },
  {
   "cell_type": "code",
   "execution_count": 191,
   "metadata": {},
   "outputs": [
    {
     "data": {
      "text/plain": [
       "['4.1',\n",
       " '6.3',\n",
       " '9.2',\n",
       " '9.2',\n",
       " '8.9',\n",
       " '4.5',\n",
       " '9.1',\n",
       " '9.1',\n",
       " '5.7',\n",
       " '8.5',\n",
       " '9.1',\n",
       " '2.9\\xa0(14:40)',\n",
       " '8.9',\n",
       " '12.7\\xa0(14:30)',\n",
       " '5.8\\xa0(05:40)',\n",
       " '4.0',\n",
       " '3.5\\xa0(11:40)',\n",
       " '2.9']"
      ]
     },
     "execution_count": 191,
     "metadata": {},
     "output_type": "execute_result"
    }
   ],
   "source": [
    "# tdタグを取り出す\n",
    "for m_td in mmm_bs[0].select('td'):\n",
    "\n",
    "    # テキストデータのみ抽出\n",
    "    mm_td = m_td.text.strip()\n",
    "    \n",
    "    # リストに格納\n",
    "    wet_td.append(mm_td)\n",
    "\n",
    "# 内容表示\n",
    "wet_td"
   ]
  },
  {
   "cell_type": "code",
   "execution_count": 192,
   "metadata": {},
   "outputs": [
    {
     "data": {
      "text/plain": [
       "['4.1',\n",
       " '6.3',\n",
       " '9.2',\n",
       " '9.2',\n",
       " '8.9',\n",
       " '4.5',\n",
       " '9.1',\n",
       " '9.1',\n",
       " '5.7',\n",
       " '8.5',\n",
       " '9.1',\n",
       " '8.9',\n",
       " '3.5\\xa0(11:40)',\n",
       " '2.9']"
      ]
     },
     "execution_count": 192,
     "metadata": {},
     "output_type": "execute_result"
    }
   ],
   "source": [
    "# 不要なデータを削除\n",
    "del wet_td[11]\n",
    "del wet_td[12:15]\n",
    "\n",
    "# 内容表示\n",
    "wet_td"
   ]
  },
  {
   "cell_type": "markdown",
   "metadata": {},
   "source": [
    "#### 2024/01/01"
   ]
  },
  {
   "cell_type": "code",
   "execution_count": 193,
   "metadata": {},
   "outputs": [],
   "source": [
    "# アクセスしたいサイトのURLを変数に格納\n",
    "url_n = 'https://tenki.jp/past/2024/01/01/amedas/3/17/46091.html'\n",
    "\n",
    "# HTMLを取得し表示\n",
    "time.sleep(1)\n",
    "n = requests.get (url_n)\n",
    "n.encording = n.apparent_encoding"
   ]
  },
  {
   "cell_type": "code",
   "execution_count": 194,
   "metadata": {},
   "outputs": [
    {
     "name": "stdout",
     "output_type": "stream",
     "text": [
      "<class 'bs4.BeautifulSoup'>\n"
     ]
    }
   ],
   "source": [
    "# HTMLソースをBeautifulSoupオブジェクトに変換する\n",
    "n_bs = BeautifulSoup(n.content, 'html.parser') \n",
    "\n",
    "# オブジェクトの表示\n",
    "print(type(n_bs))"
   ]
  },
  {
   "cell_type": "code",
   "execution_count": 195,
   "metadata": {},
   "outputs": [
    {
     "data": {
      "text/plain": [
       "[<table class=\"amedas-point-detail-entries-table\" summary=\"のアメダス(2024年01月01日)\">\n",
       " <tr>\n",
       " <th class=\"headcell\">日最高<br/>気温(℃)</th>\n",
       " <th class=\"headcell\">日最低<br/>気温(℃)</th>\n",
       " <th class=\"headcell\">日積算<br/>降水量(mm)</th>\n",
       " <th class=\"headcell\">日最大<br/>風速(m/s)</th>\n",
       " <th class=\"headcell\">日積算<br/>日照時間(時)</th>\n",
       " </tr>\n",
       " <tr>\n",
       " <td>12.9 (12:10)</td>\n",
       " <td>3.1 (23:10)</td>\n",
       " <td>0.0</td>\n",
       " <td>5.9 (10:00)</td>\n",
       " <td>9.2</td>\n",
       " </tr>\n",
       " </table>]"
      ]
     },
     "execution_count": 195,
     "metadata": {},
     "output_type": "execute_result"
    }
   ],
   "source": [
    "# tableタグの'amedas-point-detail-entries-table'クラスの内容を探し出す\n",
    "nnn_bs = n_bs.find_all('table', class_='amedas-point-detail-entries-table')\n",
    "\n",
    "# 内容表示\n",
    "nnn_bs"
   ]
  },
  {
   "cell_type": "code",
   "execution_count": 196,
   "metadata": {},
   "outputs": [
    {
     "data": {
      "text/plain": [
       "['4.1',\n",
       " '6.3',\n",
       " '9.2',\n",
       " '9.2',\n",
       " '8.9',\n",
       " '4.5',\n",
       " '9.1',\n",
       " '9.1',\n",
       " '5.7',\n",
       " '8.5',\n",
       " '9.1',\n",
       " '8.9',\n",
       " '3.5\\xa0(11:40)',\n",
       " '2.9',\n",
       " '12.9\\xa0(12:10)',\n",
       " '3.1\\xa0(23:10)',\n",
       " '0.0',\n",
       " '5.9\\xa0(10:00)',\n",
       " '9.2']"
      ]
     },
     "execution_count": 196,
     "metadata": {},
     "output_type": "execute_result"
    }
   ],
   "source": [
    "# tdタグを取り出す\n",
    "for n_td in nnn_bs[0].select('td'):\n",
    "\n",
    "    # テキストデータのみ抽出\n",
    "    nn_td = n_td.text.strip()\n",
    "    \n",
    "    # リストに格納\n",
    "    wet_td.append(nn_td)\n",
    "\n",
    "# 内容表示\n",
    "wet_td"
   ]
  },
  {
   "cell_type": "code",
   "execution_count": 197,
   "metadata": {},
   "outputs": [
    {
     "data": {
      "text/plain": [
       "['4.1',\n",
       " '6.3',\n",
       " '9.2',\n",
       " '9.2',\n",
       " '8.9',\n",
       " '4.5',\n",
       " '9.1',\n",
       " '9.1',\n",
       " '5.7',\n",
       " '8.5',\n",
       " '9.1',\n",
       " '8.9',\n",
       " '2.9',\n",
       " '5.9\\xa0(10:00)',\n",
       " '9.2']"
      ]
     },
     "execution_count": 197,
     "metadata": {},
     "output_type": "execute_result"
    }
   ],
   "source": [
    "# 不要なデータを削除\n",
    "del wet_td[12]\n",
    "del wet_td[13:16]\n",
    "\n",
    "# 内容表示\n",
    "wet_td"
   ]
  },
  {
   "cell_type": "markdown",
   "metadata": {},
   "source": [
    "#### 2024/01/02"
   ]
  },
  {
   "cell_type": "code",
   "execution_count": 198,
   "metadata": {},
   "outputs": [],
   "source": [
    "# アクセスしたいサイトのURLを変数に格納\n",
    "url_o = 'https://tenki.jp/past/2024/01/02/amedas/3/17/46091.html'\n",
    "\n",
    "# HTMLを取得し表示\n",
    "time.sleep(1)\n",
    "o = requests.get (url_o)\n",
    "o.encording = o.apparent_encoding"
   ]
  },
  {
   "cell_type": "code",
   "execution_count": 199,
   "metadata": {},
   "outputs": [
    {
     "name": "stdout",
     "output_type": "stream",
     "text": [
      "<class 'bs4.BeautifulSoup'>\n"
     ]
    }
   ],
   "source": [
    "# HTMLソースをBeautifulSoupオブジェクトに変換する\n",
    "o_bs = BeautifulSoup(o.content, 'html.parser') \n",
    "\n",
    "# オブジェクトの表示\n",
    "print(type(o_bs))"
   ]
  },
  {
   "cell_type": "code",
   "execution_count": 200,
   "metadata": {},
   "outputs": [
    {
     "data": {
      "text/plain": [
       "[<table class=\"amedas-point-detail-entries-table\" summary=\"のアメダス(2024年01月02日)\">\n",
       " <tr>\n",
       " <th class=\"headcell\">日最高<br/>気温(℃)</th>\n",
       " <th class=\"headcell\">日最低<br/>気温(℃)</th>\n",
       " <th class=\"headcell\">日積算<br/>降水量(mm)</th>\n",
       " <th class=\"headcell\">日最大<br/>風速(m/s)</th>\n",
       " <th class=\"headcell\">日積算<br/>日照時間(時)</th>\n",
       " </tr>\n",
       " <tr>\n",
       " <td>7.7 (10:00)</td>\n",
       " <td>2.6 (01:10)</td>\n",
       " <td>1.5</td>\n",
       " <td>2.8 (23:50)</td>\n",
       " <td>0.4</td>\n",
       " </tr>\n",
       " </table>]"
      ]
     },
     "execution_count": 200,
     "metadata": {},
     "output_type": "execute_result"
    }
   ],
   "source": [
    "# tableタグの'amedas-point-detail-entries-table'クラスの内容を探し出す\n",
    "ooo_bs = o_bs.find_all('table', class_='amedas-point-detail-entries-table')\n",
    "\n",
    "# 内容表示\n",
    "ooo_bs"
   ]
  },
  {
   "cell_type": "code",
   "execution_count": 201,
   "metadata": {},
   "outputs": [
    {
     "data": {
      "text/plain": [
       "['4.1',\n",
       " '6.3',\n",
       " '9.2',\n",
       " '9.2',\n",
       " '8.9',\n",
       " '4.5',\n",
       " '9.1',\n",
       " '9.1',\n",
       " '5.7',\n",
       " '8.5',\n",
       " '9.1',\n",
       " '8.9',\n",
       " '2.9',\n",
       " '5.9\\xa0(10:00)',\n",
       " '9.2',\n",
       " '7.7\\xa0(10:00)',\n",
       " '2.6\\xa0(01:10)',\n",
       " '1.5',\n",
       " '2.8\\xa0(23:50)',\n",
       " '0.4']"
      ]
     },
     "execution_count": 201,
     "metadata": {},
     "output_type": "execute_result"
    }
   ],
   "source": [
    "# tdタグを取り出す\n",
    "for o_td in ooo_bs[0].select('td'):\n",
    "\n",
    "    # テキストデータのみ抽出\n",
    "    oo_td = o_td.text.strip()\n",
    "    \n",
    "    # リストに格納\n",
    "    wet_td.append(oo_td)\n",
    "\n",
    "# 内容表示\n",
    "wet_td"
   ]
  },
  {
   "cell_type": "code",
   "execution_count": 202,
   "metadata": {},
   "outputs": [
    {
     "data": {
      "text/plain": [
       "['4.1',\n",
       " '6.3',\n",
       " '9.2',\n",
       " '9.2',\n",
       " '8.9',\n",
       " '4.5',\n",
       " '9.1',\n",
       " '9.1',\n",
       " '5.7',\n",
       " '8.5',\n",
       " '9.1',\n",
       " '8.9',\n",
       " '2.9',\n",
       " '9.2',\n",
       " '2.8\\xa0(23:50)',\n",
       " '0.4']"
      ]
     },
     "execution_count": 202,
     "metadata": {},
     "output_type": "execute_result"
    }
   ],
   "source": [
    "# 不要なデータを削除\n",
    "del wet_td[13]\n",
    "del wet_td[14:17]\n",
    "\n",
    "# 内容表示\n",
    "wet_td"
   ]
  },
  {
   "cell_type": "markdown",
   "metadata": {},
   "source": [
    "#### 2024/01/03"
   ]
  },
  {
   "cell_type": "code",
   "execution_count": 203,
   "metadata": {},
   "outputs": [],
   "source": [
    "# アクセスしたいサイトのURLを変数に格納\n",
    "url_p = 'https://tenki.jp/past/2024/01/03/amedas/3/17/46091.html'\n",
    "\n",
    "# HTMLを取得し表示\n",
    "time.sleep(1)\n",
    "p = requests.get (url_p)\n",
    "p.encording = p.apparent_encoding"
   ]
  },
  {
   "cell_type": "code",
   "execution_count": 204,
   "metadata": {},
   "outputs": [
    {
     "name": "stdout",
     "output_type": "stream",
     "text": [
      "<class 'bs4.BeautifulSoup'>\n"
     ]
    }
   ],
   "source": [
    "# HTMLソースをBeautifulSoupオブジェクトに変換する\n",
    "p_bs = BeautifulSoup(p.content, 'html.parser') \n",
    "\n",
    "# オブジェクトの表示\n",
    "print(type(p_bs))"
   ]
  },
  {
   "cell_type": "code",
   "execution_count": 205,
   "metadata": {},
   "outputs": [
    {
     "data": {
      "text/plain": [
       "[<table class=\"amedas-point-detail-entries-table\" summary=\"のアメダス(2024年01月03日)\">\n",
       " <tr>\n",
       " <th class=\"headcell\">日最高<br/>気温(℃)</th>\n",
       " <th class=\"headcell\">日最低<br/>気温(℃)</th>\n",
       " <th class=\"headcell\">日積算<br/>降水量(mm)</th>\n",
       " <th class=\"headcell\">日最大<br/>風速(m/s)</th>\n",
       " <th class=\"headcell\">日積算<br/>日照時間(時)</th>\n",
       " </tr>\n",
       " <tr>\n",
       " <td>13.3 (13:20)</td>\n",
       " <td>1.0 (05:10)</td>\n",
       " <td>0.0</td>\n",
       " <td>2.0 (15:30)</td>\n",
       " <td>0.8</td>\n",
       " </tr>\n",
       " </table>]"
      ]
     },
     "execution_count": 205,
     "metadata": {},
     "output_type": "execute_result"
    }
   ],
   "source": [
    "# tableタグの'amedas-point-detail-entries-table'クラスの内容を探し出す\n",
    "ppp_bs = p_bs.find_all('table', class_='amedas-point-detail-entries-table')\n",
    "\n",
    "# 内容表示\n",
    "ppp_bs"
   ]
  },
  {
   "cell_type": "code",
   "execution_count": 206,
   "metadata": {},
   "outputs": [
    {
     "data": {
      "text/plain": [
       "['4.1',\n",
       " '6.3',\n",
       " '9.2',\n",
       " '9.2',\n",
       " '8.9',\n",
       " '4.5',\n",
       " '9.1',\n",
       " '9.1',\n",
       " '5.7',\n",
       " '8.5',\n",
       " '9.1',\n",
       " '8.9',\n",
       " '2.9',\n",
       " '9.2',\n",
       " '2.8\\xa0(23:50)',\n",
       " '0.4',\n",
       " '13.3\\xa0(13:20)',\n",
       " '1.0\\xa0(05:10)',\n",
       " '0.0',\n",
       " '2.0\\xa0(15:30)',\n",
       " '0.8']"
      ]
     },
     "execution_count": 206,
     "metadata": {},
     "output_type": "execute_result"
    }
   ],
   "source": [
    "# tdタグを取り出す\n",
    "for p_td in ppp_bs[0].select('td'):\n",
    "\n",
    "    # テキストデータのみ抽出\n",
    "    pp_td = p_td.text.strip()\n",
    "    \n",
    "    # リストに格納\n",
    "    wet_td.append(pp_td)\n",
    "\n",
    "# 内容表示\n",
    "wet_td"
   ]
  },
  {
   "cell_type": "code",
   "execution_count": 207,
   "metadata": {},
   "outputs": [
    {
     "data": {
      "text/plain": [
       "['4.1',\n",
       " '6.3',\n",
       " '9.2',\n",
       " '9.2',\n",
       " '8.9',\n",
       " '4.5',\n",
       " '9.1',\n",
       " '9.1',\n",
       " '5.7',\n",
       " '8.5',\n",
       " '9.1',\n",
       " '8.9',\n",
       " '2.9',\n",
       " '9.2',\n",
       " '0.4',\n",
       " '2.0\\xa0(15:30)',\n",
       " '0.8']"
      ]
     },
     "execution_count": 207,
     "metadata": {},
     "output_type": "execute_result"
    }
   ],
   "source": [
    "# 不要なデータを削除\n",
    "del wet_td[14]\n",
    "del wet_td[15:18]\n",
    "\n",
    "# 内容表示\n",
    "wet_td"
   ]
  },
  {
   "cell_type": "markdown",
   "metadata": {},
   "source": [
    "#### 2024/01/04"
   ]
  },
  {
   "cell_type": "code",
   "execution_count": 208,
   "metadata": {},
   "outputs": [],
   "source": [
    "# アクセスしたいサイトのURLを変数に格納\n",
    "url_q = 'https://tenki.jp/past/2024/01/04/amedas/3/17/46091.html'\n",
    "\n",
    "# HTMLを取得し表示\n",
    "time.sleep(1)\n",
    "q = requests.get (url_q)\n",
    "q.encording = q.apparent_encoding"
   ]
  },
  {
   "cell_type": "code",
   "execution_count": 209,
   "metadata": {},
   "outputs": [
    {
     "name": "stdout",
     "output_type": "stream",
     "text": [
      "<class 'bs4.BeautifulSoup'>\n"
     ]
    }
   ],
   "source": [
    "# HTMLソースをBeautifulSoupオブジェクトに変換する\n",
    "q_bs = BeautifulSoup(q.content, 'html.parser') \n",
    "\n",
    "# オブジェクトの表示\n",
    "print(type(q_bs))"
   ]
  },
  {
   "cell_type": "code",
   "execution_count": 210,
   "metadata": {},
   "outputs": [
    {
     "data": {
      "text/plain": [
       "[<table class=\"amedas-point-detail-entries-table\" summary=\"のアメダス(2024年01月04日)\">\n",
       " <tr>\n",
       " <th class=\"headcell\">日最高<br/>気温(℃)</th>\n",
       " <th class=\"headcell\">日最低<br/>気温(℃)</th>\n",
       " <th class=\"headcell\">日積算<br/>降水量(mm)</th>\n",
       " <th class=\"headcell\">日最大<br/>風速(m/s)</th>\n",
       " <th class=\"headcell\">日積算<br/>日照時間(時)</th>\n",
       " </tr>\n",
       " <tr>\n",
       " <td>15.6 (13:30)</td>\n",
       " <td>2.3 (23:50)</td>\n",
       " <td>0.0</td>\n",
       " <td>6.0 (14:50)</td>\n",
       " <td>7.2</td>\n",
       " </tr>\n",
       " </table>]"
      ]
     },
     "execution_count": 210,
     "metadata": {},
     "output_type": "execute_result"
    }
   ],
   "source": [
    "# tableタグの'amedas-point-detail-entries-table'クラスの内容を探し出す\n",
    "qqq_bs = q_bs.find_all('table', class_='amedas-point-detail-entries-table')\n",
    "\n",
    "# 内容表示\n",
    "qqq_bs"
   ]
  },
  {
   "cell_type": "code",
   "execution_count": 211,
   "metadata": {},
   "outputs": [
    {
     "data": {
      "text/plain": [
       "['4.1',\n",
       " '6.3',\n",
       " '9.2',\n",
       " '9.2',\n",
       " '8.9',\n",
       " '4.5',\n",
       " '9.1',\n",
       " '9.1',\n",
       " '5.7',\n",
       " '8.5',\n",
       " '9.1',\n",
       " '8.9',\n",
       " '2.9',\n",
       " '9.2',\n",
       " '0.4',\n",
       " '2.0\\xa0(15:30)',\n",
       " '0.8',\n",
       " '15.6\\xa0(13:30)',\n",
       " '2.3\\xa0(23:50)',\n",
       " '0.0',\n",
       " '6.0\\xa0(14:50)',\n",
       " '7.2']"
      ]
     },
     "execution_count": 211,
     "metadata": {},
     "output_type": "execute_result"
    }
   ],
   "source": [
    "# tdタグを取り出す\n",
    "for q_td in qqq_bs[0].select('td'):\n",
    "\n",
    "    # テキストデータのみ抽出\n",
    "    qq_td = q_td.text.strip()\n",
    "    \n",
    "    # リストに格納\n",
    "    wet_td.append(qq_td)\n",
    "\n",
    "# 内容表示\n",
    "wet_td"
   ]
  },
  {
   "cell_type": "code",
   "execution_count": 212,
   "metadata": {},
   "outputs": [
    {
     "data": {
      "text/plain": [
       "['4.1',\n",
       " '6.3',\n",
       " '9.2',\n",
       " '9.2',\n",
       " '8.9',\n",
       " '4.5',\n",
       " '9.1',\n",
       " '9.1',\n",
       " '5.7',\n",
       " '8.5',\n",
       " '9.1',\n",
       " '8.9',\n",
       " '2.9',\n",
       " '9.2',\n",
       " '0.4',\n",
       " '0.8',\n",
       " '6.0\\xa0(14:50)',\n",
       " '7.2']"
      ]
     },
     "execution_count": 212,
     "metadata": {},
     "output_type": "execute_result"
    }
   ],
   "source": [
    "# 不要なデータを削除\n",
    "del wet_td[15]\n",
    "del wet_td[16:19]\n",
    "\n",
    "# 内容表示\n",
    "wet_td"
   ]
  },
  {
   "cell_type": "markdown",
   "metadata": {},
   "source": [
    "#### 2024/01/05"
   ]
  },
  {
   "cell_type": "code",
   "execution_count": 213,
   "metadata": {},
   "outputs": [],
   "source": [
    "# アクセスしたいサイトのURLを変数に格納\n",
    "url_r = 'https://tenki.jp/past/2024/01/05/amedas/3/17/46091.html'\n",
    "\n",
    "# HTMLを取得し表示\n",
    "time.sleep(1)\n",
    "r = requests.get (url_r)\n",
    "r.encording = r.apparent_encoding"
   ]
  },
  {
   "cell_type": "code",
   "execution_count": 214,
   "metadata": {},
   "outputs": [
    {
     "name": "stdout",
     "output_type": "stream",
     "text": [
      "<class 'bs4.BeautifulSoup'>\n"
     ]
    }
   ],
   "source": [
    "# HTMLソースをBeautifulSoupオブジェクトに変換する\n",
    "r_bs = BeautifulSoup(r.content, 'html.parser') \n",
    "\n",
    "# オブジェクトの表示\n",
    "print(type(r_bs))"
   ]
  },
  {
   "cell_type": "code",
   "execution_count": 215,
   "metadata": {},
   "outputs": [
    {
     "data": {
      "text/plain": [
       "[<table class=\"amedas-point-detail-entries-table\" summary=\"のアメダス(2024年01月05日)\">\n",
       " <tr>\n",
       " <th class=\"headcell\">日最高<br/>気温(℃)</th>\n",
       " <th class=\"headcell\">日最低<br/>気温(℃)</th>\n",
       " <th class=\"headcell\">日積算<br/>降水量(mm)</th>\n",
       " <th class=\"headcell\">日最大<br/>風速(m/s)</th>\n",
       " <th class=\"headcell\">日積算<br/>日照時間(時)</th>\n",
       " </tr>\n",
       " <tr>\n",
       " <td>15.3 (15:00)</td>\n",
       " <td>0.2 (05:10)</td>\n",
       " <td>0.0</td>\n",
       " <td>4.5 (16:20)</td>\n",
       " <td>8.8</td>\n",
       " </tr>\n",
       " </table>]"
      ]
     },
     "execution_count": 215,
     "metadata": {},
     "output_type": "execute_result"
    }
   ],
   "source": [
    "# tableタグの'amedas-point-detail-entries-table'クラスの内容を探し出す\n",
    "rrr_bs = r_bs.find_all('table', class_='amedas-point-detail-entries-table')\n",
    "\n",
    "# 内容表示\n",
    "rrr_bs"
   ]
  },
  {
   "cell_type": "code",
   "execution_count": 216,
   "metadata": {},
   "outputs": [
    {
     "data": {
      "text/plain": [
       "['4.1',\n",
       " '6.3',\n",
       " '9.2',\n",
       " '9.2',\n",
       " '8.9',\n",
       " '4.5',\n",
       " '9.1',\n",
       " '9.1',\n",
       " '5.7',\n",
       " '8.5',\n",
       " '9.1',\n",
       " '8.9',\n",
       " '2.9',\n",
       " '9.2',\n",
       " '0.4',\n",
       " '0.8',\n",
       " '6.0\\xa0(14:50)',\n",
       " '7.2',\n",
       " '15.3\\xa0(15:00)',\n",
       " '0.2\\xa0(05:10)',\n",
       " '0.0',\n",
       " '4.5\\xa0(16:20)',\n",
       " '8.8']"
      ]
     },
     "execution_count": 216,
     "metadata": {},
     "output_type": "execute_result"
    }
   ],
   "source": [
    "# tdタグを取り出す\n",
    "for r_td in rrr_bs[0].select('td'):\n",
    "\n",
    "    # テキストデータのみ抽出\n",
    "    rr_td = r_td.text.strip()\n",
    "    \n",
    "    # リストに格納\n",
    "    wet_td.append(rr_td)\n",
    "\n",
    "# 内容表示\n",
    "wet_td"
   ]
  },
  {
   "cell_type": "code",
   "execution_count": 217,
   "metadata": {},
   "outputs": [
    {
     "data": {
      "text/plain": [
       "['4.1',\n",
       " '6.3',\n",
       " '9.2',\n",
       " '9.2',\n",
       " '8.9',\n",
       " '4.5',\n",
       " '9.1',\n",
       " '9.1',\n",
       " '5.7',\n",
       " '8.5',\n",
       " '9.1',\n",
       " '8.9',\n",
       " '2.9',\n",
       " '9.2',\n",
       " '0.4',\n",
       " '0.8',\n",
       " '7.2',\n",
       " '4.5\\xa0(16:20)',\n",
       " '8.8']"
      ]
     },
     "execution_count": 217,
     "metadata": {},
     "output_type": "execute_result"
    }
   ],
   "source": [
    "# 不要なデータを削除\n",
    "del wet_td[16]\n",
    "del wet_td[17:20]\n",
    "\n",
    "# 内容表示\n",
    "wet_td"
   ]
  },
  {
   "cell_type": "markdown",
   "metadata": {},
   "source": [
    "#### 2024/01/06"
   ]
  },
  {
   "cell_type": "code",
   "execution_count": 218,
   "metadata": {},
   "outputs": [],
   "source": [
    "# アクセスしたいサイトのURLを変数に格納\n",
    "url_s = 'https://tenki.jp/past/2024/01/06/amedas/3/17/46091.html'\n",
    "\n",
    "# HTMLを取得し表示\n",
    "time.sleep(1)\n",
    "s = requests.get (url_s)\n",
    "s.encording = s.apparent_encoding"
   ]
  },
  {
   "cell_type": "code",
   "execution_count": 219,
   "metadata": {},
   "outputs": [
    {
     "name": "stdout",
     "output_type": "stream",
     "text": [
      "<class 'bs4.BeautifulSoup'>\n"
     ]
    }
   ],
   "source": [
    "# HTMLソースをBeautifulSoupオブジェクトに変換する\n",
    "s_bs = BeautifulSoup(s.content, 'html.parser') \n",
    "\n",
    "# オブジェクトの表示\n",
    "print(type(s_bs))"
   ]
  },
  {
   "cell_type": "code",
   "execution_count": 220,
   "metadata": {},
   "outputs": [
    {
     "data": {
      "text/plain": [
       "[<table class=\"amedas-point-detail-entries-table\" summary=\"のアメダス(2024年01月06日)\">\n",
       " <tr>\n",
       " <th class=\"headcell\">日最高<br/>気温(℃)</th>\n",
       " <th class=\"headcell\">日最低<br/>気温(℃)</th>\n",
       " <th class=\"headcell\">日積算<br/>降水量(mm)</th>\n",
       " <th class=\"headcell\">日最大<br/>風速(m/s)</th>\n",
       " <th class=\"headcell\">日積算<br/>日照時間(時)</th>\n",
       " </tr>\n",
       " <tr>\n",
       " <td>18.3 (14:10)</td>\n",
       " <td>-0.7 (05:50)</td>\n",
       " <td>0.0</td>\n",
       " <td>3.1 (15:30)</td>\n",
       " <td>9.2</td>\n",
       " </tr>\n",
       " </table>]"
      ]
     },
     "execution_count": 220,
     "metadata": {},
     "output_type": "execute_result"
    }
   ],
   "source": [
    "# tableタグの'amedas-point-detail-entries-table'クラスの内容を探し出す\n",
    "sss_bs = s_bs.find_all('table', class_='amedas-point-detail-entries-table')\n",
    "\n",
    "# 内容表示\n",
    "sss_bs"
   ]
  },
  {
   "cell_type": "code",
   "execution_count": 221,
   "metadata": {},
   "outputs": [
    {
     "data": {
      "text/plain": [
       "['4.1',\n",
       " '6.3',\n",
       " '9.2',\n",
       " '9.2',\n",
       " '8.9',\n",
       " '4.5',\n",
       " '9.1',\n",
       " '9.1',\n",
       " '5.7',\n",
       " '8.5',\n",
       " '9.1',\n",
       " '8.9',\n",
       " '2.9',\n",
       " '9.2',\n",
       " '0.4',\n",
       " '0.8',\n",
       " '7.2',\n",
       " '4.5\\xa0(16:20)',\n",
       " '8.8',\n",
       " '18.3\\xa0(14:10)',\n",
       " '-0.7\\xa0(05:50)',\n",
       " '0.0',\n",
       " '3.1\\xa0(15:30)',\n",
       " '9.2']"
      ]
     },
     "execution_count": 221,
     "metadata": {},
     "output_type": "execute_result"
    }
   ],
   "source": [
    "# tdタグを取り出す\n",
    "for s_td in sss_bs[0].select('td'):\n",
    "\n",
    "    # テキストデータのみ抽出\n",
    "    ss_td = s_td.text.strip()\n",
    "    \n",
    "    # リストに格納\n",
    "    wet_td.append(ss_td)\n",
    "\n",
    "# 内容表示\n",
    "wet_td"
   ]
  },
  {
   "cell_type": "code",
   "execution_count": 222,
   "metadata": {},
   "outputs": [
    {
     "data": {
      "text/plain": [
       "['4.1',\n",
       " '6.3',\n",
       " '9.2',\n",
       " '9.2',\n",
       " '8.9',\n",
       " '4.5',\n",
       " '9.1',\n",
       " '9.1',\n",
       " '5.7',\n",
       " '8.5',\n",
       " '9.1',\n",
       " '8.9',\n",
       " '2.9',\n",
       " '9.2',\n",
       " '0.4',\n",
       " '0.8',\n",
       " '7.2',\n",
       " '8.8',\n",
       " '3.1\\xa0(15:30)',\n",
       " '9.2']"
      ]
     },
     "execution_count": 222,
     "metadata": {},
     "output_type": "execute_result"
    }
   ],
   "source": [
    "# 不要なデータを削除\n",
    "del wet_td[17]\n",
    "del wet_td[18:21]\n",
    "\n",
    "# 内容表示\n",
    "wet_td"
   ]
  },
  {
   "cell_type": "markdown",
   "metadata": {},
   "source": [
    "#### 2024/01/07"
   ]
  },
  {
   "cell_type": "code",
   "execution_count": 223,
   "metadata": {},
   "outputs": [],
   "source": [
    "# アクセスしたいサイトのURLを変数に格納\n",
    "url_t = 'https://tenki.jp/past/2024/01/07/amedas/3/17/46091.html'\n",
    "\n",
    "# HTMLを取得し表示\n",
    "time.sleep(1)\n",
    "t = requests.get (url_t)\n",
    "t.encording = t.apparent_encoding"
   ]
  },
  {
   "cell_type": "code",
   "execution_count": 224,
   "metadata": {},
   "outputs": [
    {
     "name": "stdout",
     "output_type": "stream",
     "text": [
      "<class 'bs4.BeautifulSoup'>\n"
     ]
    }
   ],
   "source": [
    "# HTMLソースをBeautifulSoupオブジェクトに変換する\n",
    "t_bs = BeautifulSoup(t.content, 'html.parser') \n",
    "\n",
    "# オブジェクトの表示\n",
    "print(type(t_bs))"
   ]
  },
  {
   "cell_type": "code",
   "execution_count": 225,
   "metadata": {},
   "outputs": [
    {
     "data": {
      "text/plain": [
       "[<table class=\"amedas-point-detail-entries-table\" summary=\"のアメダス(2024年01月07日)\">\n",
       " <tr>\n",
       " <th class=\"headcell\">日最高<br/>気温(℃)</th>\n",
       " <th class=\"headcell\">日最低<br/>気温(℃)</th>\n",
       " <th class=\"headcell\">日積算<br/>降水量(mm)</th>\n",
       " <th class=\"headcell\">日最大<br/>風速(m/s)</th>\n",
       " <th class=\"headcell\">日積算<br/>日照時間(時)</th>\n",
       " </tr>\n",
       " <tr>\n",
       " <td>11.4 (12:20)</td>\n",
       " <td>1.7 (23:00)</td>\n",
       " <td>0.0</td>\n",
       " <td>4.7 (10:00)</td>\n",
       " <td>4.8</td>\n",
       " </tr>\n",
       " </table>]"
      ]
     },
     "execution_count": 225,
     "metadata": {},
     "output_type": "execute_result"
    }
   ],
   "source": [
    "# tableタグの'amedas-point-detail-entries-table'クラスの内容を探し出す\n",
    "ttt_bs = t_bs.find_all('table', class_='amedas-point-detail-entries-table')\n",
    "\n",
    "# 内容表示\n",
    "ttt_bs"
   ]
  },
  {
   "cell_type": "code",
   "execution_count": 226,
   "metadata": {},
   "outputs": [
    {
     "data": {
      "text/plain": [
       "['4.1',\n",
       " '6.3',\n",
       " '9.2',\n",
       " '9.2',\n",
       " '8.9',\n",
       " '4.5',\n",
       " '9.1',\n",
       " '9.1',\n",
       " '5.7',\n",
       " '8.5',\n",
       " '9.1',\n",
       " '8.9',\n",
       " '2.9',\n",
       " '9.2',\n",
       " '0.4',\n",
       " '0.8',\n",
       " '7.2',\n",
       " '8.8',\n",
       " '3.1\\xa0(15:30)',\n",
       " '9.2',\n",
       " '11.4\\xa0(12:20)',\n",
       " '1.7\\xa0(23:00)',\n",
       " '0.0',\n",
       " '4.7\\xa0(10:00)',\n",
       " '4.8']"
      ]
     },
     "execution_count": 226,
     "metadata": {},
     "output_type": "execute_result"
    }
   ],
   "source": [
    "# tdタグを取り出す\n",
    "for t_td in ttt_bs[0].select('td'):\n",
    "\n",
    "    # テキストデータのみ抽出\n",
    "    tt_td = t_td.text.strip()\n",
    "    \n",
    "    # リストに格納\n",
    "    wet_td.append(tt_td)\n",
    "\n",
    "# 内容表示\n",
    "wet_td"
   ]
  },
  {
   "cell_type": "code",
   "execution_count": 227,
   "metadata": {},
   "outputs": [
    {
     "data": {
      "text/plain": [
       "['4.1',\n",
       " '6.3',\n",
       " '9.2',\n",
       " '9.2',\n",
       " '8.9',\n",
       " '4.5',\n",
       " '9.1',\n",
       " '9.1',\n",
       " '5.7',\n",
       " '8.5',\n",
       " '9.1',\n",
       " '8.9',\n",
       " '2.9',\n",
       " '9.2',\n",
       " '0.4',\n",
       " '0.8',\n",
       " '7.2',\n",
       " '8.8',\n",
       " '9.2',\n",
       " '4.7\\xa0(10:00)',\n",
       " '4.8']"
      ]
     },
     "execution_count": 227,
     "metadata": {},
     "output_type": "execute_result"
    }
   ],
   "source": [
    "# 不要なデータを削除\n",
    "del wet_td[18]\n",
    "del wet_td[19:22]\n",
    "\n",
    "# 内容表示\n",
    "wet_td"
   ]
  },
  {
   "cell_type": "markdown",
   "metadata": {},
   "source": [
    "#### 2024/01/08"
   ]
  },
  {
   "cell_type": "code",
   "execution_count": 228,
   "metadata": {},
   "outputs": [],
   "source": [
    "# アクセスしたいサイトのURLを変数に格納\n",
    "url_u = 'https://tenki.jp/past/2024/01/08/amedas/3/17/46091.html'\n",
    "\n",
    "# HTMLを取得し表示\n",
    "time.sleep(1)\n",
    "u = requests.get (url_u)\n",
    "u.encording = u.apparent_encoding"
   ]
  },
  {
   "cell_type": "code",
   "execution_count": 229,
   "metadata": {},
   "outputs": [
    {
     "name": "stdout",
     "output_type": "stream",
     "text": [
      "<class 'bs4.BeautifulSoup'>\n"
     ]
    }
   ],
   "source": [
    "# HTMLソースをBeautifulSoupオブジェクトに変換する\n",
    "u_bs = BeautifulSoup(u.content, 'html.parser') \n",
    "\n",
    "# オブジェクトの表示\n",
    "print(type(u_bs))"
   ]
  },
  {
   "cell_type": "code",
   "execution_count": 230,
   "metadata": {},
   "outputs": [
    {
     "data": {
      "text/plain": [
       "[<table class=\"amedas-point-detail-entries-table\" summary=\"のアメダス(2024年01月08日)\">\n",
       " <tr>\n",
       " <th class=\"headcell\">日最高<br/>気温(℃)</th>\n",
       " <th class=\"headcell\">日最低<br/>気温(℃)</th>\n",
       " <th class=\"headcell\">日積算<br/>降水量(mm)</th>\n",
       " <th class=\"headcell\">日最大<br/>風速(m/s)</th>\n",
       " <th class=\"headcell\">日積算<br/>日照時間(時)</th>\n",
       " </tr>\n",
       " <tr>\n",
       " <td>10.3 (13:00)</td>\n",
       " <td>0.1 (02:40)</td>\n",
       " <td>0.0</td>\n",
       " <td>3.8 (04:20)</td>\n",
       " <td>8.9</td>\n",
       " </tr>\n",
       " </table>]"
      ]
     },
     "execution_count": 230,
     "metadata": {},
     "output_type": "execute_result"
    }
   ],
   "source": [
    "# tableタグの'amedas-point-detail-entries-table'クラスの内容を探し出す\n",
    "uuu_bs = u_bs.find_all('table', class_='amedas-point-detail-entries-table')\n",
    "\n",
    "# 内容表示\n",
    "uuu_bs"
   ]
  },
  {
   "cell_type": "code",
   "execution_count": 231,
   "metadata": {},
   "outputs": [
    {
     "data": {
      "text/plain": [
       "['4.1',\n",
       " '6.3',\n",
       " '9.2',\n",
       " '9.2',\n",
       " '8.9',\n",
       " '4.5',\n",
       " '9.1',\n",
       " '9.1',\n",
       " '5.7',\n",
       " '8.5',\n",
       " '9.1',\n",
       " '8.9',\n",
       " '2.9',\n",
       " '9.2',\n",
       " '0.4',\n",
       " '0.8',\n",
       " '7.2',\n",
       " '8.8',\n",
       " '9.2',\n",
       " '4.7\\xa0(10:00)',\n",
       " '4.8',\n",
       " '10.3\\xa0(13:00)',\n",
       " '0.1\\xa0(02:40)',\n",
       " '0.0',\n",
       " '3.8\\xa0(04:20)',\n",
       " '8.9']"
      ]
     },
     "execution_count": 231,
     "metadata": {},
     "output_type": "execute_result"
    }
   ],
   "source": [
    "# tdタグを取り出す\n",
    "for u_td in uuu_bs[0].select('td'):\n",
    "\n",
    "    # テキストデータのみ抽出\n",
    "    uu_td = u_td.text.strip()\n",
    "    \n",
    "    # リストに格納\n",
    "    wet_td.append(uu_td)\n",
    "\n",
    "# 内容表示\n",
    "wet_td"
   ]
  },
  {
   "cell_type": "code",
   "execution_count": 232,
   "metadata": {},
   "outputs": [
    {
     "data": {
      "text/plain": [
       "['4.1',\n",
       " '6.3',\n",
       " '9.2',\n",
       " '9.2',\n",
       " '8.9',\n",
       " '4.5',\n",
       " '9.1',\n",
       " '9.1',\n",
       " '5.7',\n",
       " '8.5',\n",
       " '9.1',\n",
       " '8.9',\n",
       " '2.9',\n",
       " '9.2',\n",
       " '0.4',\n",
       " '0.8',\n",
       " '7.2',\n",
       " '8.8',\n",
       " '9.2',\n",
       " '4.8',\n",
       " '3.8\\xa0(04:20)',\n",
       " '8.9']"
      ]
     },
     "execution_count": 232,
     "metadata": {},
     "output_type": "execute_result"
    }
   ],
   "source": [
    "# 不要なデータを削除\n",
    "del wet_td[19]\n",
    "del wet_td[20:23]\n",
    "\n",
    "# 内容表示\n",
    "wet_td"
   ]
  },
  {
   "cell_type": "markdown",
   "metadata": {},
   "source": [
    "#### 2024/01/09"
   ]
  },
  {
   "cell_type": "code",
   "execution_count": 233,
   "metadata": {},
   "outputs": [],
   "source": [
    "# アクセスしたいサイトのURLを変数に格納\n",
    "url_v = 'https://tenki.jp/past/2024/01/09/amedas/3/17/46091.html'\n",
    "\n",
    "# HTMLを取得し表示\n",
    "time.sleep(1)\n",
    "v = requests.get (url_v)\n",
    "v.encording = v.apparent_encoding"
   ]
  },
  {
   "cell_type": "code",
   "execution_count": 234,
   "metadata": {},
   "outputs": [
    {
     "name": "stdout",
     "output_type": "stream",
     "text": [
      "<class 'bs4.BeautifulSoup'>\n"
     ]
    }
   ],
   "source": [
    "# HTMLソースをBeautifulSoupオブジェクトに変換する\n",
    "v_bs = BeautifulSoup(v.content, 'html.parser') \n",
    "\n",
    "# オブジェクトの表示\n",
    "print(type(v_bs))"
   ]
  },
  {
   "cell_type": "code",
   "execution_count": 235,
   "metadata": {},
   "outputs": [
    {
     "data": {
      "text/plain": [
       "[<table class=\"amedas-point-detail-entries-table\" summary=\"のアメダス(2024年01月09日)\">\n",
       " <tr>\n",
       " <th class=\"headcell\">日最高<br/>気温(℃)</th>\n",
       " <th class=\"headcell\">日最低<br/>気温(℃)</th>\n",
       " <th class=\"headcell\">日積算<br/>降水量(mm)</th>\n",
       " <th class=\"headcell\">日最大<br/>風速(m/s)</th>\n",
       " <th class=\"headcell\">日積算<br/>日照時間(時)</th>\n",
       " </tr>\n",
       " <tr>\n",
       " <td>12.5 (14:50)</td>\n",
       " <td>-0.6 (07:20)</td>\n",
       " <td>0.0</td>\n",
       " <td>4.7 (13:30)</td>\n",
       " <td>9.4</td>\n",
       " </tr>\n",
       " </table>]"
      ]
     },
     "execution_count": 235,
     "metadata": {},
     "output_type": "execute_result"
    }
   ],
   "source": [
    "# tableタグの'amedas-point-detail-entries-table'クラスの内容を探し出す\n",
    "vvv_bs = v_bs.find_all('table', class_='amedas-point-detail-entries-table')\n",
    "\n",
    "# 内容表示\n",
    "vvv_bs"
   ]
  },
  {
   "cell_type": "code",
   "execution_count": 236,
   "metadata": {},
   "outputs": [
    {
     "data": {
      "text/plain": [
       "['4.1',\n",
       " '6.3',\n",
       " '9.2',\n",
       " '9.2',\n",
       " '8.9',\n",
       " '4.5',\n",
       " '9.1',\n",
       " '9.1',\n",
       " '5.7',\n",
       " '8.5',\n",
       " '9.1',\n",
       " '8.9',\n",
       " '2.9',\n",
       " '9.2',\n",
       " '0.4',\n",
       " '0.8',\n",
       " '7.2',\n",
       " '8.8',\n",
       " '9.2',\n",
       " '4.8',\n",
       " '3.8\\xa0(04:20)',\n",
       " '8.9',\n",
       " '12.5\\xa0(14:50)',\n",
       " '-0.6\\xa0(07:20)',\n",
       " '0.0',\n",
       " '4.7\\xa0(13:30)',\n",
       " '9.4']"
      ]
     },
     "execution_count": 236,
     "metadata": {},
     "output_type": "execute_result"
    }
   ],
   "source": [
    "# tdタグを取り出す\n",
    "for v_td in vvv_bs[0].select('td'):\n",
    "\n",
    "    # テキストデータのみ抽出\n",
    "    vv_td = v_td.text.strip()\n",
    "    \n",
    "    # リストに格納\n",
    "    wet_td.append(vv_td)\n",
    "\n",
    "# 内容表示\n",
    "wet_td"
   ]
  },
  {
   "cell_type": "code",
   "execution_count": 237,
   "metadata": {},
   "outputs": [
    {
     "data": {
      "text/plain": [
       "['4.1',\n",
       " '6.3',\n",
       " '9.2',\n",
       " '9.2',\n",
       " '8.9',\n",
       " '4.5',\n",
       " '9.1',\n",
       " '9.1',\n",
       " '5.7',\n",
       " '8.5',\n",
       " '9.1',\n",
       " '8.9',\n",
       " '2.9',\n",
       " '9.2',\n",
       " '0.4',\n",
       " '0.8',\n",
       " '7.2',\n",
       " '8.8',\n",
       " '9.2',\n",
       " '4.8',\n",
       " '8.9',\n",
       " '4.7\\xa0(13:30)',\n",
       " '9.4']"
      ]
     },
     "execution_count": 237,
     "metadata": {},
     "output_type": "execute_result"
    }
   ],
   "source": [
    "# 不要なデータを削除\n",
    "del wet_td[20]\n",
    "del wet_td[21:24]\n",
    "\n",
    "# 内容表示\n",
    "wet_td"
   ]
  },
  {
   "cell_type": "markdown",
   "metadata": {},
   "source": [
    "#### 2024/01/10"
   ]
  },
  {
   "cell_type": "code",
   "execution_count": 238,
   "metadata": {},
   "outputs": [],
   "source": [
    "# アクセスしたいサイトのURLを変数に格納\n",
    "url_w = 'https://tenki.jp/past/2024/01/10/amedas/3/17/46091.html'\n",
    "\n",
    "# HTMLを取得し表示\n",
    "time.sleep(1)\n",
    "w = requests.get (url_w)\n",
    "w.encording = w.apparent_encoding"
   ]
  },
  {
   "cell_type": "code",
   "execution_count": 239,
   "metadata": {},
   "outputs": [
    {
     "name": "stdout",
     "output_type": "stream",
     "text": [
      "<class 'bs4.BeautifulSoup'>\n"
     ]
    }
   ],
   "source": [
    "# HTMLソースをBeautifulSoupオブジェクトに変換する\n",
    "w_bs = BeautifulSoup(w.content, 'html.parser') \n",
    "\n",
    "# オブジェクトの表示\n",
    "print(type(w_bs))"
   ]
  },
  {
   "cell_type": "code",
   "execution_count": 240,
   "metadata": {},
   "outputs": [
    {
     "data": {
      "text/plain": [
       "[<table class=\"amedas-point-detail-entries-table\" summary=\"のアメダス(2024年01月10日)\">\n",
       " <tr>\n",
       " <th class=\"headcell\">日最高<br/>気温(℃)</th>\n",
       " <th class=\"headcell\">日最低<br/>気温(℃)</th>\n",
       " <th class=\"headcell\">日積算<br/>降水量(mm)</th>\n",
       " <th class=\"headcell\">日最大<br/>風速(m/s)</th>\n",
       " <th class=\"headcell\">日積算<br/>日照時間(時)</th>\n",
       " </tr>\n",
       " <tr>\n",
       " <td>12.8 (12:30)</td>\n",
       " <td>-1.5 (07:20)</td>\n",
       " <td>0.0</td>\n",
       " <td>4.6 (18:50)</td>\n",
       " <td>6.1</td>\n",
       " </tr>\n",
       " </table>]"
      ]
     },
     "execution_count": 240,
     "metadata": {},
     "output_type": "execute_result"
    }
   ],
   "source": [
    "# tableタグの'amedas-point-detail-entries-table'クラスの内容を探し出す\n",
    "www_bs = w_bs.find_all('table', class_='amedas-point-detail-entries-table')\n",
    "\n",
    "# 内容表示\n",
    "www_bs"
   ]
  },
  {
   "cell_type": "code",
   "execution_count": 241,
   "metadata": {},
   "outputs": [
    {
     "data": {
      "text/plain": [
       "['4.1',\n",
       " '6.3',\n",
       " '9.2',\n",
       " '9.2',\n",
       " '8.9',\n",
       " '4.5',\n",
       " '9.1',\n",
       " '9.1',\n",
       " '5.7',\n",
       " '8.5',\n",
       " '9.1',\n",
       " '8.9',\n",
       " '2.9',\n",
       " '9.2',\n",
       " '0.4',\n",
       " '0.8',\n",
       " '7.2',\n",
       " '8.8',\n",
       " '9.2',\n",
       " '4.8',\n",
       " '8.9',\n",
       " '4.7\\xa0(13:30)',\n",
       " '9.4',\n",
       " '12.8\\xa0(12:30)',\n",
       " '-1.5\\xa0(07:20)',\n",
       " '0.0',\n",
       " '4.6\\xa0(18:50)',\n",
       " '6.1']"
      ]
     },
     "execution_count": 241,
     "metadata": {},
     "output_type": "execute_result"
    }
   ],
   "source": [
    "# tdタグを取り出す\n",
    "for w_td in www_bs[0].select('td'):\n",
    "\n",
    "    # テキストデータのみ抽出\n",
    "    ww_td = w_td.text.strip()\n",
    "    \n",
    "    # リストに格納\n",
    "    wet_td.append(ww_td)\n",
    "\n",
    "# 内容表示\n",
    "wet_td"
   ]
  },
  {
   "cell_type": "code",
   "execution_count": 242,
   "metadata": {},
   "outputs": [
    {
     "data": {
      "text/plain": [
       "['4.1',\n",
       " '6.3',\n",
       " '9.2',\n",
       " '9.2',\n",
       " '8.9',\n",
       " '4.5',\n",
       " '9.1',\n",
       " '9.1',\n",
       " '5.7',\n",
       " '8.5',\n",
       " '9.1',\n",
       " '8.9',\n",
       " '2.9',\n",
       " '9.2',\n",
       " '0.4',\n",
       " '0.8',\n",
       " '7.2',\n",
       " '8.8',\n",
       " '9.2',\n",
       " '4.8',\n",
       " '8.9',\n",
       " '9.4',\n",
       " '4.6\\xa0(18:50)',\n",
       " '6.1']"
      ]
     },
     "execution_count": 242,
     "metadata": {},
     "output_type": "execute_result"
    }
   ],
   "source": [
    "# 不要なデータを削除\n",
    "del wet_td[21]\n",
    "del wet_td[22:25]\n",
    "\n",
    "# 内容表示\n",
    "wet_td"
   ]
  },
  {
   "cell_type": "code",
   "execution_count": 243,
   "metadata": {},
   "outputs": [
    {
     "data": {
      "text/plain": [
       "['4.1',\n",
       " '6.3',\n",
       " '9.2',\n",
       " '9.2',\n",
       " '8.9',\n",
       " '4.5',\n",
       " '9.1',\n",
       " '9.1',\n",
       " '5.7',\n",
       " '8.5',\n",
       " '9.1',\n",
       " '8.9',\n",
       " '2.9',\n",
       " '9.2',\n",
       " '0.4',\n",
       " '0.8',\n",
       " '7.2',\n",
       " '8.8',\n",
       " '9.2',\n",
       " '4.8',\n",
       " '8.9',\n",
       " '9.4',\n",
       " '6.1']"
      ]
     },
     "execution_count": 243,
     "metadata": {},
     "output_type": "execute_result"
    }
   ],
   "source": [
    "# 不要なデータを削除\n",
    "del wet_td[22]\n",
    "\n",
    "# 内容表示\n",
    "wet_td"
   ]
  },
  {
   "cell_type": "markdown",
   "metadata": {},
   "source": [
    "### csvファイル読み込み"
   ]
  },
  {
   "cell_type": "code",
   "execution_count": 259,
   "metadata": {},
   "outputs": [],
   "source": [
    "# モジュールの呼び出し\n",
    "import csv"
   ]
  },
  {
   "cell_type": "code",
   "execution_count": 260,
   "metadata": {},
   "outputs": [
    {
     "name": "stdout",
     "output_type": "stream",
     "text": [
      "['day,sleep time,sleep latency,efficiency', '2023/12/18,7:50:35,0:08:26,97.70%', '2023/12/19,5:21:01,0:22:41,92.80%', '2023/12/20,5:48:05,0:04:11,97.80%', '2023/12/21,4:08:56,0:24:24,89.60%', '2023/12/22,3:42:46,0:18:44,91.00%', '2023/12/23,6:49:54,0:16:08,95.10%', '2023/12/24,6:25:29,0:13:13,95.80%', '2023/12/25,6:33:29,0:12:13,96.30%', '2023/12/26,2:31:45,0:06:32,92.70%', '2023/12/27,3:11:56,0:25:14,87.70%', '2023/12/28,6:31:21,0:13:02,95.80%', '2023/12/29,6:02:01,0:09:18,96.80%', '2023/12/30,3:02:50,0:12:47,92.40%', '2023/12/31,3:47:02,0:07:28,95.40%', '2024/1/1,6:10:46,0:25:01,93.00%', '2024/1/2,2:50:43,0:10:07,93.40%', '2024/1/3,4:08:30,0:28:21,89.20%', '2024/1/4,5:37:35,1:28:20,78.80%', '2024/1/5,6:06:15,0:48:29,88.00%', '2024/1/6,7:25:46,0:19:01,95.30%', '2024/1/7,5:31:36,0:17:37,94.30%', '2024/1/8,6:02:31,0:23:22,93.30%', '2024/1/9,7:58:35,0:04:45,98.60%', '2024/1/10,5:32:03,0:18:21,94.10%']\n"
     ]
    }
   ],
   "source": [
    "# csvファイルの読み込み\n",
    "with open('/Users/kaho/Downloads/DS_program/solo/HW_3/sleep0.csv', encoding = 'utf8')as f:\n",
    "\n",
    "   # csvファイルをリスト化\n",
    "   sleep = [l.strip() for l in f.readlines()]\n",
    "   print(sleep)"
   ]
  },
  {
   "cell_type": "code",
   "execution_count": 261,
   "metadata": {},
   "outputs": [
    {
     "data": {
      "text/plain": [
       "['day,sleep time,sleep latency,efficiency',\n",
       " '2023/12/18,7:50:35,0:08:26,97.70%',\n",
       " '2023/12/19,5:21:01,0:22:41,92.80%',\n",
       " '2023/12/20,5:48:05,0:04:11,97.80%',\n",
       " '2023/12/21,4:08:56,0:24:24,89.60%',\n",
       " '2023/12/22,3:42:46,0:18:44,91.00%',\n",
       " '2023/12/23,6:49:54,0:16:08,95.10%',\n",
       " '2023/12/24,6:25:29,0:13:13,95.80%',\n",
       " '2023/12/25,6:33:29,0:12:13,96.30%',\n",
       " '2023/12/26,2:31:45,0:06:32,92.70%',\n",
       " '2023/12/27,3:11:56,0:25:14,87.70%',\n",
       " '2023/12/28,6:31:21,0:13:02,95.80%',\n",
       " '2023/12/29,6:02:01,0:09:18,96.80%',\n",
       " '2023/12/30,3:02:50,0:12:47,92.40%',\n",
       " '2023/12/31,3:47:02,0:07:28,95.40%',\n",
       " '2024/1/1,6:10:46,0:25:01,93.00%',\n",
       " '2024/1/2,2:50:43,0:10:07,93.40%',\n",
       " '2024/1/3,4:08:30,0:28:21,89.20%',\n",
       " '2024/1/4,5:37:35,1:28:20,78.80%',\n",
       " '2024/1/5,6:06:15,0:48:29,88.00%',\n",
       " '2024/1/6,7:25:46,0:19:01,95.30%',\n",
       " '2024/1/7,5:31:36,0:17:37,94.30%',\n",
       " '2024/1/8,6:02:31,0:23:22,93.30%',\n",
       " '2024/1/9,7:58:35,0:04:45,98.60%',\n",
       " '2024/1/10,5:32:03,0:18:21,94.10%']"
      ]
     },
     "execution_count": 261,
     "metadata": {},
     "output_type": "execute_result"
    }
   ],
   "source": [
    "sleep"
   ]
  }
 ],
 "metadata": {
  "kernelspec": {
   "display_name": "Python 3",
   "language": "python",
   "name": "python3"
  },
  "language_info": {
   "codemirror_mode": {
    "name": "ipython",
    "version": 3
   },
   "file_extension": ".py",
   "mimetype": "text/x-python",
   "name": "python",
   "nbconvert_exporter": "python",
   "pygments_lexer": "ipython3",
   "version": "3.9.10"
  },
  "orig_nbformat": 4
 },
 "nbformat": 4,
 "nbformat_minor": 2
}
